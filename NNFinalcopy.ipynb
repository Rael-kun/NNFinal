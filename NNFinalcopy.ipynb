{
 "cells": [
  {
   "cell_type": "markdown",
   "metadata": {},
   "source": [
    "# Libraries"
   ]
  },
  {
   "cell_type": "code",
   "execution_count": 32,
   "metadata": {},
   "outputs": [
    {
     "name": "stdout",
     "output_type": "stream",
     "text": [
      "Using device: cuda\n"
     ]
    }
   ],
   "source": [
    "import tqdm\n",
    "import torch\n",
    "import torch.nn as nn\n",
    "from torch.utils.data import DataLoader, TensorDataset, Dataset, random_split\n",
    "from torch.optim import Adam\n",
    "import torch.nn.functional as F\n",
    "import numpy as np\n",
    "\n",
    "# for teacher\n",
    "import random\n",
    "\n",
    "from sklearn.model_selection import train_test_split\n",
    "\n",
    "# Side variables\n",
    "device = torch.device('cuda' if torch.cuda.is_available() else 'cpu')\n",
    "print(\"Using device:\", device)\n",
    "base_type = np.float32\n",
    "torch_type = torch.float32\n",
    "batch_size = 128\n",
    "window_length = 256 # Data points will hold 1024 tokens of observations (should be 1/4 average song length in tokens, remember to remove outliers)\n",
    "window_step_size = 1 # Sliding window will move this much each time (higher numbers means less data, but less overfitting to similar data)\n"
   ]
  },
  {
   "cell_type": "markdown",
   "metadata": {},
   "source": [
    "# Load Data / Tokenize"
   ]
  },
  {
   "cell_type": "code",
   "execution_count": 33,
   "metadata": {},
   "outputs": [
    {
     "name": "stdout",
     "output_type": "stream",
     "text": [
      "['noteD4', '1/2', '</simul>', '<simul>', 'rest']\n"
     ]
    }
   ],
   "source": [
    "# load\n",
    "data = []\n",
    "with open(\"./out.txt\", \"r\") as file:\n",
    "    data = file.read().splitlines()\n",
    "\n",
    "print(data[5:10])"
   ]
  },
  {
   "cell_type": "code",
   "execution_count": 34,
   "metadata": {},
   "outputs": [
    {
     "name": "stdout",
     "output_type": "stream",
     "text": [
      "115\n"
     ]
    }
   ],
   "source": [
    "# now tokenize\n",
    "unique_tokens = set(list(data) + [\"PAD\"])\n",
    "print(len(unique_tokens))\n",
    "# mapping\n",
    "note_to_token = {note: idx for idx, note in enumerate(unique_tokens)}\n",
    "token_to_note = {idx: note for note, idx in note_to_token.items()}\n"
   ]
  },
  {
   "cell_type": "code",
   "execution_count": 35,
   "metadata": {},
   "outputs": [
    {
     "name": "stdout",
     "output_type": "stream",
     "text": [
      "{'noteF#6': 0, 'noteA1': 1, '1/6': 2, 'noteB0': 3, 'noteC#5': 4, 'noteG5': 5, 'noteF1': 6, 'noteG#4': 7, 'noteE3': 8, 'rest': 9, 'noteE-8': 10, 'noteB6': 11, 'PAD': 12, '3/8': 13, 'noteG7': 14, 'noteB-4': 15, 'noteF3': 16, '1/16': 17, 'noteE-2': 18, 'noteB-1': 19, 'noteG#1': 20, 'noteB-3': 21, '<end_song>': 22, 'noteF#3': 23, 'noteD2': 24, 'noteB-6': 25, 'noteE7': 26, 'noteF2': 27, 'noteC#8': 28, '1': 29, 'noteA6': 30, '1/3': 31, 'noteF#2': 32, 'noteB4': 33, '3': 34, 'noteE-3': 35, '4': 36, 'noteB3': 37, 'noteF#8': 38, 'noteA3': 39, 'noteA2': 40, 'noteE8': 41, 'noteG#0': 42, '<simul>': 43, 'noteE-4': 44, 'noteC3': 45, 'noteD8': 46, 'noteE-1': 47, 'noteC#3': 48, '2': 49, 'noteC7': 50, 'noteG#6': 51, 'noteC4': 52, 'noteF#1': 53, 'noteE-5': 54, 'noteC6': 55, '</simul>': 56, 'noteF#7': 57, 'noteE-6': 58, 'noteE2': 59, 'noteA7': 60, 'noteA4': 61, 'noteC#7': 62, 'noteA5': 63, 'noteD7': 64, 'noteC#4': 65, '2/3': 66, 'noteG#8': 67, 'noteB1': 68, 'noteC#1': 69, 'noteF5': 70, 'noteB5': 71, '3/4': 72, 'noteB-7': 73, 'noteB-2': 74, 'noteB2': 75, 'noteB-5': 76, 'noteD3': 77, 'noteA0': 78, 'noteB-8': 79, 'noteG3': 80, 'noteF7': 81, 'noteG#5': 82, 'noteC2': 83, '1/2': 84, 'noteF#5': 85, 'noteG1': 86, '3/2': 87, 'noteB7': 88, 'noteF#4': 89, 'noteD6': 90, '1/4': 91, 'noteE5': 92, 'noteF#0': 93, 'noteF4': 94, 'noteE6': 95, 'noteE1': 96, 'noteD5': 97, 'noteC#2': 98, 'noteE4': 99, 'noteB-0': 100, 'noteD4': 101, 'noteG#7': 102, 'noteG#2': 103, 'noteG6': 104, 'noteC1': 105, 'noteG#3': 106, 'noteC#6': 107, 'noteE-7': 108, 'noteD1': 109, 'noteC5': 110, 'noteF6': 111, '1/8': 112, 'noteG4': 113, 'noteG2': 114}\n"
     ]
    }
   ],
   "source": [
    "print(note_to_token)"
   ]
  },
  {
   "cell_type": "markdown",
   "metadata": {},
   "source": [
    "# Data Preprocessing"
   ]
  },
  {
   "cell_type": "code",
   "execution_count": 36,
   "metadata": {},
   "outputs": [
    {
     "name": "stdout",
     "output_type": "stream",
     "text": [
      "22\n",
      "12\n"
     ]
    }
   ],
   "source": [
    "end_token = note_to_token[\"<end_song>\"]\n",
    "pad_token = note_to_token[\"PAD\"]\n",
    "print(end_token)\n",
    "print(pad_token)"
   ]
  },
  {
   "cell_type": "code",
   "execution_count": null,
   "metadata": {},
   "outputs": [],
   "source": [
    "data_inp = [note_to_token[tok] for tok in data]\n",
    "\n",
    "\n",
    "# Assume already tokenized (this is for transformer, must be adapted for other models)\n",
    "class MusicDataset(Dataset):\n",
    "    def __init__(self, data, window_length, step_size):\n",
    "        self.temp_data = data\n",
    "        self.window_length = window_length\n",
    "        self.step_size = step_size\n",
    "        self.final_data = self.apply_window()\n",
    "\n",
    "    def apply_window(self):\n",
    "        train_examples = []\n",
    "        song_data = []\n",
    "        cur_seq = []\n",
    "\n",
    "        # first split data by songs\n",
    "        for tok in self.temp_data:\n",
    "            cur_seq.append(tok)\n",
    "            if(tok == end_token):\n",
    "                song_data.append(cur_seq)\n",
    "                cur_seq = []\n",
    "        \n",
    "        # then apply sliding windows\n",
    "        for song in song_data:\n",
    "            idx = 0\n",
    "            # create sliding windows\n",
    "            for start_idx in range(0, len(song) - self.window_length + 1, self.step_size):\n",
    "                end_idx = start_idx + self.window_length\n",
    "                idx = end_idx # store most recent end_idx\n",
    "                train_example = song[start_idx:end_idx] # training of length window_length\n",
    "                train_examples.append(train_example)\n",
    "            \n",
    "            # now add ending and pad (so model can learn how to finish predicting)\n",
    "            train_example = song[idx:]\n",
    "            train_example += [0] * (self.window_length - len(train_example))\n",
    "            train_examples.append(train_example)\n",
    "\n",
    "\n",
    "        return train_examples\n",
    "\n",
    "\n",
    "    def __len__(self):\n",
    "        return len(self.final_data)\n",
    "\n",
    "    def __getitem__(self, idx):\n",
    "        window = self.final_data[idx]\n",
    "\n",
    "        return torch.tensor(window).to(device)\n",
    "    \n",
    "\n",
    "dataset = MusicDataset(data_inp, window_length, window_step_size)\n",
    "\n",
    "train_size = int(0.8 * len(dataset))\n",
    "val_size = len(dataset) - train_size\n",
    "\n",
    "train_dataset, val_dataset = random_split(dataset, [train_size, val_size])\n",
    "\n",
    "training_dataloader = DataLoader(train_dataset, batch_size=batch_size, shuffle=True)\n",
    "validation_dataloader = DataLoader(val_dataset, batch_size=batch_size, shuffle=False)\n",
    "\n",
    "vocab_len = len(unique_tokens)\n"
   ]
  },
  {
   "cell_type": "code",
   "execution_count": 38,
   "metadata": {},
   "outputs": [],
   "source": [
    "from collections import Counter\n",
    "\n",
    "# generate music\n",
    "\n",
    "# for now, generate a fixed length, if we add start and end tokens then we can also do that\n",
    "\n",
    "def generate_music(model, start_tokens, temperature=1.0, repitition_penalty=1.0, recent_window=10, num_to_generate=500):\n",
    "    notes = []\n",
    "    lengths = []\n",
    "    for k,v in note_to_token.items():\n",
    "        try:\n",
    "            eval(k)\n",
    "            lengths.append(v)\n",
    "        except:\n",
    "            if k[:4] == \"note\" or k == \"rest\":\n",
    "                notes.append(v)\n",
    "\n",
    "    bad_tokens = []\n",
    "\n",
    "    model.eval()\n",
    "\n",
    "    predicted_tokens = torch.tensor(start_tokens).clone().detach().unsqueeze(0) # (1, len(start_tokens))\n",
    "\n",
    "    # iteratively predict then add to start_tokens\n",
    "    simul_open = 0\n",
    "\n",
    "    for i in range(num_to_generate):\n",
    "        with torch.no_grad():\n",
    "            # grab most recent tokens\n",
    "            logits = model(predicted_tokens[:, -(window_length):]) # (1, len(predicted_tokens), num_tokens)\n",
    "            logits = logits[:, -1, :] # grabs last token\n",
    "\n",
    "            # apply repitition penalty\n",
    "            recent_tokens = predicted_tokens[0, -recent_window:].tolist()\n",
    "\n",
    "            if predicted_tokens[0, -1] in notes:\n",
    "                logits[:, notes] = float('-inf')\n",
    "                logits[:, [note_to_token[\"<simul>\"], note_to_token[\"</simul>\"], note_to_token[\"<end_song>\"]]] = float('-inf')\n",
    "            elif predicted_tokens[0, -1] in lengths:\n",
    "                logits[:, lengths] = float('-inf')\n",
    "            if predicted_tokens[0, -1] not in notes:\n",
    "                c = Counter(recent_tokens)\n",
    "                for token_id in recent_tokens:\n",
    "                    logits[0, token_id] -= repitition_penalty * pow(2, c[token_id]-1)\n",
    "\n",
    "            if simul_open > 0:\n",
    "                logits[:, note_to_token[\"<simul>\"]] = float('-inf')\n",
    "                if simul_open % 2 == 0:\n",
    "                    logits[:, note_to_token[\"</simul>\"]] += simul_open / 2\n",
    "                if simul_open > 9:\n",
    "                    logits[:, note_to_token[\"</simul>\"]] += 999999\n",
    "\n",
    "            if simul_open == 0:\n",
    "                logits[:, note_to_token[\"</simul>\"]] = float('-inf')\n",
    "\n",
    "\n",
    "            # grab probs\n",
    "            probs = torch.softmax(logits / temperature, dim=-1) # (1, num_tokens)\n",
    "            pred_token = torch.multinomial(probs, num_samples=1) # (1, 1)\n",
    "\n",
    "            if pred_token.item() == note_to_token[\"<simul>\"]:\n",
    "                simul_open = 1\n",
    "            elif pred_token.item() == note_to_token[\"</simul>\"]:\n",
    "                simul_open = 0\n",
    "            elif simul_open > 0:\n",
    "                simul_open += 1\n",
    "\n",
    "        predicted_tokens = torch.cat([predicted_tokens, pred_token], dim=1) # (1, len(current sequence length))\n",
    "\n",
    "    return predicted_tokens.squeeze(0).tolist()"
   ]
  },
  {
   "cell_type": "code",
   "execution_count": 39,
   "metadata": {},
   "outputs": [],
   "source": [
    "from matplotlib import pyplot as plt\n",
    "def Display_Plot(train_loss, valid_loss, model_name):\n",
    "    # Get error metrics\n",
    "    train_err = np.array(train_loss)\n",
    "    val_err = np.array(valid_loss)\n",
    "    # Plot training and test errors\n",
    "    plt.figure(figsize=(8, 6))\n",
    "    plt.plot(range(1, len(train_err) + 1), train_err, label=\"train_loss\", color=\"red\", linewidth=2)\n",
    "    plt.plot(range(1, len(val_err) + 1), val_err, label=\"val_loss\", color=\"green\", linewidth=2)\n",
    "\n",
    "    plt.xlabel(\"Epochs\")\n",
    "    plt.ylabel(\"Losses\")\n",
    "    plt.title(model_name)\n",
    "    plt.legend()\n",
    "\n",
    "    plt.show()"
   ]
  },
  {
   "cell_type": "markdown",
   "metadata": {},
   "source": [
    "# Transformer"
   ]
  },
  {
   "cell_type": "code",
   "execution_count": 45,
   "metadata": {},
   "outputs": [],
   "source": [
    "#  Model variables\n",
    "d_model = 128 # Embed Dim\n",
    "n_decoder_layers = 4 # lower if not that complex and wanting speedup\n",
    "n_heads = 8 # Number of Attention Heads\n",
    "d_ff = 512 # Feed Forward Dimensionality (AIAYN paper reccomends 4 times d_model size)\n",
    "learning_rate = 1e-4 # Maybe increase?\n",
    "num_epochs = 10 # Change this later so it doesn't take 10 years to run"
   ]
  },
  {
   "cell_type": "code",
   "execution_count": 46,
   "metadata": {},
   "outputs": [],
   "source": [
    "# Standard positonal encoding used here, could also try time encoding since notes have different timestamps\n",
    "class PositionalEncoding(nn.Module):\n",
    "    def __init__(self, d_model, win_len):\n",
    "        super(PositionalEncoding, self).__init__()\n",
    "        pe = torch.zeros(win_len, d_model) # (win_len, d_model)\n",
    "        position = torch.arange(0, win_len, dtype=torch_type).unsqueeze(1) # (win_len, 1)\n",
    "        div_term = torch.exp(torch.arange(0, d_model, 2).float()*(-torch.log(torch.tensor(10000.0))/d_model)) # (d_model/2)\n",
    "        pe[:, 0::2] = torch.sin(position*div_term)\n",
    "        pe[:, 1::2] = torch.cos(position*div_term)\n",
    "        pe = pe.unsqueeze(0) # (1, win_len, d_model)\n",
    "        self.pe = pe.to(device)\n",
    "\n",
    "    def forward(self, x):\n",
    "        x = x + self.pe[:, :x.size(1), :]\n",
    "        return x\n",
    "\n",
    "\n",
    "# mask\n",
    "def generate_causal_mask(size):\n",
    "    # size should be target size\n",
    "    mask = torch.triu(torch.ones(size, size, device=device), diagonal=1)\n",
    "    mask = mask.masked_fill(mask == 1, float('-inf'))\n",
    "    '''\n",
    "    [0, -inf, -inf, -inf]\n",
    "    [0,   0,  -inf, -inf]\n",
    "    [0,   0,    0,  -inf]\n",
    "    [0,   0,    0,    0 ]\n",
    "    Yay for triangle masking\n",
    "    '''\n",
    "    return mask\n"
   ]
  },
  {
   "cell_type": "code",
   "execution_count": 47,
   "metadata": {},
   "outputs": [],
   "source": [
    "# Actual decoder\n",
    "class MusicTransformer(nn.Module):\n",
    "    def __init__(self, num_tokens, d_model=d_model, nhead=n_heads, dim_ff=d_ff, win_len=window_length, layers=n_decoder_layers):\n",
    "        super(MusicTransformer, self).__init__()\n",
    "        self.d_model = d_model\n",
    "        self.nheads = nhead\n",
    "        self.dim_ff = dim_ff\n",
    "        self.win_len = win_len\n",
    "        self.layers = layers\n",
    "\n",
    "        # pre-transformer\n",
    "        self.tok_embed = nn.Embedding(num_tokens, d_model)\n",
    "        self.pos_enc = PositionalEncoding(d_model, win_len)\n",
    "        self.out_proj = nn.Linear(d_model, num_tokens) # final projection for token prediction\n",
    "\n",
    "        # transformer part\n",
    "        decoder_layer = nn.TransformerDecoderLayer(d_model, nhead, dim_ff, batch_first=True)\n",
    "        self.decoder = nn.TransformerDecoder(decoder_layer, num_layers=self.layers)\n",
    "\n",
    "\n",
    "    def forward(self, x, tgt_mask=None):\n",
    "        '''\n",
    "        x is the tokenized notes  # (batch_size, win_len)\n",
    "        tgt_mask masks the predictions\n",
    "        '''\n",
    "\n",
    "        x_seq = self.tok_embed(x) # (batch_size, 1, d_model)\n",
    "        x_seq = self.pos_enc(x_seq) # (batch_size, 1, d_model)\n",
    "\n",
    "        decoder_output = self.decoder(x_seq, x_seq, tgt_mask=tgt_mask) # (batch_size, win_len, d_model)\n",
    "        pred = self.out_proj(decoder_output) # (batch, win_len, num_tokens) \n",
    "      \n",
    "        return pred\n",
    "\n"
   ]
  },
  {
   "cell_type": "code",
   "execution_count": null,
   "metadata": {},
   "outputs": [
    {
     "name": "stdout",
     "output_type": "stream",
     "text": [
      "\n",
      "Epoch [1/10]\n"
     ]
    },
    {
     "name": "stderr",
     "output_type": "stream",
     "text": [
      "                                                                             \r"
     ]
    },
    {
     "name": "stdout",
     "output_type": "stream",
     "text": [
      "Training Loss: 0.2519\n"
     ]
    },
    {
     "name": "stderr",
     "output_type": "stream",
     "text": [
      "                                                               \r"
     ]
    },
    {
     "name": "stdout",
     "output_type": "stream",
     "text": [
      "Validation Loss: 0.0058\n",
      "\n",
      "Epoch [2/10]\n"
     ]
    },
    {
     "name": "stderr",
     "output_type": "stream",
     "text": [
      "                                                                             \r"
     ]
    },
    {
     "name": "stdout",
     "output_type": "stream",
     "text": [
      "Training Loss: 0.0056\n"
     ]
    },
    {
     "name": "stderr",
     "output_type": "stream",
     "text": [
      "                                                               \r"
     ]
    },
    {
     "name": "stdout",
     "output_type": "stream",
     "text": [
      "Validation Loss: 0.0051\n",
      "\n",
      "Epoch [3/10]\n"
     ]
    },
    {
     "name": "stderr",
     "output_type": "stream",
     "text": [
      "                                                                             \r"
     ]
    },
    {
     "name": "stdout",
     "output_type": "stream",
     "text": [
      "Training Loss: 0.0051\n"
     ]
    },
    {
     "name": "stderr",
     "output_type": "stream",
     "text": [
      "                                                               \r"
     ]
    },
    {
     "name": "stdout",
     "output_type": "stream",
     "text": [
      "Validation Loss: 0.0047\n",
      "\n",
      "Epoch [4/10]\n"
     ]
    },
    {
     "name": "stderr",
     "output_type": "stream",
     "text": [
      "                                                                             \r"
     ]
    },
    {
     "name": "stdout",
     "output_type": "stream",
     "text": [
      "Training Loss: 0.0048\n"
     ]
    },
    {
     "name": "stderr",
     "output_type": "stream",
     "text": [
      "                                                               \r"
     ]
    },
    {
     "name": "stdout",
     "output_type": "stream",
     "text": [
      "Validation Loss: 0.0044\n",
      "\n",
      "Epoch [5/10]\n"
     ]
    },
    {
     "name": "stderr",
     "output_type": "stream",
     "text": [
      "                                                                            \r"
     ]
    },
    {
     "ename": "KeyboardInterrupt",
     "evalue": "",
     "output_type": "error",
     "traceback": [
      "\u001b[0;31m---------------------------------------------------------------------------\u001b[0m",
      "\u001b[0;31mKeyboardInterrupt\u001b[0m                         Traceback (most recent call last)",
      "Cell \u001b[0;32mIn[48], line 82\u001b[0m\n\u001b[1;32m     79\u001b[0m     loss\u001b[38;5;241m.\u001b[39mbackward()\n\u001b[1;32m     80\u001b[0m     optimizer\u001b[38;5;241m.\u001b[39mstep()\n\u001b[0;32m---> 82\u001b[0m     epoch_loss \u001b[38;5;241m+\u001b[39m\u001b[38;5;241m=\u001b[39m \u001b[43mloss\u001b[49m\u001b[38;5;241;43m.\u001b[39;49m\u001b[43mitem\u001b[49m\u001b[43m(\u001b[49m\u001b[43m)\u001b[49m\n\u001b[1;32m     83\u001b[0m     progress_bar\u001b[38;5;241m.\u001b[39mset_postfix(loss\u001b[38;5;241m=\u001b[39mloss\u001b[38;5;241m.\u001b[39mitem())\n\u001b[1;32m     85\u001b[0m avg_epoch_loss \u001b[38;5;241m=\u001b[39m epoch_loss \u001b[38;5;241m/\u001b[39m \u001b[38;5;28mlen\u001b[39m(training_dataloader)\n",
      "\u001b[0;31mKeyboardInterrupt\u001b[0m: "
     ]
    }
   ],
   "source": [
    "my_mask = generate_causal_mask(window_length) # win_len by win_len mask\n",
    "\n",
    "# Create model\n",
    "num_tokens = vocab_len\n",
    "model = MusicTransformer(num_tokens, d_model, n_heads, d_ff, window_length, n_decoder_layers).to(device)\n",
    "\n",
    "# Use Adam cause he's so cool\n",
    "optimizer = Adam(model.parameters(), lr=learning_rate)\n",
    "criterion = nn.CrossEntropyLoss()\n",
    "\n",
    "transformer_train_losses = []\n",
    "transformer_valid_losses = []\n",
    "\n",
    "from tqdm import tqdm\n",
    "\n",
    "for epoch in range(num_epochs):\n",
    "    model.train()\n",
    "    epoch_loss = 0  # cumulative loss\n",
    "\n",
    "    print(f\"\\nEpoch [{epoch+1}/{num_epochs}]\")\n",
    "    progress_bar = tqdm(training_dataloader, desc=\"Training\", leave=False)\n",
    "    for batch in progress_bar:\n",
    "        inp = batch[:, :-1]\n",
    "        tgt = batch[:, 1:]\n",
    "\n",
    "        optimizer.zero_grad()\n",
    "\n",
    "        output = model(inp)\n",
    "        loss = criterion(output.contiguous().view(-1, num_tokens), tgt.reshape(-1))\n",
    "        loss.backward()\n",
    "        optimizer.step()\n",
    "\n",
    "        epoch_loss += loss.item()\n",
    "        progress_bar.set_postfix(loss=loss.item())\n",
    "\n",
    "    avg_epoch_loss = epoch_loss / len(training_dataloader)\n",
    "    transformer_train_losses.append(avg_epoch_loss)\n",
    "    print(f\"Training Loss: {avg_epoch_loss:.4f}\")\n",
    "\n",
    "    # Validation\n",
    "    model.eval()\n",
    "    valid_loss = 0\n",
    "\n",
    "    with torch.no_grad():\n",
    "        for batch in tqdm(validation_dataloader, desc=\"Validation\", leave=False):\n",
    "            inp = batch[:, :-1]\n",
    "            tgt = batch[:, 1:]\n",
    "\n",
    "            output = model(inp)\n",
    "            loss = criterion(output.view(-1, num_tokens), tgt.reshape(-1))\n",
    "            valid_loss += loss.item()\n",
    "\n",
    "    avg_valid_loss = valid_loss / len(validation_dataloader)\n",
    "    transformer_valid_losses.append(avg_valid_loss)\n",
    "    print(f\"Validation Loss: {avg_valid_loss:.4f}\")\n",
    "\n",
    "\n",
    "\n"
   ]
  },
  {
   "cell_type": "code",
   "execution_count": 49,
   "metadata": {},
   "outputs": [
    {
     "data": {
      "image/png": "[encoded data removed]",
      "text/plain": [
       "<Figure size 800x600 with 1 Axes>"
      ]
     },
     "metadata": {},
     "output_type": "display_data"
    }
   ],
   "source": [
    "\n",
    "Display_Plot(train_loss=transformer_train_losses, valid_loss=transformer_valid_losses, model_name=\"Transformer Music\")"
   ]
  },
  {
   "cell_type": "code",
   "execution_count": 50,
   "metadata": {},
   "outputs": [],
   "source": [
    "torch.save(model.state_dict(), \"music_transformer_model.pth\")"
   ]
  },
  {
   "cell_type": "code",
   "execution_count": 51,
   "metadata": {},
   "outputs": [
    {
     "name": "stderr",
     "output_type": "stream",
     "text": [
      "/tmp/ipykernel_6905/1708115621.py:22: UserWarning: To copy construct from a tensor, it is recommended to use sourceTensor.clone().detach() or sourceTensor.clone().detach().requires_grad_(True), rather than torch.tensor(sourceTensor).\n",
      "  predicted_tokens = torch.tensor(start_tokens).clone().detach().unsqueeze(0) # (1, len(start_tokens))\n"
     ]
    },
    {
     "name": "stdout",
     "output_type": "stream",
     "text": [
      "['noteG#3', '1/4', 'noteC3', '1/4', 'noteC#2', '1/2', 'noteC2', '1/2', 'noteC3', '1/2', 'noteE2', '1/2', 'noteE3', '1/2', 'noteG#3', '1/2', 'rest', '3', 'noteC2', '1/2', 'noteF2', '1/2', 'noteC3', '1/2', 'noteC#3', '1/2', 'noteF3', '1/2', 'noteG#2', '1/2', 'noteB-1', '1/2', 'noteB-2', '1/2', 'noteF2', '1/2', 'noteG#2', '1/2', 'noteC#3', '1/2', 'noteF3', '1/2', 'noteG#3', '1/2', 'noteF#1', '1/2', 'noteF#2', '1/2', 'noteF#2', '1/2', 'noteA2', '1/2', 'noteF1', '1/2', 'noteC2', '1/2', 'noteF2', '1/2', 'noteF2', '1/2', 'noteB-2', '1/2', 'noteF#2', '1/2', 'noteF#2', '1/2', 'noteA2', '1/2', 'noteA2', '1/2', 'noteF1', '1/2', 'noteF1', '1/2', 'noteF2', '1/2', 'noteF2', '1/2', 'noteC2', '1/2', 'noteF#2', '1/2', 'noteF#2', '1/2', 'noteA2', '1/2', 'noteC3', '1/2', 'noteF1', '1/2', 'noteF1', '1/2', 'noteF2', '1/2', 'noteF2', '1/2', 'noteF#2', '1/2', 'noteF#2', '1/2', 'noteF#2', '1/2', 'noteA2', '1/2', 'noteF1', '1/2', 'noteF1', '1/2', 'noteF2', '1/2', 'noteA1', '1/2', 'noteF#2', '1/2', 'noteF#2', '1/2', 'noteG#2', '1/2', 'noteF1', '1/2', 'noteF1', '1/2', 'noteF#2', '1/2', 'noteF2', '1/2', 'noteF2', '1/2', 'noteA2', '1/2', 'noteA1', '1/2', 'noteF1', '1/2', 'noteF#2', '1/2', 'noteF#2', '1/2', 'noteF1', '1/2', 'noteF2', '1/2', 'noteF#1', '1/2', 'noteG1', '1/2', 'noteF#2', '1/2', 'noteF#1', '1/2', 'noteF#1', '1/2', 'noteF#2', '1/2', 'noteF1', '1/2', 'noteF#1', '1/2', 'noteG#1', '1/2', 'noteF2', '1/2', 'noteF1', '1/2', 'noteF#1', '1/2', 'noteF#2', '1/2', 'noteF1', '1/2', 'noteF#1', '1/2', 'noteF#2', '1/2', 'noteF1', '1/2', 'noteF#1', '1/2', 'noteF#1', '1/2', 'noteF1', '1/2', 'noteF1', '1/2', 'noteF#1', '1/2', 'noteF#2', '1/2', 'noteF1', '1/2', 'noteF#1', '1/2', 'noteB1', '1/2', 'noteF1', '1/2', 'noteC2', '1/2', 'noteF#1', '1/2', 'noteF#1', '1/2', 'noteF1', '1/2', 'noteC2', '1/2', 'noteF1', '1/2', 'noteE-1', '1/2', 'noteE-1', '1/2', 'noteA1', '1/2', 'noteF#1', '1/2', 'noteF#1', '1/2', 'noteF#2', '1/2', 'noteF1', '1/2', 'noteF1', '1/2', 'noteF1', '1/2', 'noteE-1', '1/2', 'noteE-1', '1/2', 'noteF#1', '1/2', 'noteF#1', '1/2', 'noteF1', '1/2', 'noteF1', '1/2', 'noteF1', '1/2', 'noteG#1', '1/2', 'noteC1', '1/2', 'noteB-1', '1/2', 'noteE-1', '1/2', 'noteE-1', '1/2', 'noteF1', '1/2', 'noteF1', '1/2', 'noteF2', '1/2', 'noteF#2', '1/2', 'noteE-1', '1/2', 'noteE-1', '1/2', 'noteE-1', '1/2', 'noteF1', '1/2', 'noteF1', '1/2', 'noteF2', '1/2', 'rest', '1/2', 'noteF#2', '1/2', 'noteE-1', '1/2', 'noteE-1', '1/2', 'noteF1', '1/2', 'noteF1', '1/2', 'noteG#1', '1/2', 'noteF#1', '1/2', 'noteF#1', '1/2', 'noteF#2', '1/2', 'noteE-1', '1/2', 'noteE-1', '1/2', 'noteF1', '1/2', 'noteF1', '1/2', 'noteF#1', '1/2', 'noteF#1', '1/2', 'noteF#1', '1/2', 'noteE-1', '1/2', 'noteE-1', '1/2', 'noteF1', '1/2', 'noteG1', '1/2', 'noteF1', '1/2', 'noteF#1', '1/2', 'noteF#1', '1/2', 'noteE-1', '1/2', 'noteE-1', '1/2', 'noteF1', '1/2', 'noteG1', '1/2', 'noteF1', '1/2', 'noteF#1', '1/2', 'noteF#1', '1/2', 'noteF#1', '1/2', 'noteF#2', '1/2', 'noteE-1', '1/2', 'noteF1', '1/2', 'noteF#1', '1/2', 'noteF#1', '1/2', 'noteG1', '1/2', 'noteF1', '1/2', 'noteA1', '1/2', 'noteA4', '1/2', 'noteF#1', '1/2', 'noteE1', '1/2', 'noteF#1', '1/2', 'noteF#1', '1/2', 'noteF1', '1/2', 'noteF1', '1/2', 'noteF#1', '1/2', 'noteG1', '1/2', 'noteF#1', '1/2', 'noteF#2', '1/2', 'noteG1', '1/2', 'noteF1', '1/2', 'noteF#1', '1/2', 'noteF#1', '1/2', 'noteB0', '1/2', 'noteD1', '1/2', 'noteF1', '1/2', 'noteG1', '1/2', 'noteF#1', '1/2', 'noteF#1', '1/2', 'noteA1', '1/2', 'noteF1', '1/2', 'noteB1', '1/2', 'noteD1', '1/2', 'noteE1', '1/2', 'noteF#1', '1/2', 'noteF1', '1/2', 'noteF#1', '1/2', 'noteF#1', '1/2', 'noteB0', '1/2', 'noteD1', '1/2', 'noteD1', '1/2', 'noteG1', '1/2', 'noteG1', '1/2', 'noteF#1', '1/2', 'noteF#1', '1/2', 'noteF#1', '1/2', 'noteD1', '1/2', 'noteD1', '1/2', 'noteG1', '1/2', 'noteG1', '1/2', 'noteF#1', '1/2', 'noteB0', '1/2', 'noteF#1', '1/2', 'noteF#1', '1/2', 'noteD1', '1/2', 'noteD1', '1/2', 'noteE-2', '1/2', 'noteF1', '1/2', 'noteF#1', '1/2', 'noteF#1', '1/2', 'noteF#1', '1/2', 'noteD1', '1/2', 'noteA1', '1/2', 'noteA1', '1/2', 'noteF#0', '1/2', 'noteD1', '1/2', 'noteF#1', '1/2', 'noteF#1', '1/2', 'noteG1', '1/2', 'noteG1', '1/2', 'noteB1', '1/2', 'noteF1', '1/2', 'noteF#1', '1/2', 'noteF#1', '1/2', 'noteF#1', '1/2', 'noteG1', '1/2', 'noteG1', '1/2', 'noteD1', '1/2', 'noteF#1', '1/2', 'noteF#1', '1/2', 'noteF1', '1/2', 'noteF#1', '1/2', 'noteG1', '1/2']\n",
      "None\n"
     ]
    }
   ],
   "source": [
    "# this just grabs a random batch and performs on it\n",
    "for batch in validation_dataloader:\n",
    "    bleh = generate_music(model, batch[2][:window_length], temperature=1.0)\n",
    "    notes = [token_to_note[token] for token in bleh]\n",
    "    print(print(notes[window_length:]))\n",
    "    break"
   ]
  },
  {
   "cell_type": "code",
   "execution_count": 52,
   "metadata": {},
   "outputs": [],
   "source": [
    "with open(\"music.txt\", \"w\") as file:\n",
    "    for item in notes[window_length:]:\n",
    "        file.write(item + \"\\n\")"
   ]
  }
 ],
 "metadata": {
  "kernelspec": {
   "display_name": "Python 3",
   "language": "python",
   "name": "python3"
  },
  "language_info": {
   "codemirror_mode": {
    "name": "ipython",
    "version": 3
   },
   "file_extension": ".py",
   "mimetype": "text/x-python",
   "name": "python",
   "nbconvert_exporter": "python",
   "pygments_lexer": "ipython3",
   "version": "3.10.12"
  }
 },
 "nbformat": 4,
 "nbformat_minor": 2
}
