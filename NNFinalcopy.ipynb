{
 "cells": [
  {
   "cell_type": "markdown",
   "metadata": {},
   "source": [
    "# Libraries"
   ]
  },
  {
   "cell_type": "code",
   "execution_count": 25,
   "metadata": {},
   "outputs": [
    {
     "name": "stdout",
     "output_type": "stream",
     "text": [
      "Using device: cuda\n"
     ]
    }
   ],
   "source": [
    "import torch\n",
    "import torch.nn as nn\n",
    "from torch.utils.data import DataLoader, TensorDataset, Dataset, random_split\n",
    "from torch.optim import Adam\n",
    "import torch.nn.functional as F\n",
    "import numpy as np\n",
    "\n",
    "# for teacher\n",
    "import random\n",
    "\n",
    "from sklearn.model_selection import train_test_split\n",
    "\n",
    "# Side variables\n",
    "device = torch.device('cuda' if torch.cuda.is_available() else 'cpu')\n",
    "print(\"Using device:\", device)\n",
    "base_type = np.float32\n",
    "torch_type = torch.float32\n",
    "batch_size = 32\n",
    "window_length = 1024 # Data points will hold 1024 tokens of observations (should be 1/4 average song length in tokens, remember to remove outliers)\n",
    "window_step_size = 64 # Sliding window will move this much each time (higher numbers means less data, but less overfitting to similar data)\n"
   ]
  },
  {
   "cell_type": "markdown",
   "metadata": {},
   "source": [
    "# Load Data / Tokenize"
   ]
  },
  {
   "cell_type": "code",
   "execution_count": 26,
   "metadata": {},
   "outputs": [
    {
     "name": "stdout",
     "output_type": "stream",
     "text": [
      "['<simul>', 'rest_1/2', 'noteD3_1/2', '</simul>', '<simul>']\n"
     ]
    }
   ],
   "source": [
    "# load\n",
    "data = []\n",
    "with open(\"./out.txt\", \"r\") as file:\n",
    "    data = file.read().splitlines()\n",
    "\n",
    "print(data[5:10])"
   ]
  },
  {
   "cell_type": "code",
   "execution_count": 27,
   "metadata": {},
   "outputs": [
    {
     "name": "stdout",
     "output_type": "stream",
     "text": [
      "1152\n"
     ]
    }
   ],
   "source": [
    "# now tokenize\n",
    "unique_tokens = set(list(data) + [\"PAD\"])\n",
    "print(len(unique_tokens))\n",
    "# mapping\n",
    "note_to_token = {note: idx for idx, note in enumerate(unique_tokens)}\n",
    "token_to_note = {idx: note for note, idx in note_to_token.items()}\n"
   ]
  },
  {
   "cell_type": "markdown",
   "metadata": {},
   "source": [
    "# Data Preprocessing"
   ]
  },
  {
   "cell_type": "code",
   "execution_count": 28,
   "metadata": {},
   "outputs": [
    {
     "name": "stdout",
     "output_type": "stream",
     "text": [
      "1042\n",
      "423\n"
     ]
    }
   ],
   "source": [
    "end_token = note_to_token[\"<end_song>\"]\n",
    "pad_token = note_to_token[\"PAD\"]\n",
    "print(end_token)\n",
    "print(pad_token)"
   ]
  },
  {
   "cell_type": "code",
   "execution_count": 29,
   "metadata": {},
   "outputs": [],
   "source": [
    "data_inp = [note_to_token[tok] for tok in data]\n",
    "\n",
    "\n",
    "# Assume already tokenized (this is for transformer, must be adapted for other models)\n",
    "class MusicDataset(Dataset):\n",
    "    def __init__(self, data, window_length, step_size):\n",
    "        self.temp_data = data\n",
    "        self.window_length = window_length\n",
    "        self.step_size = step_size\n",
    "        self.final_data = self.apply_window()\n",
    "\n",
    "    def apply_window(self):\n",
    "        train_examples = []\n",
    "        song_data = []\n",
    "        cur_seq = []\n",
    "\n",
    "        # first split data by songs\n",
    "        for tok in self.temp_data:\n",
    "            cur_seq.append(tok)\n",
    "            if(tok == end_token):\n",
    "                song_data.append(cur_seq)\n",
    "                cur_seq = []\n",
    "        \n",
    "        # then apply sliding windows\n",
    "        for song in song_data:\n",
    "            idx = 0\n",
    "            # create sliding windows\n",
    "            for start_idx in range(0, len(song) - self.window_length + 1, self.step_size):\n",
    "                end_idx = start_idx + self.window_length\n",
    "                idx = end_idx # store most recent end_idx\n",
    "                train_example = song[start_idx:end_idx] # training of length window_length\n",
    "                train_examples.append(train_example)\n",
    "            \n",
    "            # now add ending and pad (so model can learn how to finish predicting)\n",
    "            train_example = song[idx:]\n",
    "            train_example += [0] * (self.window_length - len(train_example))\n",
    "            train_examples.append(train_example)\n",
    "\n",
    "\n",
    "        return train_examples\n",
    "\n",
    "    #def apply_window(self):\n",
    "    #    # return sliding window data + labels\n",
    "    #    train_examples = []\n",
    "    #    # cycle through each window configuration, calculating start index and end index\n",
    "    #    for start_idx in range(0, len(self.temp_data) - self.window_length + 1, self.step_size):\n",
    "    #        end_idx = start_idx + self.window_length\n",
    "    #        train_example = self.temp_data[start_idx:end_idx] # training of length window_length\n",
    "    #        train_examples.append(train_example)\n",
    "    #        \n",
    "    #    return train_examples\n",
    "    \n",
    "                \n",
    "\n",
    "    def __len__(self):\n",
    "        return len(self.final_data)\n",
    "\n",
    "    def __getitem__(self, idx):\n",
    "        window = self.final_data[idx]\n",
    "\n",
    "        return torch.tensor(window).to(device)\n",
    "    \n",
    "\n",
    "dataset = MusicDataset(data_inp, window_length, window_step_size)\n",
    "\n",
    "train_size = int(0.8 * len(dataset))\n",
    "val_size = len(dataset) - train_size\n",
    "\n",
    "train_dataset, val_dataset = random_split(dataset, [train_size, val_size])\n",
    "\n",
    "training_dataloader = DataLoader(train_dataset, batch_size=batch_size, shuffle=True)\n",
    "validation_dataloader = DataLoader(val_dataset, batch_size=batch_size, shuffle=False)\n",
    "\n",
    "vocab_len = len(unique_tokens)\n"
   ]
  },
  {
   "cell_type": "code",
   "execution_count": 30,
   "metadata": {},
   "outputs": [],
   "source": [
    "# generate music\n",
    "# for now, generate a fixed length, if we add start and end tokens then we can also do that\n",
    "def generate_music(model, start_tokens, temperature=1.0, num_to_generate=window_length):\n",
    "    model.eval()\n",
    "\n",
    "    predicted_tokens = torch.tensor(start_tokens).clone().detach().unsqueeze(0) # (1, len(start_tokens))\n",
    "    # iteratively predict then add to start_tokens\n",
    "    for i in range(num_to_generate):\n",
    "        with torch.no_grad():\n",
    "            # grab most recent tokens\n",
    "            logits = model(predicted_tokens[:, -(window_length):]) # (1, len(predicted_tokens), num_tokens)\n",
    "            logits = logits[:, -1, :] # grabs last token \n",
    "            probs = torch.softmax(logits / temperature, dim=-1) # (1, num_tokens)\n",
    "            pred_token = torch.multinomial(probs, num_samples=1) # (1, 1)\n",
    "\n",
    "        predicted_tokens = torch.cat([predicted_tokens, pred_token], dim=1) # (1, len(current sequence length))\n",
    "\n",
    "    return predicted_tokens.squeeze(0).tolist()\n"
   ]
  },
  {
   "cell_type": "code",
   "execution_count": 31,
   "metadata": {},
   "outputs": [],
   "source": [
    "from matplotlib import pyplot as plt\n",
    "def Display_Plot(train_loss, valid_loss, model_name):\n",
    "    # Get error metrics\n",
    "    train_err = np.array(train_loss)\n",
    "    val_err = np.array(valid_loss)\n",
    "    # Plot training and test errors\n",
    "    plt.figure(figsize=(8, 6))\n",
    "    plt.plot(range(1, len(train_err) + 1), train_err, label=\"train_loss\", color=\"red\", linewidth=2)\n",
    "    plt.plot(range(1, len(val_err) + 1), val_err, label=\"val_loss\", color=\"green\", linewidth=2)\n",
    "\n",
    "    plt.xlabel(\"Epochs\")\n",
    "    plt.ylabel(\"Losses\")\n",
    "    plt.title(model_name)\n",
    "    plt.legend()\n",
    "\n",
    "    plt.show()"
   ]
  },
  {
   "cell_type": "markdown",
   "metadata": {},
   "source": [
    "# RNN"
   ]
  },
  {
   "cell_type": "code",
   "execution_count": 32,
   "metadata": {},
   "outputs": [],
   "source": [
    "# RNN Variables\n",
    "input_size = 256\n",
    "hidden_size = 512 # larger embed size may require larger dropout\n",
    "dropout = 0.2\n",
    "lr = 1e-4\n",
    "epochs = 20"
   ]
  },
  {
   "cell_type": "code",
   "execution_count": 11,
   "metadata": {},
   "outputs": [],
   "source": [
    "class Music_RNN(nn.Module):\n",
    "    def __init__(self, vocab_len, input_size, hidden_size, dropout):\n",
    "        super(Music_RNN, self).__init__()\n",
    "        self.embed = nn.Embedding(vocab_len, input_size)\n",
    "        self.RNN = nn.RNN(input_size, hidden_size, batch_first=True, num_layers=2, dropout=dropout)\n",
    "        self.layernorm = nn.LayerNorm(hidden_size)\n",
    "        self.drop = nn.Dropout(dropout)\n",
    "        self.ff = nn.Linear(hidden_size, vocab_len) # predicting next input autoregressively\n",
    "\n",
    "    def forward(self, x):\n",
    "        # x should be (batch_size, seq_len)\n",
    "        x = self.embed(x) # (batch_size, seq_len, input_size)\n",
    "        x, _ = self.RNN(x) # (batch_size, seq_len, hidden_size)\n",
    "        x = self.layernorm(x)\n",
    "        x = self.drop(x)\n",
    "        x_pred = self.ff(x) # batch_size, seq_len, vocab_len)\n",
    "\n",
    "        return x_pred "
   ]
  },
  {
   "cell_type": "code",
   "execution_count": 12,
   "metadata": {},
   "outputs": [],
   "source": [
    "model_rnn = Music_RNN(vocab_len, input_size, hidden_size, dropout).to(device)"
   ]
  },
  {
   "cell_type": "code",
   "execution_count": 13,
   "metadata": {},
   "outputs": [
    {
     "name": "stdout",
     "output_type": "stream",
     "text": [
      "Epoch: 0, Loss: 3.6892072796474045\n",
      "Validation loss: 3.0211245251256367\n",
      "Epoch: 1, Loss: 2.9130229546794393\n",
      "Validation loss: 2.693679952344229\n",
      "Epoch: 2, Loss: 2.6937166813858746\n",
      "Validation loss: 2.527476479840833\n",
      "Epoch: 3, Loss: 2.565764622507568\n",
      "Validation loss: 2.4082854792129162\n",
      "Epoch: 4, Loss: 2.4710312101653296\n",
      "Validation loss: 2.3201942235924475\n",
      "Epoch: 5, Loss: 2.394508806679061\n",
      "Validation loss: 2.240935536318047\n",
      "Epoch: 6, Loss: 2.329541761743084\n",
      "Validation loss: 2.1776201163613518\n",
      "Epoch: 7, Loss: 2.271680529194045\n",
      "Validation loss: 2.1229630750279096\n",
      "Epoch: 8, Loss: 2.2210050183552\n",
      "Validation loss: 2.060840130545372\n",
      "Epoch: 9, Loss: 2.1746289497214226\n",
      "Validation loss: 2.01269188661908\n",
      "Epoch: 10, Loss: 2.1320755297519027\n",
      "Validation loss: 1.9694968517436537\n",
      "Epoch: 11, Loss: 2.09336075577722\n",
      "Validation loss: 1.9232730699139973\n",
      "Epoch: 12, Loss: 2.0558978027226975\n",
      "Validation loss: 1.8847832568856173\n",
      "Epoch: 13, Loss: 2.0221226755801163\n",
      "Validation loss: 1.8454839046611342\n",
      "Epoch: 14, Loss: 1.9902912121124934\n",
      "Validation loss: 1.8107498343600783\n",
      "Epoch: 15, Loss: 1.9591804800158688\n",
      "Validation loss: 1.7768694418807363\n",
      "Epoch: 16, Loss: 1.9301418927946175\n",
      "Validation loss: 1.7453646119250807\n",
      "Epoch: 17, Loss: 1.9030515158836765\n",
      "Validation loss: 1.710946939712347\n",
      "Epoch: 18, Loss: 1.876344053981603\n",
      "Validation loss: 1.6812452112519465\n",
      "Epoch: 19, Loss: 1.8508094974926539\n",
      "Validation loss: 1.6521922211314357\n"
     ]
    },
    {
     "data": {
      "image/png": "[encoded data removed]",
      "text/plain": [
       "<Figure size 800x600 with 1 Axes>"
      ]
     },
     "metadata": {},
     "output_type": "display_data"
    }
   ],
   "source": [
    "# adapt loss and optimizer as needed\n",
    "criterion = nn.CrossEntropyLoss()\n",
    "optimizer = Adam(model_rnn.parameters(), lr=lr)\n",
    "\n",
    "train_losses = []\n",
    "valid_losses = []\n",
    "\n",
    "# train\n",
    "for epoch in range(epochs):\n",
    "    # Set to train\n",
    "    model_rnn.train()\n",
    "    # keep cumalitive losses\n",
    "    total_losses = 0.0\n",
    "\n",
    "    for batch in training_dataloader:\n",
    "        inp = batch[:, :-1] # grabs all but last\n",
    "        tgt = batch[:, 1:] # grabs all except first (shifted once)\n",
    "\n",
    "        optimizer.zero_grad()\n",
    "\n",
    "        preds = model_rnn.forward(inp) # make sure dimensions line up\n",
    "\n",
    "        loss = criterion(preds.view(-1, vocab_len), tgt.reshape(-1))\n",
    "        loss.backward()\n",
    "\n",
    "        optimizer.step()\n",
    "\n",
    "        total_losses += loss.item()\n",
    "\n",
    "    train_losses.append(total_losses / len(training_dataloader))\n",
    "    print(f\"Epoch: {epoch}, Loss: {total_losses / len(training_dataloader)}\")\n",
    "\n",
    "\n",
    "    # Validation\n",
    "    model_rnn.eval()\n",
    "\n",
    "    total_valid_losses = 0.0\n",
    "\n",
    "    with torch.no_grad():\n",
    "        for batch in validation_dataloader:\n",
    "            inp = batch[:, :-1] # grabs all but last\n",
    "            tgt = batch[:, 1:] # grabs all except first (shifted once)\n",
    "\n",
    "            preds = model_rnn.forward(inp) # make sure dimensions line up\n",
    "\n",
    "            loss = criterion(preds.view(-1, vocab_len), tgt.reshape(-1))\n",
    "            total_valid_losses += loss.item()\n",
    "\n",
    "    valid_losses.append(total_valid_losses / len(validation_dataloader))\n",
    "    print(f\"Validation loss: {total_valid_losses / len(validation_dataloader)}\")\n",
    "\n",
    "\n",
    "Display_Plot(train_loss=train_losses, valid_loss=valid_losses, model_name=\"RNN Music\")\n"
   ]
  },
  {
   "cell_type": "code",
   "execution_count": 14,
   "metadata": {},
   "outputs": [
    {
     "name": "stderr",
     "output_type": "stream",
     "text": [
      "C:\\Users\\Austi\\AppData\\Local\\Temp\\ipykernel_2320\\2880647662.py:6: UserWarning: To copy construct from a tensor, it is recommended to use sourceTensor.detach().clone() or sourceTensor.detach().clone().requires_grad_(True), rather than torch.tensor(sourceTensor).\n",
      "  predicted_tokens = torch.tensor(start_tokens).clone().detach().unsqueeze(0) # (1, len(start_tokens))\n"
     ]
    },
    {
     "name": "stdout",
     "output_type": "stream",
     "text": [
      "['noteB-4_1', 'noteG3_1/3', '</simul>', 'noteE4_1/3', 'noteA3_1/4', '<simul>', 'noteE4_1/4', 'noteG3_1/4', '</simul>', '<simul>', 'noteE4_1/4', 'noteB-3_1/4', 'noteC3_1/2', '</simul>', '<simul>', 'noteA4_1/4', 'noteA3_1/4', '</simul>', '<simul>', 'noteA5_1/4', 'noteG4_1/4', 'noteA3_1/4', '</simul>', '<simul>', 'noteB-5_1/4', 'noteE4_1/4', '</simul>', '<simul>', 'noteA5_1/4', 'noteA4_1/4', 'noteA3_1/4', '</simul>', '<simul>', 'noteA4_1', 'noteA5_1', 'noteA4_1/4', 'rest_2', '</simul>', '<simul>', 'noteF4_1/4', 'noteA3_1/4', '</simul>', '<simul>', 'noteA4_1/4', 'noteE4_1/4', '</simul>', '<simul>', 'noteD5_1/2', 'noteF3_1/4', '</simul>', 'noteA3_1/4', '<simul>', 'noteA4_1/2', 'rest_1/2', 'noteF3_1/4', '</simul>', 'noteA3_1/4', '<simul>', 'noteG4_1/2', 'rest_1', 'noteD3_1/4', '</simul>', 'noteA3_1/4', '<simul>', 'rest_1', 'noteF4_1', 'noteD3_1/4', '</simul>', 'noteA3_1/4', 'noteA3_1/4', 'noteC4_1/4', '<simul>', 'noteA4_1/4', 'noteA3_1/4', '</simul>', '<simul>', 'noteA5_1/4', 'noteA3_1/4', '</simul>', '<simul>', 'noteC6_1/4', 'noteB-3_1/4', '</simul>', '<simul>', 'noteB-5_1/4', 'noteD4_1/4', '</simul>', '<simul>', 'noteB-5_1/4', 'noteF4_1/4', '</simul>', '<simul>', 'noteD6_1/4', 'rest_2', '</simul>', 'noteA5_1/4', 'noteB5_1/4', 'noteD6_1/4', '<simul>', 'noteF#5_1/4', 'rest_1/2', '</simul>', 'noteB-5_1/4', '<simul>', 'noteG#5_1/4', 'rest_1', '</simul>', 'noteA5_1/4', 'noteD6_1/4', 'noteE5_1/4', '<simul>', 'noteD5_1/4', 'rest_1', '</simul>', 'noteD6_1/4', '<simul>', 'noteF5_1/4', 'rest_1/2', '</simul>', 'noteE5_1/4', '<simul>', 'rest_1/2', 'rest_1/2', '</simul>', 'noteF5_1/4', '<simul>', 'noteE-6_3/4', 'rest_1', 'rest_1', 'rest_1', 'noteB-2_1/4', '</simul>', 'noteF#2_1/4', '<simul>', 'rest_1/2', 'noteB-3_1/4', '</simul>', 'noteD4_1/4', '<simul>', 'noteD5_1/2', 'noteD4_1', '</simul>', 'noteF#4_1/4', '<simul>', 'noteD5_1/2', 'noteA4_1/4', '</simul>', 'noteG4_1/4', '<simul>', 'rest_1/4', 'noteC5_1', '</simul>', 'noteA4_1/4', '<simul>', 'noteD5_1/2', 'noteA4_1/4', '</simul>', 'noteD4_1/4', '<simul>', 'noteG5_1', 'noteF#4_1/4', '</simul>', 'noteA4_1/4', '<simul>', 'noteB4_1', 'noteD5_1', 'noteG4_1', 'noteB-3_1/2', '</simul>', '<simul>', 'noteD5_1/2', 'rest_1', '</simul>', 'noteA4_1/4', '<simul>', 'noteD5_1/2', 'noteA4_1/4', 'rest_1', '</simul>', 'noteG4_1/4', '<simul>', 'noteG5_1/2', 'noteG3_1/6', '</simul>', 'noteA4_1/6', '<simul>', 'noteG5_1/2', 'rest_2', 'rest_1', 'rest_1', 'noteD4_1/4', '</simul>', 'noteG3_1/4', '<simul>', 'noteD5_1/2', 'noteG4_1/4', '</simul>', 'noteD4_1/4', '<simul>', 'noteD5_1', 'noteF5_1', 'noteD4_1/2', 'noteG#3_3/2', '</simul>', 'noteF4_1/4', 'noteD3_1/4', 'noteE5_1/16', '<simul>', 'noteD5_1/2', 'noteB3_1/4', '</simul>', 'noteG3_1/4', '<simul>', 'noteC5_1/2', 'noteF4_1/4', '</simul>', 'noteD4_1/4', '<simul>', 'noteG#5_1/2', 'noteF4_1/4', 'noteB3_1/4', '</simul>', '<simul>', 'noteF5_1/4', 'noteC4_1/4', '</simul>', '<simul>', 'noteD5_1/2', 'noteD6_1/2', 'noteF4_1/4', '</simul>', 'noteB3_1/4', '<simul>', 'noteD5_1/2', 'noteF4_1/4', 'noteC#4_1/4', '</simul>', '<simul>', 'noteG4_1/2', 'noteE4_1/4', 'noteE3_1/4', '</simul>', '<simul>', 'noteB-4_1/4', 'noteG3_1/4', '</simul>', '<simul>', 'noteG4_1/4', 'noteE4_1/4', '</simul>', '<simul>', 'noteC5_1/4', 'noteF4_1', 'noteC4_1/2', '</simul>', 'noteG4_1/4', '<simul>', 'noteB4_1/4', 'noteG#4_1/4', '</simul>', '<simul>', 'noteE5_1/2', 'noteG4_1/4', '</simul>', 'noteA4_1/4', '<simul>', 'noteC5_1/2', 'noteF4_1/4', 'noteC4_1/4', '</simul>', '<simul>', 'noteG4_1/4', 'noteB3_1/4', '</simul>', '<simul>', 'noteC5_1/2', 'noteC5_1/4', 'noteC4_1/4', '</simul>', '<simul>', 'noteB-4_1/4', 'noteB4_1/4', '</simul>', '<simul>', 'noteC5_1/2', 'noteD5_1/2', 'rest_3', 'rest_3', 'noteC4_1/4', '</simul>', '<simul>', 'noteG#5_1/2', 'noteD4_1/4', '</simul>', 'noteE3_1/4', '<simul>', 'noteF5_1/2', 'noteD6_1/2', 'noteD3_1/2', '</simul>', '<simul>', 'noteD5_1/4', 'noteE3_1/4', '</simul>', '<simul>', 'noteE-5_3/2', 'rest_2', 'noteA3_1/4', '</simul>', 'noteC4_1/4', 'noteF4_1/4', 'noteC3_1/4', 'noteF3_1/4', 'noteG#3_1/4', 'noteD4_1/4', '<simul>', 'noteD5_1/2', 'noteD6_1/2', 'noteG3_1/4', '</simul>', 'noteF4_1/4', '<simul>', 'noteF5_1/2', 'noteF6_1/2', 'noteD3_1/4', '</simul>', 'noteA3_1/4', '<simul>', 'noteD5_1/2', 'noteD6_1/2', 'noteG3_1/4', '</simul>', 'noteC4_1/4', '<simul>', 'noteG5_3/2', 'noteD5_1/4', 'noteD3_1/4', '</simul>', 'noteB3_1/4', '<simul>', 'noteE6_1/2', 'noteC#3_1/4', '</simul>', 'noteG3_1/4', '<simul>', 'noteB5_1/2', 'noteE6_1/2', 'noteG#3_1/4', '</simul>', 'noteG#3_1/4', '<simul>', 'noteF5_1/2', 'noteF6_1/2', 'noteB-3_1/4', '</simul>', 'noteC#4_1/4', '<simul>', 'noteD5_1/2', 'noteD6_1/2', 'noteC4_1/4', '</simul>', 'noteB-3_1/4', '<simul>', 'noteE-6_1/2', 'noteF6_1/2', 'noteC5_1/4', '</simul>', 'noteG3_1/4', '<simul>', 'noteE6_1/2', 'noteF6_1/2', 'noteE-6_1/2', '</simul>', 'noteF4_1/4', '<simul>', 'noteF6_1/2', 'noteG#6_1/2', '</simul>', 'noteB3_1/4', '<simul>', 'noteD4_1/4', 'noteB4_1/8', '</simul>', '<simul>', 'noteF4_1/4', 'noteC4_1/4', '</simul>', '<simul>', 'noteF4_1/4', 'noteG#4_1/4', '</simul>', '<simul>', 'noteB3_1/4', 'noteF4_1/4', '</simul>', '<simul>', 'noteG#4_1/4', 'noteC4_1/4', '</simul>', '<simul>', 'noteF4_1/4', 'noteG#4_1/4', '</simul>', '<simul>', 'noteF4_1/4', 'noteD4_1/4', '</simul>', '<simul>', 'noteG4_1/4', 'noteF4_1/4', '</simul>', '<simul>', 'noteF4_1/4', 'noteG#4_1/4', '</simul>', '<simul>', 'noteF4_1/4', 'noteE4_1/4', '</simul>', '<simul>', 'noteF4_1/4', 'noteF4_1/4', '</simul>', '<simul>', 'noteD4_1/4', 'noteF4_1/4', '</simul>', '<simul>', 'noteB3_1/4', 'noteD4_1/4', '</simul>', '<simul>', 'noteF4_1/4', 'noteF3_1/4', '</simul>', '<simul>', 'noteF4_1/4', 'noteB-3_1/4', '</simul>', '<simul>', 'noteF4_1/4', 'noteD4_1/4', '</simul>', '<simul>', 'noteF4_1/4', 'noteF3_1/4', '</simul>', '<simul>', 'noteD4_1/4', 'noteB3_1/4', '</simul>', '<simul>', 'noteF4_1/4', 'noteA3_1/4', '</simul>', '<simul>', 'noteF4_1/4', 'noteG#3_1/4', '</simul>', '<simul>', 'noteD4_1/4', 'noteB3_1/4', '</simul>', '<simul>', 'noteF4_1/4', 'noteF3_1/4', '</simul>', '<simul>', 'noteF4_1/4', 'noteC4_1/4', '</simul>', '<simul>', 'noteF4_1/4', 'noteF3_1/4', '</simul>', '<simul>', 'noteF4_1/4', 'noteA3_1/4', '</simul>', '<simul>', 'noteF4_1/4', 'noteF3_1/4', '</simul>', '<simul>', 'noteD4_1/4', 'noteC4_1/4', '</simul>', '<simul>', 'noteF4_1/4', 'noteF3_1/4', '</simul>', '<simul>', 'noteF5_1/4', 'noteA2_1/4', '</simul>', '<simul>', 'noteF4_1/4', 'noteD3_1/4', '</simul>', '<simul>', 'noteG#3_1/4', 'noteE-4_1/4', '</simul>', '<simul>', 'noteF4_1/4', 'noteD3_1/4', '</simul>', '<simul>', 'noteG#4_1/4', 'noteF3_1/4', '</simul>', '<simul>', 'noteG4_1/4', 'noteF3_1/4', '</simul>', '<simul>', 'noteE4_1/4', 'noteF3_1/4', '</simul>', '<simul>', 'noteF4_1/4', 'noteC#3_1/4', '</simul>', '<simul>', 'noteF4_1/4', 'noteF3_1/4', '</simul>', '<simul>', 'noteE-4_1/4', 'noteG3_1/4', '</simul>', '<simul>', 'noteF4_1/4', 'noteF3_1/4', '</simul>', '<simul>', 'noteD5_1/4', 'noteF3_1/4', '</simul>', '<simul>', 'noteD4_1/4', 'noteF3_1/4', '</simul>', '<simul>', 'noteF5_1/4', 'noteF3_1/4', '</simul>', '<simul>', 'noteF5_1/4', 'noteD3_1/4', '</simul>', '<simul>', 'noteB4_1/4', 'noteG2_1/2', '</simul>', '<simul>', 'noteB4_1/4', 'noteG1_1/2', '</simul>', '<simul>', 'noteG#4_1/4', 'noteF2_1/2', '</simul>', 'noteB4_1/4', '<simul>', 'noteG4_1/4', 'noteG2_1/2', '</simul>', 'noteB-4_1/4', '<simul>', 'noteG4_1/4', 'noteG2_1/2', '</simul>', 'noteG5_1/4', '<simul>', 'noteF#4_1/4', 'noteA2_1/2', '</simul>', 'noteG5_1/4', '<simul>', 'noteE4_1/4', 'noteG2_1/2', '</simul>', 'noteG5_1/4', '<simul>', 'noteG4_1/4', 'noteC2_1/2', '</simul>', 'noteE5_1/4', '<simul>', 'noteC5_1/4', 'noteA2_3', '</simul>', 'noteE6_1/4', 'noteG5_1/4', 'noteG5_1/4', 'noteE5_1/4', 'noteE4_1/4', 'noteG4_1/4', 'noteG4_1/4', 'noteF4_1/4', 'noteB-4_1/4', '</simul>', '<simul>', 'noteE6_1/4', 'noteG6_1/4', 'noteB-2_1/4', '</simul>', '<simul>', 'noteG5_1/4', 'noteG6_1/4', 'noteG3_1/4', 'noteG2_1/4', '</simul>', '<simul>', 'noteE5_1/4', 'noteE6_1/4', 'noteC4_1/4', '</simul>', '<simul>', 'noteG5_1/4', 'noteC#6_1/4', 'noteG3_1/4', 'noteC#4_1/4', '</simul>', '<simul>', 'noteD5_1/4', 'noteD6_1/4', 'noteF#3_1/4', '</simul>', '<simul>', 'noteD5_1/4', 'noteG3_1/4', 'noteB3_1/4', '</simul>', '<simul>', 'noteE5_1/4', 'noteE6_1/4', 'noteG3_1/4', 'noteB3_1/4', '</simul>', '<simul>', 'noteD5_1/4', 'noteD6_1/4', 'noteA3_1/4', '</simul>', '<simul>', 'noteE5_1/4', 'noteG5_1/4', 'noteB3_1/4', 'noteD4_1/4', '</simul>', '<simul>', 'noteE5_1/4', 'noteE6_1/4', 'noteE3_1/4', 'noteG3_1/4', '</simul>', '<simul>', 'noteE5_1/4', 'noteE6_1/4', 'noteE4_1/4', '</simul>', '<simul>', 'noteE5_1/4', 'noteE6_1/4', 'noteE3_1/4', 'noteG3_1/4', '</simul>', '<simul>', 'noteE5_1/4', 'noteE6_1/4', 'noteG3_1/4', 'noteB3_1/4', '</simul>', '<simul>', 'noteE5_1/4', 'noteE6_1/4', 'noteE3_1/4', '</simul>', '<simul>', 'noteB4_1/4', 'noteD5_1/4', 'noteG3_1/4', 'noteB3_1/4', '</simul>', '<simul>', 'noteE5_1/4', 'noteE6_1/4', 'noteE3_1/4', 'noteA2_1/2', '</simul>', '<simul>', 'noteE5_1/4', 'noteE6_1/4', 'noteE3_1/4', '</simul>', '<simul>', 'noteD5_1/4', 'noteD6_1/4', 'noteD3_1/4', 'noteB3_1/4', '</simul>', '<simul>', 'noteB5_1/4', 'noteA6_1/4', 'noteE4_1/4', 'noteA2_1/2', '</simul>', '<simul>', 'noteB-5_1/4', 'noteB-6_1/4', 'noteA5_1/4', '</simul>', '<simul>', 'noteG5_1/2', 'noteF5_1/2', 'noteF6_1/2', 'noteD3_1/2', 'noteF#3_1/2', 'noteD4_1/2', '</simul>', '<simul>', 'noteA5_1/4', 'noteA6_1/4', 'rest_1/4', '</simul>', '<simul>', 'noteG#5_1/4', 'noteD5_1/2', 'noteD4_1/4', 'noteF4_1/4', '</simul>', '<simul>', 'noteF5_1/4', 'noteC6_1/2', 'noteA3_1/4', '</simul>', '<simul>', 'noteF5_1/4', 'noteE-4_1/4', 'noteF4_1/4', '</simul>', '<simul>', 'noteA5_1/16', 'noteB-5_1/2', 'noteF4_1/4', 'noteC2_3/2', '</simul>', '<simul>', 'noteA5_1/4', 'noteF4_1/4', 'noteE-4_1/4', '</simul>', '<simul>', 'noteG#5_1/4', 'noteF4_1/4', '</simul>', '<simul>', 'noteD6_1/4', 'noteF5_1/4', 'noteF4_1/4', '</simul>', '<simul>', 'noteF5_1/4', 'noteA5_1/4', 'noteF4_1/4', '</simul>', '<simul>', 'noteG#5_1/4', 'noteF4_1/4', '</simul>', '<simul>', 'noteG5_1/4', 'noteC6_1/4', 'noteD5_1/4', '</simul>', '<simul>', 'noteC#6_1/4', 'noteF5_1/4', 'noteA5_1/4', '</simul>', '<simul>', 'noteG5_1/4', 'noteB5_1/4', 'noteF4_1/4', 'noteF#4_1/4', 'rest_1', '</simul>', '<simul>', 'noteA5_1/4', 'noteD5_1/4', 'noteC5_1/4', 'noteA4_1/4', '</simul>', '<simul>', 'noteF#5_1/4', 'noteF5_1/4', 'noteD4_1/4', '</simul>', '<simul>', 'noteA5_1/4', 'noteE4_1/4', 'noteF4_1/4', 'noteD5_1/4', '</simul>', '<simul>', 'noteF5_1/4', 'noteD4_1/4', 'noteF4_1/4', 'noteD5_1/4', '</simul>', '<simul>', 'rest_1/4', 'noteD5_1/4', 'noteG4_1/4', 'noteF#4_1/4', '</simul>', '<simul>', 'noteB5_1/4', 'noteE5_1/4', 'noteG4_1/4', 'noteG4_1/4', '</simul>', '<simul>', 'noteD5_1/2', 'noteG5_1/2', 'noteF4_1/4', 'noteB4_1/4', 'noteB3_1/4', 'noteD4_1/4', '</simul>', '<simul>', 'noteB4_1/4', 'noteG4_1/4', 'noteE3_1/2', 'noteC4_1/4', '</simul>', '<simul>', 'noteG4_1/4', 'noteB4_1/4', 'noteB3_1/4', 'noteD4_1/4', '</simul>', '<simul>', 'noteG4_1/4', 'noteD4_1/2', 'noteB4_1/4', 'noteG3_1/4', 'noteC4_1/4', '</simul>', '<simul>', 'noteD4_1/4', 'noteB3_1/4', 'noteG#3_1/4', '</simul>', '<simul>', 'noteD4_1/4', 'noteD5_1/4', 'noteB-2_1/4', 'noteD3_1/4', '</simul>', '<simul>', 'noteG4_1/2', 'noteE4_1/2', 'noteG3_1/2', 'noteE3_1/2', '</simul>', '<simul>', 'noteD5_1/4', 'noteG4_1/4', 'noteB3_1/4', '</simul>', '<simul>', 'noteE5_1/4', 'noteF#3_1/4', 'noteC3_1/4', 'noteD3_1/4', '</simul>', '<simul>', 'noteA4_1/2', 'noteE5_1/2', 'noteA2_1/4', 'noteA2_1/4', '</simul>', '<simul>', 'noteD4_1/2', 'noteG4_1/2', 'noteA2_1/4', '</simul>', 'noteA2_1/4', '<simul>', 'noteD4_1/2', 'noteD5_1/2', 'noteG2_1/4', '</simul>', 'noteA2_1/4', '<simul>', 'noteD4_1/2', 'noteD5_1/2', 'noteB2_1/4', '</simul>', 'noteD3_1/4', '<simul>', 'noteE4_1/2', 'noteE5_1/2', 'noteF2_1/4', '</simul>', 'noteA2_1/4', '<simul>', 'noteC5_1/2', 'noteC#5_1/2', 'noteC3_1/4', '</simul>', 'noteA3_1/4', '<simul>', 'noteD5_1/2', 'noteF#5_1/2', 'noteF3_1/4', '</simul>', 'noteA3_1/4', '<simul>', 'noteA4_1/2', 'noteA5_1/2', 'noteF#3_1/4', '</simul>', 'noteE3_1/4', '<simul>', 'noteF#4_1/2', 'noteA4_1/2', 'noteF3_1/4', '</simul>', 'noteE3_1/4', '<simul>', 'noteA4_1/2', 'noteE5_1/2', 'noteA2_1/4', '</simul>', 'noteC3_1/4', '<simul>', 'rest_1/2', 'noteA3_1/4', '</simul>', 'noteA2_1/4', '<simul>', 'noteB4_1/2', 'noteE5_1/2', 'noteB2_1/4', '</simul>', 'noteA2_1/4', '<simul>', 'noteE4_1/2', 'noteA2_1/4', 'noteG#2_1/4', '</simul>', 'noteE3_1/4', '<simul>', 'noteD4_1/2', 'noteE4_1/2', 'noteA2_1/4', '</simul>', 'noteC3_1/4', '<simul>', 'noteE3_1/2', 'noteE4_1/2', 'noteC#3_1/4', '</simul>', 'noteC3_1/4', '<simul>', 'noteD4_1/2', 'noteB2_1/4', 'noteA2_1/4', '</simul>', '<simul>', 'noteC4_1/4', 'noteC3_1/4', '</simul>', '<simul>', 'noteE4_1', 'noteG3_1/4', 'noteE2_1/4', '</simul>', 'noteC3_1/4', '<simul>', 'noteC3_1/4', 'noteE3_1/4', '</simul>', '<simul>', 'noteD4_1', 'noteC3_1/4', 'noteE3_1/4', '</simul>', 'noteG3_1/4', '<simul>', 'rest_1/2', 'noteC3_1/4', 'noteE3_1/4', '</simul>', '<simul>', 'noteF4_1/4', 'noteA2_1/4', '</simul>', '<simul>', 'noteA3_1/4', 'rest_1/2', 'noteA2_1/4', '</simul>', 'noteC3_1/4', '<simul>', 'rest_1/2', 'noteE2_1/4', 'noteE3_1/4', '</simul>', '<simul>', 'noteC3_1/4', 'noteG2_1/4', '</simul>', '<simul>', 'rest_1/2', 'noteC3_1/4', 'noteE3_1/4', '</simul>', '<simul>', 'rest_1/2', 'noteF3_1/4', '</simul>', '<simul>', 'rest_1/2']\n",
      "None\n"
     ]
    }
   ],
   "source": [
    "# this just grabs a random batch and performs on it\n",
    "for batch in validation_dataloader:\n",
    "    bleh = generate_music(model_rnn, batch[0][:4], temperature=1.0)\n",
    "    notes = [token_to_note[token] for token in bleh]\n",
    "    print(print(notes))\n",
    "    break"
   ]
  },
  {
   "cell_type": "code",
   "execution_count": null,
   "metadata": {},
   "outputs": [],
   "source": [
    "#save model\n",
    "torch.save(model_rnn.state_dict(), \"music_rnn_model.pth\")\n"
   ]
  },
  {
   "cell_type": "markdown",
   "metadata": {},
   "source": [
    "# LSTM"
   ]
  },
  {
   "cell_type": "code",
   "execution_count": 33,
   "metadata": {},
   "outputs": [],
   "source": [
    "class MusicLSTM(nn.Module):\n",
    "    def __init__(self, vocab_size, embedding_dim=128, hidden_dim=256, num_layers=2, dropout=0.3,):\n",
    "        super(MusicLSTM, self).__init__()\n",
    "        self.embedding = nn.Embedding(vocab_size, embedding_dim)\n",
    "        self.lstm = nn.LSTM(\n",
    "            input_size=embedding_dim,\n",
    "            hidden_size=hidden_dim,\n",
    "            num_layers=num_layers,\n",
    "            dropout=dropout,\n",
    "            batch_first=True\n",
    "        )\n",
    "        self.layer_norm = nn.LayerNorm(hidden_dim)\n",
    "        self.dropout = nn.Dropout(dropout)\n",
    "        self.fc = nn.Linear(hidden_dim, vocab_size)\n",
    "\n",
    "    def forward(self, x, hidden=None):\n",
    "        x = self.embedding(x)                            # [batch, seq_len] → [batch, seq_len, embed_dim]\n",
    "        output, hidden = self.lstm(x, hidden)            # output: [batch, seq_len, hidden_dim]\n",
    "\n",
    "        output = self.layer_norm(output)                 # Normalize LSTM output\n",
    "        output = self.dropout(output)         \n",
    "        # Apply dropout\n",
    "        output = self.fc(output[:, :, :])           # Only final timestep → [batch, vocab_size]\n",
    "\n",
    "        return output, hidden"
   ]
  },
  {
   "cell_type": "code",
   "execution_count": 34,
   "metadata": {},
   "outputs": [],
   "source": [
    "model_lstm = MusicLSTM(vocab_len, input_size, hidden_size, num_layers=2, dropout=dropout).to(device)"
   ]
  },
  {
   "cell_type": "code",
   "execution_count": 35,
   "metadata": {},
   "outputs": [
    {
     "name": "stdout",
     "output_type": "stream",
     "text": [
      "Epoch 1, Train Loss: 3.8641\n",
      "Validation Loss: 3.1784\n",
      "Epoch 2, Train Loss: 3.0098\n",
      "Validation Loss: 2.7678\n",
      "Epoch 3, Train Loss: 2.7155\n",
      "Validation Loss: 2.5349\n",
      "Epoch 4, Train Loss: 2.5229\n",
      "Validation Loss: 2.3621\n",
      "Epoch 5, Train Loss: 2.3759\n",
      "Validation Loss: 2.2287\n",
      "Epoch 6, Train Loss: 2.2491\n",
      "Validation Loss: 2.1046\n",
      "Epoch 7, Train Loss: 2.1416\n",
      "Validation Loss: 2.0046\n",
      "Epoch 8, Train Loss: 2.0432\n",
      "Validation Loss: 1.9041\n",
      "Epoch 9, Train Loss: 1.9530\n",
      "Validation Loss: 1.8224\n",
      "Epoch 10, Train Loss: 1.8692\n",
      "Validation Loss: 1.7206\n",
      "Epoch 11, Train Loss: 1.7894\n",
      "Validation Loss: 1.6536\n",
      "Epoch 12, Train Loss: 1.7200\n",
      "Validation Loss: 1.5708\n",
      "Epoch 13, Train Loss: 1.6484\n",
      "Validation Loss: 1.4883\n",
      "Epoch 14, Train Loss: 1.5859\n",
      "Validation Loss: 1.4260\n",
      "Epoch 15, Train Loss: 1.5231\n",
      "Validation Loss: 1.3594\n",
      "Epoch 16, Train Loss: 1.4677\n",
      "Validation Loss: 1.2992\n",
      "Epoch 17, Train Loss: 1.4124\n",
      "Validation Loss: 1.2372\n",
      "Epoch 18, Train Loss: 1.3612\n",
      "Validation Loss: 1.2145\n",
      "Epoch 19, Train Loss: 1.3156\n",
      "Validation Loss: 1.1339\n",
      "Epoch 20, Train Loss: 1.2686\n",
      "Validation Loss: 1.0808\n"
     ]
    },
    {
     "data": {
      "image/png": "[encoded data removed]",
      "text/plain": [
       "<Figure size 800x600 with 1 Axes>"
      ]
     },
     "metadata": {},
     "output_type": "display_data"
    }
   ],
   "source": [
    "# adapt loss and optimizer as needed\n",
    "criterion = nn.CrossEntropyLoss()\n",
    "optimizer = Adam(model_lstm.parameters(), lr=lr)\n",
    "\n",
    "train_losses = []\n",
    "valid_losses = []\n",
    "\n",
    "for epoch in range(epochs):\n",
    "    model_lstm.train()\n",
    "    total_losses = 0.0\n",
    "\n",
    "    for batch in training_dataloader:\n",
    "        batch = batch.to(device)\n",
    "        inp = batch[:, :-1]         # input: [batch, seq_len - 1]\n",
    "        tgt = batch[:, 1:]          # target: [batch]\n",
    "\n",
    "        optimizer.zero_grad()\n",
    "\n",
    "        preds, _ = model_lstm(inp)  # output: [batch, seq_len-1, vocab_size]\n",
    "\n",
    "        # Reshape for CrossEntropyLoss: [batch * seq_len, vocab_size] vs [batch * seq_len]\n",
    "        loss = criterion(preds.view(-1, vocab_len), tgt.reshape(-1))\n",
    "        loss.backward()\n",
    "        optimizer.step()\n",
    "\n",
    "        total_losses += loss.item()\n",
    "\n",
    "    avg_train_loss = total_losses / len(training_dataloader)\n",
    "    train_losses.append(avg_train_loss)\n",
    "    print(f\"Epoch {epoch + 1}, Train Loss: {avg_train_loss:.4f}\")\n",
    "\n",
    "    # Validation loop\n",
    "    model_lstm.eval()\n",
    "    total_valid_losses = 0.0\n",
    "\n",
    "    with torch.no_grad():\n",
    "        for batch in validation_dataloader:\n",
    "            batch = batch.to(device)\n",
    "            inp = batch[:, :-1]         # input: [batch, seq_len - 1]\n",
    "            tgt = batch[:, 1:]          # target: [batch]\n",
    "\n",
    "            preds, _ = model_lstm(inp)\n",
    "            loss = criterion(preds.view(-1, vocab_len), tgt.reshape(-1))\n",
    "            total_valid_losses += loss.item()\n",
    "\n",
    "    avg_valid_loss = total_valid_losses / len(validation_dataloader)\n",
    "    valid_losses.append(avg_valid_loss)\n",
    "    print(f\"Validation Loss: {avg_valid_loss:.4f}\")\n",
    "\n",
    "# Display training curve\n",
    "Display_Plot(train_loss=train_losses, valid_loss=valid_losses, model_name=\"LSTM Music\")\n"
   ]
  },
  {
   "cell_type": "code",
   "execution_count": 37,
   "metadata": {},
   "outputs": [
    {
     "data": {
      "text/plain": [
       "'\\ndef generate_music_lstm(model, start_tokens, temperature=1.0, num_to_generate=100, window_length=window_length, end_token=None):\\n    model.eval()\\n\\n    # Ensure start_tokens is a tensor on correct device\\n    if isinstance(start_tokens, torch.Tensor):\\n        predicted_tokens = start_tokens.clone().detach().unsqueeze(0).to(next(model.parameters()).device)\\n    else:\\n        predicted_tokens = torch.tensor(start_tokens, dtype=torch.long).unsqueeze(0).to(next(model.parameters()).device)\\n\\n    for _ in range(num_to_generate):\\n        with torch.no_grad():\\n            # Use only the last `window_length` tokens\\n            input_seq = predicted_tokens[:, -window_length:]  # shape: [1, window_length]\\n\\n            logits, _ = model(input_seq)                      # shape: [1, vocab_size]\\n            probs = torch.softmax(logits / temperature, dim=-1)  # shape: [1, vocab_size]\\n            pred_token = torch.multinomial(probs, num_samples=1)  # shape: [1, 1]\\n\\n        # Append the predicted token\\n        predicted_tokens = torch.cat([predicted_tokens, pred_token], dim=1)\\n\\n        # Optional early stopping on <end> token\\n        if end_token is not None and pred_token.item() == end_token:\\n            break\\n\\n    return predicted_tokens.squeeze(0).tolist()\\n\\nfor batch in validation_dataloader:\\n    # Take the first 10 tokens from the first sample in the batch\\n    start = batch[0][:10]  # tensor of shape [10]\\n    generated = generate_music_lstm(\\n        model=model_lstm,\\n        start_tokens=start,\\n        temperature=1.0,\\n        num_to_generate=200,\\n        window_length=32,\\n        end_token=end_token  # Optional: pass if you have <end> token defined\\n    )\\n\\n    notes = [token_to_note[token] for token in generated]\\n    print(notes)\\n    break\\n'"
      ]
     },
     "execution_count": 37,
     "metadata": {},
     "output_type": "execute_result"
    }
   ],
   "source": [
    "'''\n",
    "def generate_music_lstm(model, start_tokens, temperature=1.0, num_to_generate=100, window_length=window_length, end_token=None):\n",
    "    model.eval()\n",
    "\n",
    "    # Ensure start_tokens is a tensor on correct device\n",
    "    if isinstance(start_tokens, torch.Tensor):\n",
    "        predicted_tokens = start_tokens.clone().detach().unsqueeze(0).to(next(model.parameters()).device)\n",
    "    else:\n",
    "        predicted_tokens = torch.tensor(start_tokens, dtype=torch.long).unsqueeze(0).to(next(model.parameters()).device)\n",
    "\n",
    "    for _ in range(num_to_generate):\n",
    "        with torch.no_grad():\n",
    "            # Use only the last `window_length` tokens\n",
    "            input_seq = predicted_tokens[:, -window_length:]  # shape: [1, window_length]\n",
    "\n",
    "            logits, _ = model(input_seq)                      # shape: [1, vocab_size]\n",
    "            probs = torch.softmax(logits / temperature, dim=-1)  # shape: [1, vocab_size]\n",
    "            pred_token = torch.multinomial(probs, num_samples=1)  # shape: [1, 1]\n",
    "\n",
    "        # Append the predicted token\n",
    "        predicted_tokens = torch.cat([predicted_tokens, pred_token], dim=1)\n",
    "\n",
    "        # Optional early stopping on <end> token\n",
    "        if end_token is not None and pred_token.item() == end_token:\n",
    "            break\n",
    "\n",
    "    return predicted_tokens.squeeze(0).tolist()\n",
    "\n",
    "for batch in validation_dataloader:\n",
    "    # Take the first 10 tokens from the first sample in the batch\n",
    "    start = batch[0][:10]  # tensor of shape [10]\n",
    "    generated = generate_music_lstm(\n",
    "        model=model_lstm,\n",
    "        start_tokens=start,\n",
    "        temperature=1.0,\n",
    "        num_to_generate=200,\n",
    "        window_length=32,\n",
    "        end_token=end_token  # Optional: pass if you have <end> token defined\n",
    "    )\n",
    "\n",
    "    notes = [token_to_note[token] for token in generated]\n",
    "    print(notes)\n",
    "    break\n",
    "'''"
   ]
  },
  {
   "cell_type": "code",
   "execution_count": 47,
   "metadata": {},
   "outputs": [],
   "source": [
    "# generate music\n",
    "# for now, generate a fixed length, if we add start and end tokens then we can also do that\n",
    "def generate_music_lstm(model, start_tokens, temperature=1.0, num_to_generate=window_length):\n",
    "    model.eval()\n",
    "\n",
    "    predicted_tokens = torch.tensor(start_tokens).clone().detach().unsqueeze(0) # (1, len(start_tokens))\n",
    "    # iteratively predict then add to start_tokens\n",
    "    for i in range(num_to_generate):\n",
    "        with torch.no_grad():\n",
    "            # grab most recent tokens\n",
    "            logits, _ = model(predicted_tokens[:, -(window_length):]) # (1, len(predicted_tokens), num_tokens)\n",
    "            logits = logits[:, -1, :] # grabs last token \n",
    "            probs = torch.softmax(logits / temperature, dim=-1) # (1, num_tokens)\n",
    "            pred_token = torch.multinomial(probs, num_samples=1) # (1, 1)\n",
    "\n",
    "        predicted_tokens = torch.cat([predicted_tokens, pred_token], dim=1) # (1, len(current sequence length))\n",
    "\n",
    "    return predicted_tokens.squeeze(0).tolist()"
   ]
  },
  {
   "cell_type": "code",
   "execution_count": 48,
   "metadata": {},
   "outputs": [
    {
     "name": "stderr",
     "output_type": "stream",
     "text": [
      "/tmp/ipykernel_917778/3445894734.py:6: UserWarning: To copy construct from a tensor, it is recommended to use sourceTensor.clone().detach() or sourceTensor.clone().detach().requires_grad_(True), rather than torch.tensor(sourceTensor).\n",
      "  predicted_tokens = torch.tensor(start_tokens).clone().detach().unsqueeze(0) # (1, len(start_tokens))\n"
     ]
    },
    {
     "name": "stdout",
     "output_type": "stream",
     "text": [
      "['noteE4_1/4', '</simul>', 'noteC3_1/16', 'noteB-2_1/16', 'noteC3_1/16', 'noteC#3_1/16', 'noteC2_1/16', 'noteC3_1/16', '<simul>', 'rest_1/16', 'rest_1/16', '</simul>', '<simul>', 'rest_1', 'noteC3_1/2', '</simul>', 'noteF3_1/16', '<simul>', 'rest_1/16', 'rest_1/16', '</simul>', 'noteF3_1/16', 'noteG3_1/16', 'noteB-5_1/16', 'noteF3_1/16', '<simul>', 'rest_1/16', 'rest_1/16', '</simul>', 'noteF3_1/16', '<simul>', 'rest_1/16', 'rest_1/16', '</simul>', 'noteC4_1/16', 'noteC3_1/16', 'noteC3_1/16', 'noteF3_1/16', '<simul>', 'noteC3_1/16', 'noteG#1_1/2', '</simul>', 'noteF3_1/16', '<simul>', 'noteF4_1/16', 'noteF3_1/16', '</simul>', 'noteF3_1/16', 'noteF5_1/16', 'noteA3_1/16', 'noteF3_1/16', 'noteE-3_1/16', 'noteF3_1/16', 'noteD4_1/16', 'noteF3_1/16', '<simul>', 'noteB-3_1/4', 'rest_1/2', '</simul>', 'noteG#3_1/4', 'noteF3_1/16', 'noteB-3_1/16', 'noteF3_1/16', 'noteF3_1/16', '<simul>', 'noteB-3_1/4', 'rest_1/2', 'noteE-2_1/2', '</simul>', 'noteF3_1/16', 'noteF2_1/16', 'noteF3_1/16', 'noteE-3_1/16', 'noteF3_1/16', '<simul>', 'noteB-3_1/2', 'noteC#3_1/16', 'noteB-4_1/2', '</simul>', 'noteE-3_1/16', 'noteB-3_1/16', 'noteC#3_1/16', 'noteF5_1/16', 'noteB-3_1/16', 'noteE-4_1/16', 'noteB-4_1/16', '<simul>', 'rest_1/2', 'noteB-4_1/8', '</simul>', 'noteC#5_1/8', 'noteC4_1/8', 'noteB-3_1/16', 'noteE-4_1/8', '<simul>', 'noteE-5_1/4', 'rest_1', '</simul>', 'noteE-6_1/4', '<simul>', 'noteB-5_1/4', 'noteB-3_2', '</simul>', 'noteC#6_1/4', 'noteE-4_1/8', 'noteB-5_1/4', '</simul>', 'noteE-6_1/4', '<simul>', 'noteC6_1/3', 'noteC6_1/4', 'rest_4', 'noteE-3_1', 'noteF#3_1', '</simul>', 'noteE-6_1/4', 'noteC6_1/4', 'noteC#6_1/4', '<simul>', 'noteE-6_1/4', 'rest_2', 'rest_2', 'rest_2', 'rest_2', '</simul>', 'noteB-5_1/4', 'noteB-5_1/4', 'noteF#5_1/4', 'noteF5_1/4', '<simul>', 'noteF#5_1/4', 'rest_2', '</simul>', 'noteB-5_1/4', 'noteE-5_1/4', 'noteF5_1/4', '<simul>', 'noteF#5_1/4', 'rest_1', '</simul>', 'noteA5_1/4', 'noteE-5_1/4', 'noteF5_1/4', '<simul>', 'noteC5_1/4', 'rest_1/2', '</simul>', 'noteE-5_1/4', '<simul>', 'noteF#4_1/4', 'noteF3_1', 'noteB-3_1', 'noteE-4_1', '</simul>', 'noteE-5_1/4', 'noteB-4_1/4', 'noteF4_1/4', '<simul>', 'rest_1/2', 'noteF3_1/2', 'rest_1', '</simul>', 'noteC5_1/4', '<simul>', 'rest_1/2', 'noteB-1_1/4', '</simul>', 'noteF2_1/4', '<simul>', 'noteE-4_1', 'noteF3_1', 'noteG#2_1/2', '</simul>', 'noteG#3_1/2', '<simul>', 'rest_1/2', 'noteE3_1/2', '</simul>', '<simul>', 'noteB-5_1', 'rest_2', 'noteG3_1', '</simul>', '<simul>', 'noteF5_1/2', 'rest_3/4', '</simul>', '<simul>', 'noteC5_1/2', 'noteC4_1/2', '</simul>', '<simul>', 'noteF5_1/16', 'noteG#5_1/2', 'rest_1/2', 'rest_2', '</simul>', '<simul>', 'noteG4_1/2', 'noteG3_1/2', '</simul>', '<simul>', 'noteF5_1/2', 'noteG#3_1/2', '</simul>', '<simul>', 'noteC5_1/2', 'noteF3_1/2', '</simul>', '<simul>', 'noteC5_1/2', 'noteG#5_1/2', 'noteG3_1/2', '</simul>', '<simul>', 'noteC5_3/2', 'noteB-4_4', 'noteC3_1/2', '</simul>', '<simul>', 'noteE3_1/2', 'noteG3_1/2', '</simul>', '<simul>', 'noteG4_1/2', 'noteG3_1/2', '</simul>', '<simul>', 'noteC5_1', 'noteE3_1/2', '</simul>', '<simul>', 'noteG3_1/2', 'noteC4_1/2', '</simul>', '<simul>', 'noteC5_2', 'noteC6_2', 'noteE3_1/2', '</simul>', 'noteG3_1/2', 'noteC4_1/2', 'noteG3_1/2', '<simul>', 'noteC5_1', 'noteG5_1', 'noteF3_1/2', '</simul>', 'noteG3_1/2', '<simul>', 'noteC5_2', 'noteE-5_2', 'noteG3_1/2', '</simul>', 'noteF3_1/2', 'noteC4_1/2', 'noteG3_1/2', '<simul>', 'noteG#4_2', 'noteC5_2', 'noteF3_1/2', '</simul>', 'noteD3_1/2', 'noteG3_1/2', 'noteE-3_1/2', '<simul>', 'noteC5_1', 'noteB-4_1', 'noteG#4_1/2', 'noteC3_1/2', '</simul>', 'noteC3_1/2', '<simul>', 'noteG4_1', 'noteB-4_1', 'noteG3_1/2', 'noteB-2_1', '</simul>', '<simul>', 'noteC4_1/2', 'noteG3_1/2', '</simul>', '<simul>', 'noteC5_3/4', 'noteB-3_1', 'noteG#3_1', '</simul>', 'noteF3_1/2', '<simul>', 'noteG#4_1', 'noteG3_1/2', '</simul>', 'noteC4_1/2', '<simul>', 'noteF4_1', 'noteG#4_1', 'noteC4_1/2', '</simul>', 'noteF3_1/2', '<simul>', 'noteF4_1', 'noteC#4_1', 'noteC4_1/2', '</simul>', 'noteC3_1/2', '<simul>', 'noteD5_1/2', 'rest_1', 'noteD4_1/2', '</simul>', 'noteC5_1/2', '<simul>', 'noteC5_1', 'noteE-4_1', 'noteC4_1/2', '</simul>', 'noteB-3_1/2', '<simul>', 'noteB-4_2', 'rest_2', 'noteB-3_1/2', '</simul>', 'noteG3_1/2', 'noteF3_1/2', 'noteC4_1/2', '<simul>', 'noteB-5_1', 'noteF4_1', 'noteF3_1/2', '</simul>', 'noteG#3_1/2', '<simul>', 'noteB4_1/2', 'noteG3_1/2', '</simul>', '<simul>', 'noteD5_1', 'noteG#3_1/2', '</simul>', 'noteF3_1/2', '<simul>', 'noteC#5_2', 'noteE-4_2', 'noteB2_1/2', '</simul>', 'noteF3_1/2', '<simul>', 'noteE4_1', 'noteC3_1/2', '</simul>', 'noteF3_1/2', '<simul>', 'rest_1', 'noteB-3_1', '</simul>', 'noteB2_1/2', '<simul>', 'noteF4_3', 'noteG#4_3', 'noteF2_3', 'noteD3_1/2', '</simul>', 'noteG#3_1/2', 'noteC3_1/2', 'noteF3_1/2', 'noteD3_1/2', '<simul>', 'noteG#3_1', 'noteC4_1', '</simul>', 'noteC#3_1/2', '<simul>', 'noteF4_2', 'rest_1', '</simul>', 'noteD3_1/2', 'noteC3_1/2', '<simul>', 'rest_1', 'noteC4_1/2', '</simul>', 'noteF3_1/2', '<simul>', 'noteC5_2', 'noteD4_1/2', '</simul>', 'noteB-3_1/2', 'noteG3_1/2', '<simul>', 'noteC5_1/2', 'noteC4_1/2', '</simul>', 'noteF4_1/2', '<simul>', 'noteD5_1/2', 'noteB-3_1', '</simul>', 'noteB-4_1/2', '<simul>', 'noteA4_1/2', 'noteF4_1/2', '</simul>', '<simul>', 'noteC5_1/2', 'noteG#3_1/2', '</simul>', '<simul>', 'noteD5_1/2', 'noteB-3_1/2', '</simul>', '<simul>', 'noteC5_1/2', 'noteF4_1/2', '</simul>', '<simul>', 'noteD5_1', 'noteF4_1/2', '</simul>', 'noteB3_1/2', '<simul>', 'noteF5_1', 'noteF4_1/2', '</simul>', '<simul>', 'noteD5_1/2', 'noteA3_1/2', '</simul>', '<simul>', 'noteE-5_1', 'noteG4_1/2', 'noteG3_1/2', '</simul>', '<simul>', 'noteC5_1/2', 'noteG#3_1/2', '</simul>', '<simul>', 'noteG4_3/2', 'noteC5_3/2', 'noteB-3_1/2', '</simul>', 'noteG3_1/2', '<simul>', 'noteC4_1/2', 'noteG3_1/2', '</simul>', '<simul>', 'noteG5_1/2', 'noteE3_1/2', '</simul>', '<simul>', 'noteC#5_1/2', 'noteG3_1/2', '</simul>', '<simul>', 'noteB-4_1/2', 'noteF3_1/2', '</simul>', '<simul>', 'noteC5_1/2', 'noteG3_1/2', '</simul>', '<simul>', 'noteB4_1/2', 'noteF3_1/2', '</simul>', '<simul>', 'noteC#5_1/2', 'noteG3_1/2', '</simul>', '<simul>', 'noteE-5_1/2', 'noteE3_1/2', '</simul>', '<simul>', 'noteE-5_1/2', 'noteG3_1/2', '</simul>', '<simul>', 'noteC#5_1/2', 'noteC3_1/2', '</simul>', '<simul>', 'noteB4_1/2', 'noteG#5_1/2', 'noteE3_1/2', '</simul>', '<simul>', 'noteG5_1/2', 'rest_1/2', '</simul>', '<simul>', 'noteC#6_1/2', 'noteF5_3/2', 'noteC#3_1/2', '</simul>', '<simul>', 'noteB-5_1/2', 'noteE-3_1', '</simul>', 'noteC6_1/2', '<simul>', 'noteG5_1/2', 'noteB-5_1/2', '</simul>', '<simul>', 'noteG5_1/2', 'noteC5_3/2', '</simul>', '<simul>', 'noteG#5_1/2', 'rest_1/2', '</simul>', '<simul>', 'noteG5_1/2', 'noteE2_1/2', '</simul>', '<simul>', 'noteG5_1/2', 'noteB-2_1/2', '</simul>', '<simul>', 'noteG5_1/2', 'noteE2_1/2', '</simul>', '<simul>', 'noteD5_1', 'noteB-2_1/2', '</simul>', '<simul>', 'noteA2_1/2', '</simul>', '<simul>', 'noteF5_1/2', 'noteF2_1/2', '</simul>', '<simul>', 'noteD5_1/2', 'noteB-2_1/2', '</simul>', '<simul>', 'noteE-5_1/2', 'noteB2_1/2', '</simul>', '<simul>', 'rest_1/2', 'noteC#3_1/2', '</simul>', '<simul>', 'noteA4_1/2', 'noteC3_1/2', '</simul>', '<simul>', 'noteD5_1/2', 'noteB2_1/2', '</simul>', '<simul>', 'noteC5_1/2', 'noteC3_1/2', '</simul>', '<simul>', 'noteE5_1/2', 'noteE3_1/2', '</simul>', '<simul>', 'noteC5_1/2', 'noteC3_1/2', '</simul>', '<simul>', 'noteG#5_1/2', 'noteF3_1/2', '</simul>', '<simul>', 'noteG5_1/2', 'noteE3_1/2', '</simul>', '<simul>', 'noteF5_1/2', 'noteD2_1/2', '</simul>', '<simul>', 'noteB4_1/2', 'noteD3_1/2', '</simul>', '<simul>', 'noteD5_1/2', 'noteG#3_1/2', '</simul>', '<simul>', 'noteC5_1/2', 'noteC3_1/2', '</simul>', '<simul>', 'noteD5_1/2', 'noteD3_1/2', '</simul>', '<simul>', 'noteE-5_1/2', 'noteC4_1/2', '</simul>', '<simul>', 'noteF5_1/2', 'noteE3_1/2', '</simul>', '<simul>', 'noteG#5_1/2', 'noteB3_1/2', '</simul>', '<simul>', 'noteF#5_1/2', 'noteC4_1/2', '</simul>', '<simul>', 'noteG#5_1/2', 'noteB3_1/2', '</simul>', '<simul>', 'noteC6_1/2', 'noteC4_1/2', '</simul>', '<simul>', 'noteG#5_1/2', 'noteG#3_1/2', '</simul>', '<simul>', 'noteF5_1/2', 'noteF#3_1/2', '</simul>', '<simul>', 'noteG#5_1/2', 'noteB3_1/2', '</simul>', '<simul>', 'noteF#5_1/2', 'noteE-3_1/2', '</simul>', '<simul>', 'noteC5_1/2', 'noteE3_1/2', '</simul>', '<simul>', 'noteD5_1/2', 'noteE-3_1/2', '</simul>', '<simul>', 'noteE-5_1/2', 'noteC3_1/2', '</simul>', '<simul>', 'noteE-5_1/2', 'noteC3_1', '</simul>', 'noteG#4_1/2', '<simul>', 'noteF5_1/2', 'noteB2_1/2', '</simul>', '<simul>', 'noteF5_1', 'noteG3_1/2', '</simul>', 'noteC3_1/2', '<simul>', 'noteG5_1/2', 'noteE-3_1/2', '</simul>', '<simul>', 'noteE-5_1/2', 'noteC3_1/2', '</simul>', '<simul>', 'noteE5_1/2', 'noteC#3_1/2', '</simul>', '<simul>', 'noteG#4_1/2', 'noteB2_1/2', '</simul>', '<simul>', 'noteE-5_1/2', 'noteC3_1/2', '</simul>', '<simul>', 'noteE5_1/2', 'noteC3_1/2', '</simul>', '<simul>', 'noteG5_1/2', 'noteG2_1/2', '</simul>', '<simul>', 'noteB-5_1/2', 'noteB-3_1/2', '</simul>', '<simul>', 'noteG#5_1/2', 'noteG#3_1/2', '</simul>', '<simul>', 'noteG#5_1/2', 'noteB-2_1/2', '</simul>', '<simul>', 'noteF5_1/2', 'noteD3_1/2', '</simul>', '<simul>', 'noteE-5_1/2', 'noteC3_1/2', '</simul>', '<simul>', 'noteE-5_1/2', 'noteG3_1/2', '</simul>', '<simul>', 'noteG5_1/2', 'noteE-3_1/2', '</simul>', '<simul>', 'noteE-5_1/2', 'noteC4_1/2', '</simul>', '<simul>', 'noteF5_1/2', 'noteB-3_1/2', '</simul>', '<simul>', 'noteE-5_1/2', 'noteG#3_1/2', '</simul>', '<simul>', 'noteD5_1/2', 'noteB-2_1/2', '</simul>', '<simul>', 'noteC5_1/2', 'noteF#3_1/2', '</simul>', '<simul>', 'noteE-4_1/2', 'noteF#3_1/2', '</simul>', '<simul>', 'noteF#4_1/2', 'noteF#3_1/2', '</simul>', '<simul>', 'noteF#4_1/2', 'noteE-3_1/2', '</simul>', '<simul>', 'noteG4_1/2', 'noteG3_1/2', '</simul>', '<simul>', 'noteG4_1/2', 'noteB-3_1/2', '</simul>', '<simul>', 'noteF4_1/2', 'noteG#2_1/2', '</simul>', '<simul>', 'noteF#4_1/2', 'noteG#1_1/2', '</simul>', '<simul>', 'noteE-4_1/2', 'noteE-3_1/2', '</simul>', '<simul>', 'noteF4_1/2', 'noteG#2_1/2', '</simul>', '<simul>', 'noteB-3_1/2', 'noteB-2_1/2', '</simul>', '<simul>', 'noteE-4_1/2', 'noteE-3_1/2', '</simul>', '<simul>', 'noteF4_1/2', 'noteG#3_1/2', '</simul>', '<simul>', 'noteE-4_1/2', 'noteC3_1/2', '</simul>', '<simul>', 'noteC5_1', 'noteB-3_1/2', '</simul>', '<simul>', 'noteE-4_1/2', 'noteG3_1/2', '</simul>', '<simul>', 'noteG#4_1/2', 'noteG#3_1/2', '</simul>', '<simul>', 'noteC5_1/2', 'noteC3_1/2', '</simul>', '<simul>', 'noteG#4_1/2', 'noteG#3_1/2', '</simul>', '<simul>', 'noteC5_1/2', 'noteC3_1/2', '</simul>', '<simul>', 'noteG#4_1/2', 'noteF3_1/2', '</simul>', '<simul>', 'noteG#4_1/2', 'noteD3_1/2', '</simul>', '<simul>', 'noteG4_1/2', 'noteG3_1/2', '</simul>', '<simul>', 'noteG#4_1/2', 'noteF3_1/2', '</simul>', '<simul>', 'noteC4_1/2', 'noteE-3_1/2', '</simul>', '<simul>', 'noteC4_1/2', 'noteC3_1/2', '</simul>', '<simul>', 'noteG#3_1/2', 'noteG#2_1/2', '</simul>', '<simul>', 'noteG3_1/2', 'noteB-3_1/2', '</simul>', '<simul>', 'noteF3_1/2', 'noteF2_1/2', '</simul>', '<simul>', 'noteG3_1/2', 'noteG2_1/2', '</simul>', '<simul>', 'noteE3_1/2', 'noteE2_1/2', '</simul>', '<simul>', 'noteG#3_1/2', 'noteG#2_1/2', '</simul>', '<simul>', 'noteG3_1/2', 'noteG2_1/2', '</simul>', '<simul>', 'noteG#3_1/2', 'noteG2_1/2', '</simul>', '<simul>', 'noteG3_1/2', 'noteG2_1/2', '</simul>', '<simul>', 'noteG#3_1/2', 'noteG2_1/2', '</simul>', '<simul>', 'noteC4_1/2', 'noteG#2_1/2', '</simul>', '<simul>', 'noteG#3_1/2', 'noteG2_1/2', '</simul>', '<simul>', 'noteG3_1/2', 'noteG2_1/2', '</simul>', '<simul>', 'noteF3_1/2', 'noteG#2_1/2', '</simul>', '<simul>', 'noteG3_1/2', 'noteG2_1/2', '</simul>', '<simul>', 'noteE-4_1/2', 'noteF2_1/2', '</simul>', '<simul>', 'noteB-2_1/2', 'noteG#3_1/2', '</simul>', '<simul>', 'noteC#4_1/2', 'noteA2_1/2', '</simul>', '<simul>', 'noteC4_1/2', 'noteG#2_1/2', '</simul>', '<simul>', 'noteF4_1/2', 'noteC#3_1/2', '</simul>', '<simul>', 'noteB-4_1/2', 'noteC#4_1/2', '</simul>', '<simul>', 'noteD5_1/2', 'noteB-3_1/2', '</simul>', '<simul>', 'noteC#5_1/2', 'noteC#4_1/2', '</simul>', '<simul>', 'noteE-5_1/2', 'noteC#4_1/2', '</simul>', '<simul>', 'noteD5_1/2', 'noteD4_1/2', '</simul>', '<simul>', 'noteF#5_1', 'noteC4_1/2', '</simul>', '<simul>', 'noteB-4_1/2', 'noteC#4_1/2', '</simul>', '<simul>', 'noteB-5_1/2', 'noteB-4_1/2', '</simul>', '<simul>', 'noteA5_1/2', 'noteC#4_1/2', '</simul>', '<simul>', 'noteF#5_4', 'noteE-3_1/2', '</simul>', '<simul>', 'noteB-4_1/2', 'noteC#3_1/2', '</simul>', '<simul>', 'noteB-4_1/2', 'noteC#4_1/2', '</simul>', '<simul>', 'noteA4_1/2', 'noteE-5_1/2', '</simul>', '<simul>', 'noteC#5_1/2', 'noteB-4_1/2', '</simul>', '<simul>', 'noteF5_1', 'noteB4_1/2', 'noteC#4_1/2', '</simul>', '<simul>', 'noteB-4_1/2', 'noteC#5_1/2', '</simul>', '<simul>', 'noteB-4_1/2', 'noteC#5_1/2', '</simul>', '<simul>', 'noteE-5_1', 'noteG#4_1/2', 'noteF3_2', '</simul>', '<simul>', 'noteC#5_1/2', 'noteC#5_1/2', '</simul>', '<simul>', 'noteB4_1/2', 'noteD5_1/2', '</simul>', '<simul>', 'noteC#5_3/2', 'noteC#5_1/2', '</simul>', '<simul>', 'noteB-4_1/2', 'noteC#5_1/2', '</simul>', '<simul>', 'noteB-4_1/2', 'noteB-4_1/2', '</simul>', '<simul>', 'noteG#4_1', 'noteC5_1', 'noteF3_1/4', '</simul>', '<simul>', 'noteF4_1/2', 'noteA2_1/4', '</simul>', '<simul>', 'noteC#4_1/2', 'noteG#2_1/4', '</simul>', '<simul>', 'noteC4_1/2', 'noteG#2_1/4']\n",
      "None\n"
     ]
    }
   ],
   "source": [
    "# this just grabs a random batch and performs on it\n",
    "for batch in validation_dataloader:\n",
    "    bleh = generate_music_lstm(model_lstm, batch[0][:4], temperature=1.0)\n",
    "    notes = [token_to_note[token] for token in bleh]\n",
    "    print(print(notes))\n",
    "    break"
   ]
  },
  {
   "cell_type": "code",
   "execution_count": 49,
   "metadata": {},
   "outputs": [],
   "source": [
    "torch.save(model_lstm.state_dict(), \"music_lstm_model.pth\")"
   ]
  },
  {
   "cell_type": "markdown",
   "metadata": {},
   "source": [
    "# Transformer"
   ]
  },
  {
   "cell_type": "markdown",
   "metadata": {},
   "source": [
    "YAYYYYYYYYY Transformer Time WOOOOOOOOO"
   ]
  },
  {
   "cell_type": "code",
   "execution_count": 8,
   "metadata": {},
   "outputs": [],
   "source": [
    "#  Model variables\n",
    "d_model = 128 # Embed Dim\n",
    "n_decoder_layers = 8 # lower if not that complex and wanting speedup\n",
    "n_heads = 8 # Number of Attention Heads\n",
    "d_ff = 512 # Feed Forward Dimensionality (AIAYN paper reccomends 4 times d_model size)\n",
    "learning_rate = 1e-4 # Maybe increase?\n",
    "num_epochs = 30 # Change this later so it doesn't take 10 years to run"
   ]
  },
  {
   "cell_type": "code",
   "execution_count": 9,
   "metadata": {},
   "outputs": [],
   "source": [
    "# Standard positonal encoding used here, could also try time encoding since notes have different timestamps\n",
    "class PositionalEncoding(nn.Module):\n",
    "    def __init__(self, d_model, win_len):\n",
    "        super(PositionalEncoding, self).__init__()\n",
    "        pe = torch.zeros(win_len, d_model) # (win_len, d_model)\n",
    "        position = torch.arange(0, win_len, dtype=torch_type).unsqueeze(1) # (win_len, 1)\n",
    "        div_term = torch.exp(torch.arange(0, d_model, 2).float()*(-torch.log(torch.tensor(10000.0))/d_model)) # (d_model/2)\n",
    "        pe[:, 0::2] = torch.sin(position*div_term)\n",
    "        pe[:, 1::2] = torch.cos(position*div_term)\n",
    "        pe = pe.unsqueeze(0) # (1, win_len, d_model)\n",
    "        self.pe = pe.to(device)\n",
    "\n",
    "    def forward(self, x):\n",
    "        x = x + self.pe[:, :x.size(1), :]\n",
    "        return x\n",
    "\n",
    "\n",
    "# mask\n",
    "def generate_causal_mask(size):\n",
    "    # size should be target size\n",
    "    mask = torch.triu(torch.ones(size, size, device=device), diagonal=1)\n",
    "    mask = mask.masked_fill(mask == 1, float('-inf'))\n",
    "    '''\n",
    "    [0, -inf, -inf, -inf]\n",
    "    [0,   0,  -inf, -inf]\n",
    "    [0,   0,    0,  -inf]\n",
    "    [0,   0,    0,    0 ]\n",
    "    Yay for triangle masking\n",
    "    '''\n",
    "    return mask\n"
   ]
  },
  {
   "cell_type": "code",
   "execution_count": 10,
   "metadata": {},
   "outputs": [],
   "source": [
    "# Actual decoder\n",
    "class MusicTransformer(nn.Module):\n",
    "    def __init__(self, num_tokens, d_model=d_model, nhead=n_heads, dim_ff=d_ff, win_len=window_length, layers=n_decoder_layers):\n",
    "        super(MusicTransformer, self).__init__()\n",
    "        self.d_model = d_model\n",
    "        self.nheads = nhead\n",
    "        self.dim_ff = dim_ff\n",
    "        self.win_len = win_len\n",
    "        self.layers = layers\n",
    "\n",
    "        # pre-transformer\n",
    "        self.tok_embed = nn.Embedding(num_tokens, d_model)\n",
    "        self.pos_enc = PositionalEncoding(d_model, win_len)\n",
    "        self.out_proj = nn.Linear(d_model, num_tokens) # final projection for token prediction\n",
    "\n",
    "        # transformer part\n",
    "        decoder_layer = nn.TransformerDecoderLayer(d_model, nhead, dim_ff, batch_first=True)\n",
    "        self.decoder = nn.TransformerDecoder(decoder_layer, num_layers=self.layers)\n",
    "\n",
    "\n",
    "    def forward(self, x, tgt_mask=None):\n",
    "        '''\n",
    "        x is the tokenized notes  # (batch_size, win_len)\n",
    "        tgt_mask masks the predictions\n",
    "        '''\n",
    "\n",
    "        x_seq = self.tok_embed(x) # (batch_size, 1, d_model)\n",
    "        x_seq = self.pos_enc(x_seq) # (batch_size, 1, d_model)\n",
    "\n",
    "        decoder_output = self.decoder(x_seq, x_seq, tgt_mask=tgt_mask) # (batch_size, win_len, d_model)\n",
    "        pred = self.out_proj(decoder_output) # (batch, win_len, num_tokens) \n",
    "      \n",
    "        return pred\n",
    "\n"
   ]
  },
  {
   "cell_type": "code",
   "execution_count": 11,
   "metadata": {},
   "outputs": [
    {
     "name": "stdout",
     "output_type": "stream",
     "text": [
      "Epoch: [1/30]   Epoch Average Loss: 4.810683313681155\n",
      "Validation Loss: 4.048098774843438\n",
      "Epoch: [2/30]   Epoch Average Loss: 3.8210270456948017\n",
      "Validation Loss: 3.587514184242071\n",
      "Epoch: [3/30]   Epoch Average Loss: 3.5029922275431997\n",
      "Validation Loss: 3.3517718218093693\n",
      "Epoch: [4/30]   Epoch Average Loss: 3.296694729835577\n",
      "Validation Loss: 3.1437740325927734\n",
      "Epoch: [5/30]   Epoch Average Loss: 3.1002397811795115\n",
      "Validation Loss: 2.9561192850733913\n",
      "Epoch: [6/30]   Epoch Average Loss: 2.939703649404098\n",
      "Validation Loss: 2.806815740674041\n",
      "Epoch: [7/30]   Epoch Average Loss: 2.805984321558093\n",
      "Validation Loss: 2.674182098965312\n",
      "Epoch: [8/30]   Epoch Average Loss: 2.68709786258008\n",
      "Validation Loss: 2.551891703938329\n",
      "Epoch: [9/30]   Epoch Average Loss: 2.578559364591326\n",
      "Validation Loss: 2.4392667052357697\n",
      "Epoch: [10/30]   Epoch Average Loss: 2.4790432126459505\n",
      "Validation Loss: 2.3372261898462163\n",
      "Epoch: [11/30]   Epoch Average Loss: 2.3920088419066228\n",
      "Validation Loss: 2.2467132827570273\n",
      "Epoch: [12/30]   Epoch Average Loss: 2.314699525388267\n",
      "Validation Loss: 2.1654180198214776\n",
      "Epoch: [13/30]   Epoch Average Loss: 2.2458724824402143\n",
      "Validation Loss: 2.095848536768625\n",
      "Epoch: [14/30]   Epoch Average Loss: 2.1831136276353553\n",
      "Validation Loss: 2.0279698448125707\n",
      "Epoch: [15/30]   Epoch Average Loss: 2.1251411394544664\n",
      "Validation Loss: 1.964462166608766\n",
      "Epoch: [16/30]   Epoch Average Loss: 2.0719572164921995\n",
      "Validation Loss: 1.9063136147898296\n",
      "Epoch: [17/30]   Epoch Average Loss: 2.0221608119525296\n",
      "Validation Loss: 1.8555685371853585\n",
      "Epoch: [18/30]   Epoch Average Loss: 1.976353214711559\n",
      "Validation Loss: 1.8058830458064412\n",
      "Epoch: [19/30]   Epoch Average Loss: 1.9332563413127866\n",
      "Validation Loss: 1.7564936453519866\n",
      "Epoch: [20/30]   Epoch Average Loss: 1.8928789032443967\n",
      "Validation Loss: 1.7108579423538475\n",
      "Epoch: [21/30]   Epoch Average Loss: 1.8543766743935233\n",
      "Validation Loss: 1.6695472882237545\n",
      "Epoch: [22/30]   Epoch Average Loss: 1.8180083378758445\n",
      "Validation Loss: 1.6257557993711427\n",
      "Epoch: [23/30]   Epoch Average Loss: 1.7830906890919187\n",
      "Validation Loss: 1.5884319793346315\n",
      "Epoch: [24/30]   Epoch Average Loss: 1.7500259758084578\n",
      "Validation Loss: 1.5484354828679285\n",
      "Epoch: [25/30]   Epoch Average Loss: 1.7180993039128385\n",
      "Validation Loss: 1.5135479527850484\n",
      "Epoch: [26/30]   Epoch Average Loss: 1.687429049793555\n",
      "Validation Loss: 1.4792599740416505\n",
      "Epoch: [27/30]   Epoch Average Loss: 1.6577639147074508\n",
      "Validation Loss: 1.445861185705939\n",
      "Epoch: [28/30]   Epoch Average Loss: 1.6295213787965803\n",
      "Validation Loss: 1.4107953150605046\n",
      "Epoch: [29/30]   Epoch Average Loss: 1.6020960018864179\n",
      "Validation Loss: 1.3791764711224757\n",
      "Epoch: [30/30]   Epoch Average Loss: 1.5750350979952354\n",
      "Validation Loss: 1.3477486080901568\n"
     ]
    },
    {
     "data": {
      "image/png": "[encoded data removed]",
      "text/plain": [
       "<Figure size 800x600 with 1 Axes>"
      ]
     },
     "metadata": {},
     "output_type": "display_data"
    }
   ],
   "source": [
    "my_mask = generate_causal_mask(window_length) # win_len by win_len mask\n",
    "\n",
    "# Create model\n",
    "num_tokens = vocab_len\n",
    "model = MusicTransformer(num_tokens, d_model, n_heads, d_ff, window_length, n_decoder_layers).to(device)\n",
    "\n",
    "# Use Adam cause he's so cool\n",
    "optimizer = Adam(model.parameters(), lr=learning_rate)\n",
    "criterion = nn.CrossEntropyLoss()\n",
    "\n",
    "transformer_train_losses = []\n",
    "transformer_valid_losses = []\n",
    "\n",
    "# Training loop\n",
    "for epoch in range(num_epochs):\n",
    "    model.train()\n",
    "    epoch_loss = 0 # cumalative loss\n",
    "\n",
    "    # Cycle through each batch\n",
    "    for batch in training_dataloader:\n",
    "        inp = batch[:, :-1] # grabs all but last\n",
    "        tgt = batch[:, 1:] # grabs all except first (shifted once)\n",
    "\n",
    "\n",
    "        optimizer.zero_grad()\n",
    "        # Pass through model\n",
    "        output = model(inp)\n",
    "        # Determine loss\n",
    "        loss = criterion(output.contiguous().view(-1, num_tokens), tgt.reshape(-1))\n",
    "        # Update weights\n",
    "        loss.backward()\n",
    "        optimizer.step()\n",
    "        # Add to epoch_loss\n",
    "        epoch_loss += loss.item()\n",
    "\n",
    "    # Now show average loss for epoch\n",
    "    avg_epoch_loss = epoch_loss / len(training_dataloader)\n",
    "    transformer_train_losses.append(avg_epoch_loss)\n",
    "    print(f\"Epoch: [{epoch+1}/{num_epochs}]   Epoch Average Loss: {avg_epoch_loss}\")\n",
    "\n",
    "\n",
    "\n",
    "    # Validation\n",
    "    model.eval()\n",
    "    valid_loss = 0 # cumalative loss\n",
    "\n",
    "    # Cycle through each batch\n",
    "    for batch in validation_dataloader:\n",
    "        inp = batch[:, :-1] # grabs all but last\n",
    "        tgt = batch[:, 1:] # grabs all except first (shifted once)\n",
    "\n",
    "        # Pass through model\n",
    "        output = model(inp)\n",
    "        # Determine loss\n",
    "        loss = criterion(output.view(-1, num_tokens), tgt.reshape(-1))\n",
    "        valid_loss += loss.item()\n",
    "    # Now show average loss for \n",
    "    avg_epoch_loss = valid_loss / len(validation_dataloader)\n",
    "    transformer_valid_losses.append(avg_epoch_loss)\n",
    "    print(f\"Validation Loss: {avg_epoch_loss}\")\n",
    "\n",
    "\n",
    "\n",
    "\n",
    "Display_Plot(train_loss=transformer_train_losses, valid_loss=transformer_valid_losses, model_name=\"Transformer Music\")"
   ]
  },
  {
   "cell_type": "code",
   "execution_count": 12,
   "metadata": {},
   "outputs": [
    {
     "name": "stderr",
     "output_type": "stream",
     "text": [
      "/tmp/ipykernel_890141/2880647662.py:6: UserWarning: To copy construct from a tensor, it is recommended to use sourceTensor.clone().detach() or sourceTensor.clone().detach().requires_grad_(True), rather than torch.tensor(sourceTensor).\n",
      "  predicted_tokens = torch.tensor(start_tokens).clone().detach().unsqueeze(0) # (1, len(start_tokens))\n"
     ]
    },
    {
     "name": "stdout",
     "output_type": "stream",
     "text": [
      "['</simul>', '<simul>', 'noteF#5_1/3', 'noteF#6_1/3', 'noteB3_3', 'noteB4_1/2', '</simul>', '<simul>', 'noteC#5_2', 'noteF#4_2/3', 'noteC#5_2', 'noteF#4_2/3', 'noteG#4_2/3', '<simul>', 'noteB4_2/3', 'noteG#4_2/3', 'rest_1/3', 'noteC#2_1', 'noteC#4_2/3', 'noteG#4_2/3', 'noteG#4_2/3', 'noteG#4_2/3', 'noteG#4_2/3', 'noteG#4_2/3', 'noteG#4_2/3', 'noteC#5_2/3', 'noteC#4_2/3', 'noteG#4_2/3', 'noteB-4_2/3', 'noteC#4_2/3', 'noteB-4_2/3', 'noteG#4_2/3', 'noteC#5_2/3', 'noteC#4_2/3', 'noteG#4_2/3', 'noteC#5_2/3', 'noteC#4_2/3', 'noteG#4_2/3', 'noteC#5_2/3', 'noteC#4_2/3', 'noteG#4_2/3', 'noteG#4_2/3', 'noteB-4_2/3', 'noteG#4_2/3', 'noteC#4_2/3', 'noteG#4_2/3', 'noteG#4_2/3', 'noteG#4_2/3', '</simul>', '<simul>', 'noteC#4_2/3', '</simul>', '<simul>', 'noteC#4_2/3', 'noteG#4_2/3', 'noteG#4_2/3', '</simul>', '<simul>', 'noteC#4_2/3', 'noteG#4_2/3', 'noteG#4_2/3', 'noteB-4_2/3', '<simul>', 'noteC#4_2/3', '</simul>', '<simul>', 'noteC#4_2/3', '</simul>', '<simul>', 'noteG#1_1/3', '</simul>', '<simul>', 'noteE-5_2/3', 'noteC#3_2/3', '</simul>', '<simul>', 'noteC#4_2/3', '</simul>', '<simul>', 'noteC#4_2/3', '</simul>', '<simul>', 'noteC#6_2/3', '</simul>', '<simul>', 'noteG#4_2/3', '</simul>', '<simul>', 'noteC#4_2/3', '</simul>', '<simul>', 'noteC#4_2/3', '</simul>', '<simul>', 'noteC#4_2/3', '</simul>', '<simul>', 'noteG#3_2/3', 'noteE-4_2/3', '</simul>', '<simul>', 'noteC#4_2/3', '</simul>', '<simul>', 'noteG5_2/3', '</simul>', '<simul>', 'noteC#4_2/3', '</simul>', '<simul>', 'noteC#4_2/3', '</simul>', '<simul>', 'noteC#4_2/3', '</simul>', '<simul>', 'rest_1/16', '</simul>', '<simul>', 'noteC#4_2/3', '</simul>', '<simul>', 'noteE4_2/3', '</simul>', '<simul>', 'noteC#4_2/3', 'noteB-4_2/3', '</simul>', '<simul>', 'noteG#4_1/4', '</simul>', '<simul>', 'noteE4_2/3', '</simul>', '<simul>', 'noteC#4_2/3', '</simul>', '<simul>', 'noteC#4_2/3', '</simul>', '<simul>', 'noteC#4_2/3', '</simul>', '<simul>', 'noteC#4_2/3', '</simul>', '<simul>', '</simul>', '<simul>', 'noteC#4_2/3', '</simul>', '<simul>', 'noteC#4_2/3', '</simul>', '<simul>', 'noteC#4_2/3', '</simul>', '<simul>', 'noteC#4_2/3', 'noteC#5_2/3', '</simul>', '<simul>', 'noteC#4_2/3', '</simul>', '<simul>', '<simul>', '<simul>', 'noteC#4_2/3', '</simul>', '<simul>', 'rest_1', '</simul>', '<simul>', 'noteC#4_2/3', '</simul>', '<simul>', 'noteG#2_2/3', '</simul>', '<simul>', 'noteC#4_2/3', '</simul>', '<simul>', 'noteC#4_2/3', '</simul>', '<simul>', 'noteG#3_2/3', '<simul>', 'noteC#4_2/3', '</simul>', '<simul>', 'noteC#4_2/3', '</simul>', '<simul>', 'noteC#4_2/3', '</simul>', '<simul>', '<simul>', 'rest_1/2', '</simul>', '<simul>', 'noteC#6_1/2', '</simul>', '<simul>', 'noteC#6_1/2', '</simul>', '<simul>', 'rest_1/2', '</simul>', '<simul>', 'noteC#6_1/2', '</simul>', '<simul>', 'noteC#6_1/2', '</simul>', '<simul>', 'noteC#6_1/2', 'noteC#6_1/2', '</simul>', '<simul>', 'noteC#6_1/2', 'noteC#6_1/2', 'noteF6_1/2', 'noteC#6_1/2', 'noteC#6_1/2', 'noteC#6_1/2', 'noteC#6_1/2', 'noteC#6_1/2', 'noteC#6_1/2', 'noteC#6_1/2', 'noteC#6_1/2', 'noteC#6_1/2', 'noteC#6_1/2', '</simul>', '<simul>', 'noteC#6_1/2', 'noteC#6_1/2', 'noteC#6_1/2', 'noteC#6_1/2', 'noteC#6_1/2', 'noteC#6_1/2', 'noteC#6_1/2', 'noteC#6_1/2', 'noteC#6_1/2', 'noteC#6_1/2', 'noteC#6_1/2', 'noteC#6_1/2', 'noteC#6_1/2', 'noteC#6_1/2', 'noteC#6_1/2', 'noteC#6_1/2', 'noteC#6_1/2', 'noteC#6_1/2', 'noteC#6_1/2', 'noteC#6_1/2', 'noteC#6_1/2', 'noteC#6_1/2', 'noteC#6_1/2', 'noteC#6_1/2', 'noteC#6_1/2', 'noteC#6_1/2', 'noteC#6_1/2', 'noteC#6_1/2', 'noteC#6_1/2', 'noteC#6_1/2', 'noteC#6_1/2', 'noteC#6_1/2', 'noteC#6_1/2', 'noteC#6_1/2', 'noteC#6_1/2', 'noteC#6_1/2', 'noteC#6_1/2', 'noteC#6_1/2', 'noteC#6_1/2', 'noteC#6_1/2', 'noteC#6_1/2', 'noteC#6_1/2', 'noteC#6_1/2', 'noteC#6_1/2', 'noteC#6_1/2', 'noteC#6_1/2', 'noteC#6_1/2', 'noteC#6_1/2', 'noteC#6_1/2', 'noteC#6_1/2', 'noteC#6_1/2', 'noteC#6_1/2', 'noteC#6_1/2', 'noteC#6_1/2', 'noteC#6_1/2', 'noteC#6_1/2', 'noteC#6_1/2', 'noteC#6_1/2', 'noteC#6_1/2', 'noteC#6_1/2', 'noteC#6_1/2', 'noteC#6_1/2', 'noteC#6_1/2', 'noteC#6_1/2', 'noteC#6_1/2', 'noteC#6_1/2', 'noteC#6_1/2', 'noteC#6_1/2', 'noteC#6_1/2', 'noteC#6_1/2', 'noteC#6_1/2', 'noteC#6_1/2', 'noteC#6_1/2', 'noteC#6_1/2', 'noteC#6_1/2', 'noteC#6_1/2', 'noteC#6_1/2', 'noteC#6_1/2', 'noteC#6_1/2', 'noteC#6_1/2', 'noteC#6_1/2', 'noteC#6_1/2', 'noteC#6_1/2', 'noteC#6_1/2', 'noteC#6_1/2', 'noteC#6_1/2', 'noteC#6_1/2', 'noteC#6_1/2', 'noteC#6_1/2', 'noteC#6_1/2', 'noteC#6_1/2', 'noteC#6_1/2', 'noteC#6_1/2', 'noteC#6_1/2', 'noteC#6_1/2', 'noteC#6_1/2', 'noteC#6_1/2', 'noteC#6_1/2', 'noteC#6_1/2', 'noteC#6_1/2', 'noteC#6_1/2', 'noteC#6_1/2', 'noteC#6_1/2', 'noteC#6_1/2', 'noteC#6_1/2', 'noteC#6_1/2', 'noteC#6_1/2', 'noteC#6_1/2', 'noteC#6_1/2', 'noteC#6_1/2', 'noteC#6_1/2', '</simul>', 'noteC#6_1/2', 'noteC#6_1/2', 'noteC#6_1/2', 'noteD3_2/3', 'noteF#3_2/3', 'noteF#2_1/2', '</simul>', 'noteC#4_2/3', '</simul>', 'noteF#2_1', '</simul>', 'noteG#4_2/3', 'rest_1/2', 'rest_1/2', 'rest_1/2', 'rest_1/2', 'rest_1/2', 'rest_1/2', '</simul>', '<simul>', 'rest_1/2', 'rest_1/2', 'rest_1/2', 'rest_1/2', 'rest_1/2', 'rest_1/2', 'rest_1/2', 'rest_1/2', 'rest_1/2', '</simul>', 'rest_1/2', 'rest_1/2', 'rest_1/2', 'rest_1/2', 'rest_1/2', '</simul>', '<simul>', 'rest_1/2', 'rest_1/2', 'rest_1/2', 'rest_1/2', 'rest_1/2', 'rest_1/2', 'rest_1/2', 'rest_1/2', 'rest_1/2', 'rest_1/2', 'rest_1/2', 'rest_1/2', 'rest_1/2', 'rest_1/2', 'rest_1/2', 'rest_1/2', 'rest_1/2', 'rest_1/2', 'rest_1/2', 'rest_1/2', 'rest_1/2', 'rest_1/2', 'rest_1/2', 'rest_1/2', 'rest_1/2', 'rest_1/2', 'rest_1/2', 'rest_1/2', 'rest_1/2', 'rest_1/2', 'rest_1/2', 'rest_1/2', 'rest_1/2', 'rest_1/2', 'rest_1/2', 'rest_1/2', 'rest_1/2', 'rest_1/2', 'rest_1/2', 'rest_1/2', 'rest_1/2', 'rest_1/2', 'rest_1/2', 'rest_1/2', 'rest_1/2', 'rest_1/2', 'rest_1/2', 'rest_1/2', 'rest_1/2', 'rest_1/2', 'rest_1/2', 'rest_1/2', 'rest_1/2', 'rest_1/2', 'rest_1/2', 'rest_1/2', 'rest_1/2', 'rest_1/2', 'rest_1/2', 'rest_1/2', 'rest_1/2', 'rest_1/2', 'rest_1/2', 'rest_1/2', 'rest_1/2', 'rest_1/2', 'rest_1/2', 'rest_1/2', 'rest_1/2', 'rest_1/2', 'rest_1/2', 'rest_1/2', 'rest_1/2', 'rest_1/2', 'rest_1/2', 'rest_1/2', 'rest_1/2', 'rest_1/2', 'rest_1/2', 'rest_1/2', 'rest_1/2', 'rest_1/2', 'rest_1/2', 'rest_1/2', 'rest_1/2', 'rest_1/2', 'rest_1/2', 'rest_1/2', 'rest_1/2', 'rest_1/2', 'rest_1/2', 'rest_1/2', 'rest_1/2', 'rest_1/2', 'rest_1/2', 'rest_1/2', 'rest_1/2', 'rest_1/2', 'rest_1/2', 'rest_1/2', 'rest_1/2', 'rest_1/2', 'rest_1/2', 'rest_1/2', 'rest_1/2', 'rest_1/2', 'rest_1/2', 'rest_1/2', 'rest_1/2', 'rest_1/2', 'rest_1/2', 'rest_1/2', 'rest_1/2', 'rest_1/2', 'rest_1/2', 'rest_1/2', 'rest_1/2', 'rest_1/2', 'rest_1/2', 'rest_1/2', 'rest_1/2', 'rest_1/2', 'rest_1/2', 'rest_1/2', 'rest_1/2', 'rest_1/2', 'rest_1/2', 'rest_1/2', 'rest_1/2', 'rest_1/2', 'rest_1/2', 'rest_1/2', 'rest_1/2', 'rest_1/2', 'rest_1/2', 'rest_1/2', 'rest_1/2', 'rest_1/2', 'rest_1/2', 'rest_1/2', 'rest_1/2', 'rest_1/2', 'rest_1/2', 'rest_1/2', 'rest_1/2', 'rest_1/2', 'rest_1/2', 'rest_1/2', 'rest_1/2', 'rest_1/2', 'rest_1/2', 'rest_1/2', 'rest_1/2', 'rest_1/2', 'rest_1/2', 'rest_1/2', 'rest_1/2', 'rest_1/2', 'rest_1/2', 'rest_1/2', 'rest_1/2', 'rest_1/2', 'rest_1/2', 'rest_1/2', 'rest_1/2', 'rest_1/2', 'rest_1/2', 'rest_1/2', 'rest_1/2', 'rest_1/2', 'rest_1/2', 'rest_1/2', 'rest_1/2', 'rest_1/2', 'rest_1/2', 'rest_1/2', 'rest_1/2', 'rest_1/2', 'rest_1/2', 'rest_1/2', 'rest_1/2', 'rest_1/2', 'rest_1/2', 'rest_1/2', 'rest_1/2', 'rest_1/2', 'rest_1/2', 'rest_1/2', 'rest_1/2', 'rest_1/2', 'rest_1/2', 'rest_1/2', 'rest_1/2', 'rest_1/2', 'rest_1/2', 'rest_1/2', 'rest_1/2', 'rest_1/2', 'rest_1/2', 'rest_1/2', 'rest_1/2', 'rest_1/2', 'rest_1/2', 'rest_1/2', 'rest_1/2', 'rest_1/2', 'rest_1/2', 'rest_1/2', 'rest_1/2', 'rest_1/2', 'rest_1/2', 'rest_1/2', 'rest_1/2', 'rest_1/2', 'rest_1/2', 'rest_1/2', 'rest_1/2', 'rest_1/2', 'rest_1/2', 'rest_1/2', 'rest_1/2', 'rest_1/2', 'rest_1/2', 'rest_1/2', 'noteB-5_1', 'rest_1/2', 'rest_1/2', 'rest_1/2', 'rest_1/2', 'rest_1/2', 'rest_1/2', 'rest_1/2', 'rest_1/2', 'rest_1/2', 'rest_1/2', 'rest_1/2', 'rest_1/2', 'rest_1/2', 'rest_1/2', 'rest_1/2', 'rest_1/2', 'rest_1/2', 'rest_1/2', 'rest_1/2', 'rest_1/2', 'rest_1/2', 'rest_1/2', 'rest_1/2', 'rest_1/2', 'rest_1/2', 'rest_1/2', 'rest_1/2', 'rest_1/2', 'rest_1/2', 'rest_1/2', 'rest_1/2', 'rest_1/2', 'rest_1/2', 'rest_1/2', 'rest_1/2', 'rest_1/2', 'rest_1/2', 'rest_1/2', 'rest_1/2', 'rest_1/2', 'rest_1/2', 'rest_1/2', 'rest_1/2', '</simul>', 'noteB-3_1', 'rest_1/2', 'rest_1/2', 'rest_1/2', 'rest_1/2', 'rest_1/2', 'rest_1/2', 'rest_1/2', 'rest_1/2', 'rest_1/2', 'rest_1/2', 'rest_1/2', 'rest_1/2', 'rest_1/2', 'rest_1/2', 'rest_1/2', 'rest_1/2', 'rest_1/2', 'rest_1/2', '</simul>', 'noteF5_3/16', 'noteF3_2', 'rest_1/2', 'rest_1/2', 'rest_1/2', 'rest_1/2', 'rest_1/2', 'rest_1/2', 'rest_1/2', 'noteC6_2', 'rest_3/2', 'rest_1/2', 'rest_1/2', 'rest_1/2', 'rest_1/2', 'rest_1/2', 'rest_1/2', 'rest_1/2', 'rest_1/2', 'rest_1/2', '</simul>', 'noteB-5_1', 'rest_1/2', 'rest_1/2', 'rest_1/2', '</simul>', 'noteB-5_1', '</simul>', 'noteB-5_1/2', 'rest_1/2', 'rest_1/2', 'rest_1/2', 'rest_1/2', 'rest_1/2', 'rest_1/2', 'rest_1/2', 'rest_1/2', 'rest_1/2', 'rest_1/2', '</simul>', 'noteB-5_1', 'rest_1/2', '</simul>', 'noteB-5_1/2', '</simul>', 'noteB-5_1', 'noteB-5_1', 'noteB-5_1/2', 'noteB-5_1', 'rest_1/2', 'rest_1/2', '</simul>', 'noteF3_1/6', 'noteF3_2', '</simul>', 'noteF3_1/6', '</simul>', 'noteF5_3/16', '</simul>', 'noteC3_1/6', '</simul>', 'noteF3_1/6', '</simul>', 'noteB-3_1/6', '</simul>', 'noteF3_1/6', '</simul>', 'noteF3_1/6', 'noteC#3_2', '</simul>', '<simul>', 'noteC#3_1/3', '</simul>', 'noteF3_1/6', 'noteB-3_1/4', 'noteF3_1/6', 'noteF3_2', '</simul>', 'noteF3_1/6', 'noteF3_1/6', 'noteF3_1/6', '</simul>', 'noteF3_1/6', '</simul>', 'noteF3_1/6', 'noteF3_1/6', 'noteF3_1/6', '</simul>', 'noteF3_1/6', '</simul>', 'noteF3_1/6', '</simul>', 'noteF3_1/6', '</simul>', 'noteF3_1/6', 'rest_1/2', 'rest_1/2', 'rest_1/2', 'rest_1/2', 'rest_1/2', 'rest_1/2', 'rest_1/2', 'rest_1/2', 'rest_1/2', 'rest_1/2', 'rest_1/2', 'rest_1/2', 'rest_1/2', 'rest_1/2', 'rest_1/2', 'rest_1/2', 'rest_1/2', 'rest_1/2', 'rest_1/2', 'rest_1/2', 'rest_1/2', 'rest_1/2', 'rest_1/2', 'rest_1/2', 'rest_1/2', 'rest_1/2', 'rest_1/2', 'rest_1/2', 'rest_1/2', 'rest_1/2', 'rest_1/2', 'rest_1/2', 'rest_1/2', 'rest_1/2', 'rest_1/2', 'rest_1/2', 'rest_1/2', 'rest_1/2', 'rest_1/2', 'rest_1/2', 'rest_1/2', 'rest_1/2', 'rest_1/2', 'rest_1/2', 'rest_1/2', 'rest_1/2', 'rest_1/2', 'rest_1/2', 'rest_1/2', 'rest_1/2', 'rest_1/2', 'rest_1/2', 'rest_1/2', 'rest_1/2', 'rest_1/2', 'rest_1/2', 'rest_1/2', 'rest_1/2', 'rest_1/2', 'rest_1/2', 'rest_1/2', 'rest_1/2', 'rest_1/2', 'rest_1/2', 'rest_1/2', 'rest_1/2', 'rest_1/2', 'rest_1/2', 'rest_1/2', 'rest_1/2', 'rest_1/2', 'rest_1/2', 'rest_1/2', 'rest_1/2', 'rest_1/2', 'rest_1/2', 'rest_1/2', 'rest_1/2', 'rest_1/2', 'rest_1/2', 'rest_1/2', 'rest_1/2', 'rest_1/2', 'rest_1/2', 'rest_1/2', 'rest_1/2', 'rest_1/2', 'rest_1/2', 'rest_1/2', 'rest_1/2', 'rest_1/2', 'rest_1/2', 'rest_1/2', 'rest_1/2', 'rest_1/2', 'rest_1/2', 'rest_1/2', 'rest_1/2', 'rest_1/2', 'rest_1/2', 'rest_1/2', 'rest_1/2', 'rest_1/2', 'rest_1/2', 'rest_1/2', 'rest_1/2', 'rest_1/2', 'rest_1/2', 'rest_1/2', 'rest_1/2', 'rest_1/2', 'rest_1/2', 'rest_1/2', 'rest_1/2', 'rest_1/2', 'rest_1/2', 'rest_1/2', 'rest_1/2', 'rest_1/2', 'rest_1/2', 'rest_1/2', 'rest_1/2', 'rest_1/2', 'rest_1/2', 'rest_1/2', 'rest_1/2', 'rest_1/2', 'rest_1/2', 'rest_1/2', 'rest_1/2', 'rest_1/2', 'rest_1/2', 'rest_1/2', 'rest_1/2', 'rest_1/2', 'rest_1/2', 'rest_1/2', 'rest_1/2', 'rest_1/2', 'rest_1/2', 'rest_1/2', 'rest_1/2', 'rest_1/2', 'rest_1/2', 'rest_1/2', 'rest_1/2', 'rest_1/2', 'rest_1/2', 'rest_1/2', 'rest_1/2', 'rest_1/2', 'rest_1/2', 'rest_1/2', 'rest_1/2', 'rest_1/2', 'rest_1/2', 'rest_1/2', 'rest_1/2', 'rest_1/2', 'rest_1/2', 'rest_1/2', 'rest_1/2', 'rest_1/2', 'rest_1/2', 'rest_1/2', 'rest_1/2', 'rest_1/2', 'rest_1/2', 'rest_1/2', 'rest_1/2', 'rest_1/2', 'rest_1/2', 'rest_1/2', 'rest_1/2', 'rest_1/2', 'rest_1/2', 'rest_1/2', 'rest_1/2', 'rest_1/2', 'rest_1/2', 'rest_1/2', 'rest_1/2', 'rest_1/2', 'rest_1/2', 'rest_1/2', 'rest_1/2', 'rest_1/2', 'rest_1/2', 'rest_1/2', 'rest_1/2', 'rest_1/2', 'rest_1/2', 'rest_1/2', 'rest_1/2', 'rest_1/2', 'rest_1/2', 'rest_1/2', 'rest_1/2', 'rest_1/2', 'rest_1/2', 'rest_1/2', 'rest_1/2', 'rest_1/2', 'rest_1/2', 'rest_1/2', 'rest_1/2', 'rest_1/2', 'rest_1/2', 'rest_1/2', 'rest_1/2', 'rest_1/2', 'rest_1/2', 'rest_1/2', 'rest_1/2', 'rest_1/2', 'rest_1/2', 'rest_1/2', 'rest_1/2', 'rest_1/2', 'rest_1/2', 'rest_1/2', 'rest_1/2', 'rest_1/2', 'rest_1/2', 'rest_1/2', 'rest_1/2', 'rest_1/2', 'rest_1/2', 'rest_1/2', 'rest_1/2', 'rest_1/2', 'rest_1/2', 'rest_1/2', 'rest_1/2', 'rest_1/2', 'rest_1/2', 'rest_1/2', 'rest_1/2', 'rest_1/2', 'rest_1/2', 'rest_1/2', 'rest_1/2', 'rest_1/2', 'rest_1/2', 'rest_1/2', 'rest_1/2', 'rest_1/2', 'rest_1/2', 'noteB4_1/2', 'rest_1/2', 'rest_1/2', 'rest_1/2', 'noteE-3_1', '</simul>', 'rest_1/2', 'rest_1/2', 'rest_1/2', 'rest_1/2', 'rest_1/2', 'rest_1/2', 'rest_1/2']\n",
      "None\n"
     ]
    }
   ],
   "source": [
    "# this just grabs a random batch and performs on it\n",
    "for batch in validation_dataloader:\n",
    "    bleh = generate_music(model, batch[0][:4], temperature=1.0)\n",
    "    notes = [token_to_note[token] for token in bleh]\n",
    "    print(print(notes))\n",
    "    break"
   ]
  },
  {
   "cell_type": "code",
   "execution_count": 13,
   "metadata": {},
   "outputs": [],
   "source": [
    "torch.save(model.state_dict(), \"music_transformer_model.pth\")"
   ]
  },
  {
   "cell_type": "markdown",
   "metadata": {},
   "source": [
    "# Final Comparisons"
   ]
  },
  {
   "cell_type": "markdown",
   "metadata": {},
   "source": [
    "When starting this project, we assumed that the Transformer model would perform the best; it's ability to scale and use attention should (in theory) perform much better for music data than the simpler RNN or LSTM. However, we found that the performance increase was not incredible, especially after adapting the model architecture of them all. We believe this might be due to a lack of data, as well as our tokenization methods keeping the note and length together. Future work might divide these into individual tokens, and apply a different encoding technique so that the transformer has more to work with.\n",
    "\n",
    "For the RNN, the losses start at 4, and it eventually goes down to 1.65. We had to change the architecture a lot, but we did not see a lot of overfitting. Improvements start slowing down after epoch 20.\n",
    "\n",
    "For the LSTM, the losses started at 4, then went down to 1.1. We originally had a bug in our training loop, which led us to overfit heavily, so we tried many different model architectures before fixing the bug. Once we did, the overfitting problem was solved. Improvements slowed down drastically upon reaching epoch 20, so we used that for training. Of the models, this seemed to perform the best.\n",
    "\n",
    "For the transformer, the losses started out decently high (4.5) but fell very quickly. Despite using the standard dropout, 0.1, we did not observe much overfitting. The validation loss stayed under the training loss the entire time. Notably, the model continued to perform well even after epoch 20, so we increased the amount of epochs to 30, after which the model performance started tapering off. Final validation loss was around 1.34."
   ]
  }
 ],
 "metadata": {
  "kernelspec": {
   "display_name": "Python 3",
   "language": "python",
   "name": "python3"
  },
  "language_info": {
   "codemirror_mode": {
    "name": "ipython",
    "version": 3
   },
   "file_extension": ".py",
   "mimetype": "text/x-python",
   "name": "python",
   "nbconvert_exporter": "python",
   "pygments_lexer": "ipython3",
   "version": "3.10.12"
  }
 },
 "nbformat": 4,
 "nbformat_minor": 2
}
