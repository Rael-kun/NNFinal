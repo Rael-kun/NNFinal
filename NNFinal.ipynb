{
 "cells": [
  {
   "cell_type": "markdown",
   "metadata": {},
   "source": [
    "# Libraries"
   ]
  },
  {
   "cell_type": "code",
   "execution_count": 1,
   "metadata": {},
   "outputs": [],
   "source": [
    "import torch\n",
    "import torch.nn as nn\n",
    "from torch.utils.data import DataLoader, TensorDataset, Dataset, random_split\n",
    "from torch.optim import Adam\n",
    "import torch.nn.functional as F\n",
    "import numpy as np\n",
    "\n",
    "# for teacher\n",
    "import random\n",
    "\n",
    "from sklearn.model_selection import train_test_split\n",
    "\n",
    "# Side variables\n",
    "device = torch.device('cuda' if torch.cuda.is_available() else 'cpu')\n",
    "base_type = np.float32\n",
    "torch_type = torch.float32\n",
    "batch_size = 64\n",
    "window_length = 1024 # Data points will hold 1024 tokens of observations (should be 1/4 average song length in tokens, remember to remove outliers)\n",
    "window_step_size = 128 # Sliding window will move this much each time (higher numbers means less data, but less overfitting to similar data)\n"
   ]
  },
  {
   "cell_type": "markdown",
   "metadata": {},
   "source": [
    "# Load Data / Tokenize"
   ]
  },
  {
   "cell_type": "code",
   "execution_count": 2,
   "metadata": {},
   "outputs": [
    {
     "name": "stdout",
     "output_type": "stream",
     "text": [
      "['<simul>', 'rest_1/2', 'noteD3_1/2', '</simul>', '<simul>']\n"
     ]
    }
   ],
   "source": [
    "# load\n",
    "data = []\n",
    "with open(\"./out.txt\", \"r\") as file:\n",
    "    data = file.read().splitlines()\n",
    "\n",
    "print(data[5:10])"
   ]
  },
  {
   "cell_type": "code",
   "execution_count": 3,
   "metadata": {},
   "outputs": [
    {
     "name": "stdout",
     "output_type": "stream",
     "text": [
      "4195\n"
     ]
    }
   ],
   "source": [
    "# now tokenize\n",
    "unique_tokens = set(list(data) + [\"PAD\"])\n",
    "print(len(unique_tokens))\n",
    "# mapping\n",
    "note_to_token = {note: idx for idx, note in enumerate(unique_tokens)}\n",
    "token_to_note = {idx: note for note, idx in note_to_token.items()}\n"
   ]
  },
  {
   "cell_type": "markdown",
   "metadata": {},
   "source": [
    "# Data Preprocessing"
   ]
  },
  {
   "cell_type": "code",
   "execution_count": 4,
   "metadata": {},
   "outputs": [
    {
     "name": "stdout",
     "output_type": "stream",
     "text": [
      "401\n",
      "1907\n"
     ]
    }
   ],
   "source": [
    "end_token = note_to_token[\"<end_song>\"]\n",
    "pad_token = note_to_token[\"PAD\"]\n",
    "print(end_token)\n",
    "print(pad_token)"
   ]
  },
  {
   "cell_type": "code",
   "execution_count": 5,
   "metadata": {},
   "outputs": [],
   "source": [
    "data_inp = [note_to_token[tok] for tok in data]\n",
    "\n",
    "\n",
    "# Assume already tokenized (this is for transformer, must be adapted for other models)\n",
    "class MusicDataset(Dataset):\n",
    "    def __init__(self, data, window_length, step_size):\n",
    "        self.temp_data = data\n",
    "        self.window_length = window_length\n",
    "        self.step_size = step_size\n",
    "        self.final_data = self.apply_window()\n",
    "\n",
    "    def apply_window(self):\n",
    "        train_examples = []\n",
    "        song_data = []\n",
    "        cur_seq = []\n",
    "\n",
    "        # first split data by songs\n",
    "        for tok in self.temp_data:\n",
    "            cur_seq.append(tok)\n",
    "            if(tok == end_token):\n",
    "                song_data.append(cur_seq)\n",
    "                cur_seq = []\n",
    "        \n",
    "        # then apply sliding windows\n",
    "        for song in song_data:\n",
    "            idx = 0\n",
    "            # create sliding windows\n",
    "            for start_idx in range(0, len(song) - self.window_length + 1, self.step_size):\n",
    "                end_idx = start_idx + self.window_length\n",
    "                idx = end_idx # store most recent end_idx\n",
    "                train_example = song[start_idx:end_idx] # training of length window_length\n",
    "                train_examples.append(train_example)\n",
    "            \n",
    "            # now add ending and pad (so model can learn how to finish predicting)\n",
    "            train_example = song[idx:]\n",
    "            train_example += [0] * (self.window_length - len(train_example))\n",
    "            train_examples.append(train_example)\n",
    "\n",
    "\n",
    "        return train_examples\n",
    "\n",
    "    #def apply_window(self):\n",
    "    #    # return sliding window data + labels\n",
    "    #    train_examples = []\n",
    "    #    # cycle through each window configuration, calculating start index and end index\n",
    "    #    for start_idx in range(0, len(self.temp_data) - self.window_length + 1, self.step_size):\n",
    "    #        end_idx = start_idx + self.window_length\n",
    "    #        train_example = self.temp_data[start_idx:end_idx] # training of length window_length\n",
    "    #        train_examples.append(train_example)\n",
    "    #        \n",
    "    #    return train_examples\n",
    "    \n",
    "                \n",
    "\n",
    "    def __len__(self):\n",
    "        return len(self.final_data)\n",
    "\n",
    "    def __getitem__(self, idx):\n",
    "        window = self.final_data[idx]\n",
    "\n",
    "        return torch.tensor(window).to(device)\n",
    "    \n",
    "\n",
    "dataset = MusicDataset(data_inp, window_length, window_step_size)\n",
    "\n",
    "train_size = int(0.8 * len(dataset))\n",
    "val_size = len(dataset) - train_size\n",
    "\n",
    "train_dataset, val_dataset = random_split(dataset, [train_size, val_size])\n",
    "\n",
    "training_dataloader = DataLoader(train_dataset, batch_size=batch_size, shuffle=True)\n",
    "validation_dataloader = DataLoader(val_dataset, batch_size=batch_size, shuffle=False)\n",
    "\n",
    "vocab_len = len(unique_tokens)\n"
   ]
  },
  {
   "cell_type": "code",
   "execution_count": 6,
   "metadata": {},
   "outputs": [],
   "source": [
    "# generate music\n",
    "# for now, generate a fixed length, if we add start and end tokens then we can also do that\n",
    "def generate_music(model, start_tokens, temperature=1.0, num_to_generate=window_length):\n",
    "    model.eval()\n",
    "\n",
    "    predicted_tokens = torch.tensor(start_tokens).clone().detach().unsqueeze(0) # (1, len(start_tokens))\n",
    "    # iteratively predict then add to start_tokens\n",
    "    for i in range(num_to_generate):\n",
    "        with torch.no_grad():\n",
    "            # grab most recent tokens\n",
    "            logits = model(predicted_tokens[:, -(window_length):]) # (1, len(predicted_tokens), num_tokens)\n",
    "            logits = logits[:, -1, :] # grabs last token \n",
    "            probs = torch.softmax(logits / temperature, dim=-1) # (1, num_tokens)\n",
    "            pred_token = torch.multinomial(probs, num_samples=1) # (1, 1)\n",
    "\n",
    "        predicted_tokens = torch.cat([predicted_tokens, pred_token], dim=1) # (1, len(current sequence length))\n",
    "\n",
    "    return predicted_tokens.squeeze(0).tolist()\n"
   ]
  },
  {
   "cell_type": "code",
   "execution_count": 7,
   "metadata": {},
   "outputs": [],
   "source": [
    "from matplotlib import pyplot as plt\n",
    "def Display_Plot(train_loss, valid_loss, model_name):\n",
    "    # Get error metrics\n",
    "    train_err = np.array(train_loss)\n",
    "    val_err = np.array(valid_loss)\n",
    "    # Plot training and test errors\n",
    "    plt.figure(figsize=(8, 6))\n",
    "    plt.plot(range(1, len(train_err) + 1), train_err, label=\"train_loss\", color=\"red\", linewidth=2)\n",
    "    plt.plot(range(1, len(val_err) + 1), val_err, label=\"val_loss\", color=\"green\", linewidth=2)\n",
    "\n",
    "    plt.xlabel(\"Epochs\")\n",
    "    plt.ylabel(\"Losses\")\n",
    "    plt.title(model_name)\n",
    "    plt.legend()\n",
    "\n",
    "    plt.show()"
   ]
  },
  {
   "cell_type": "markdown",
   "metadata": {},
   "source": [
    "# RNN"
   ]
  },
  {
   "cell_type": "code",
   "execution_count": 19,
   "metadata": {},
   "outputs": [],
   "source": [
    "# RNN Variables\n",
    "seq_len = 256\n",
    "embed_size = 512 # larger embed size may require larger dropout\n",
    "dropout = 0.2\n",
    "lr = 1e-4\n",
    "epochs = 20"
   ]
  },
  {
   "cell_type": "code",
   "execution_count": 20,
   "metadata": {},
   "outputs": [],
   "source": [
    "class Music_RNN(nn.Module):\n",
    "    def __init__(self, vocab_len, input_size, hidden_size, dropout):\n",
    "        super(Music_RNN, self).__init__()\n",
    "        self.embed = nn.Embedding(vocab_len, input_size)\n",
    "        self.RNN = nn.RNN(input_size, hidden_size, batch_first=True, dropout=dropout)\n",
    "        self.ff = nn.Linear(hidden_size, vocab_len) # predicting next input autoregressively\n",
    "\n",
    "    def forward(self, x):\n",
    "        # x should be (batch_size, seq_len)\n",
    "        x = self.embed(x) # (batch_size, seq_len, input_size)\n",
    "        x, _ = self.RNN(x) # (batch_size, seq_len, hidden_size)\n",
    "        x_pred = self.ff(x) # batch_size, seq_len, vocab_len)\n",
    "\n",
    "        return x_pred "
   ]
  },
  {
   "cell_type": "code",
   "execution_count": 21,
   "metadata": {},
   "outputs": [
    {
     "name": "stderr",
     "output_type": "stream",
     "text": [
      "/home/dsu/.local/lib/python3.10/site-packages/torch/nn/modules/rnn.py:123: UserWarning: dropout option adds dropout after all but last recurrent layer, so non-zero dropout expects num_layers greater than 1, but got dropout=0.2 and num_layers=1\n",
      "  warnings.warn(\n"
     ]
    }
   ],
   "source": [
    "model_rnn = Music_RNN(vocab_len, seq_len, embed_size, dropout).to(device)"
   ]
  },
  {
   "cell_type": "code",
   "execution_count": 22,
   "metadata": {},
   "outputs": [
    {
     "name": "stdout",
     "output_type": "stream",
     "text": [
      "Epoch: 0, Loss: 5.708079005895036\n",
      "Validation loss: 4.399345066236413\n",
      "Epoch: 1, Loss: 4.288646494404653\n",
      "Validation loss: 4.189840866171795\n",
      "Epoch: 2, Loss: 4.146368074952886\n",
      "Validation loss: 4.09627628326416\n",
      "Epoch: 3, Loss: 4.061081366592578\n",
      "Validation loss: 4.0145416778066885\n",
      "Epoch: 4, Loss: 3.9771713969412814\n",
      "Validation loss: 3.9331225208614184\n",
      "Epoch: 5, Loss: 3.8950485031256514\n",
      "Validation loss: 3.8555546325186025\n",
      "Epoch: 6, Loss: 3.8046180371488076\n",
      "Validation loss: 3.755916792413463\n",
      "Epoch: 7, Loss: 3.7030341812733854\n",
      "Validation loss: 3.6622426302536675\n",
      "Epoch: 8, Loss: 3.60614708568273\n",
      "Validation loss: 3.5666248383729355\n",
      "Epoch: 9, Loss: 3.5182181985190746\n",
      "Validation loss: 3.487352516340173\n",
      "Epoch: 10, Loss: 3.44389710801371\n",
      "Validation loss: 3.4173030853271484\n",
      "Epoch: 11, Loss: 3.373274784409598\n",
      "Validation loss: 3.348304841829383\n",
      "Epoch: 12, Loss: 3.304361056745722\n",
      "Validation loss: 3.2852191199427065\n",
      "Epoch: 13, Loss: 3.244930929012513\n",
      "Validation loss: 3.233588187590889\n",
      "Epoch: 14, Loss: 3.1936128112707247\n",
      "Validation loss: 3.18869658138441\n",
      "Epoch: 15, Loss: 3.1474503452858227\n",
      "Validation loss: 3.1429983118306035\n",
      "Epoch: 16, Loss: 3.103468364544129\n",
      "Validation loss: 3.102404210878455\n",
      "Epoch: 17, Loss: 3.061822344747822\n",
      "Validation loss: 3.063113212585449\n",
      "Epoch: 18, Loss: 3.0219310803359813\n",
      "Validation loss: 3.0252449201500933\n",
      "Epoch: 19, Loss: 2.9836746092592734\n",
      "Validation loss: 2.9912634932476543\n"
     ]
    },
    {
     "data": {
      "image/png": "[encoded data removed]",
      "text/plain": [
       "<Figure size 800x600 with 1 Axes>"
      ]
     },
     "metadata": {},
     "output_type": "display_data"
    }
   ],
   "source": [
    "# adapt loss and optimizer as needed\n",
    "criterion = nn.CrossEntropyLoss()\n",
    "optimizer = Adam(model_rnn.parameters(), lr=lr)\n",
    "\n",
    "train_losses = []\n",
    "valid_losses = []\n",
    "\n",
    "# train\n",
    "for epoch in range(epochs):\n",
    "    # Set to train\n",
    "    model_rnn.train()\n",
    "    # keep cumalitive losses\n",
    "    total_losses = 0.0\n",
    "\n",
    "    for batch in training_dataloader:\n",
    "        inp = batch[:, :-1] # grabs all but last\n",
    "        tgt = batch[:, 1:] # grabs all except first (shifted once)\n",
    "\n",
    "        optimizer.zero_grad()\n",
    "\n",
    "        preds = model_rnn.forward(inp) # make sure dimensions line up\n",
    "\n",
    "        loss = criterion(preds.view(-1, vocab_len), tgt.reshape(-1))\n",
    "        loss.backward()\n",
    "\n",
    "        optimizer.step()\n",
    "\n",
    "        total_losses += loss.item()\n",
    "\n",
    "    train_losses.append(total_losses / len(training_dataloader))\n",
    "    print(f\"Epoch: {epoch}, Loss: {total_losses / len(training_dataloader)}\")\n",
    "\n",
    "\n",
    "    # Validation\n",
    "    model_rnn.eval()\n",
    "\n",
    "    total_valid_losses = 0.0\n",
    "\n",
    "    with torch.no_grad():\n",
    "        for batch in validation_dataloader:\n",
    "            inp = batch[:, :-1] # grabs all but last\n",
    "            tgt = batch[:, 1:] # grabs all except first (shifted once)\n",
    "\n",
    "            preds = model_rnn.forward(inp) # make sure dimensions line up\n",
    "\n",
    "            loss = criterion(preds.view(-1, vocab_len), tgt.reshape(-1))\n",
    "            total_valid_losses += loss.item()\n",
    "\n",
    "    valid_losses.append(total_valid_losses / len(validation_dataloader))\n",
    "    print(f\"Validation loss: {total_valid_losses / len(validation_dataloader)}\")\n",
    "\n",
    "\n",
    "Display_Plot(train_loss=train_losses, valid_loss=valid_losses, model_name=\"RNN Music\")\n"
   ]
  },
  {
   "cell_type": "code",
   "execution_count": 12,
   "metadata": {},
   "outputs": [
    {
     "name": "stderr",
     "output_type": "stream",
     "text": [
      "/tmp/ipykernel_821689/2880647662.py:6: UserWarning: To copy construct from a tensor, it is recommended to use sourceTensor.clone().detach() or sourceTensor.clone().detach().requires_grad_(True), rather than torch.tensor(sourceTensor).\n",
      "  predicted_tokens = torch.tensor(start_tokens).clone().detach().unsqueeze(0) # (1, len(start_tokens))\n"
     ]
    },
    {
     "name": "stdout",
     "output_type": "stream",
     "text": [
      "['rest_3', '</simul>', '<simul>', 'noteE-4_1/2', 'noteB-4_1', 'noteB1_53/480', '</simul>', '<simul>', 'noteA4_1/2', 'noteD4_1/2', 'noteG3_1/2', 'noteA4_1/2', 'noteD3_1/2', '</simul>', '<simul>', 'noteC#6_1/8', 'noteE6_171/1024', '</simul>', '<simul>', 'noteE4_1/3', 'noteF#2_1/2', 'noteC#5_1/2', 'rest_11/8', 'noteE-3_1/2', '</simul>', '<simul>', 'rest_1', 'noteF3_1/2', 'noteE-2_3/4', '</simul>', '<simul>', 'noteE-5_1', 'noteF#4_1/2', 'noteF#3_2', 'noteB2_1', '</simul>', '<simul>', 'noteG#4_3/2', 'noteB3_1', 'noteF4_3/2', '</simul>', '<simul>', 'noteG#4_1/8', 'rest_4', 'noteC#4_137/480', '</simul>', '<simul>', 'noteE-4_1/2', 'noteG4_1/2', '</simul>', '<simul>', 'noteD5_1', 'noteG#1_1', '</simul>', '<simul>', 'noteE5_1/2', 'noteE4_1', 'noteB-3_2', 'noteD7_11/128', '</simul>', 'noteC#4_1/3', '<simul>', 'rest_1/2', 'noteG#3_1', 'rest_1/2', '</simul>', '<simul>', 'rest_1/2', 'rest_1/2', 'rest_2', 'noteD3_1/2', '</simul>', '<simul>', 'noteC#6_1/2', 'rest_3', '</simul>', '<simul>', 'noteC5_0', 'rest_1/256', 'noteB-2_4', '</simul>', 'noteA5_1/2', '</simul>', '<simul>', 'noteF#4_1/4', 'noteB3_1/2', 'noteD4_1/2', 'noteE4_1/2', 'noteG#4_1/2', 'noteE2_1/2', 'noteC#4_1/2', '</simul>', '<simul>', 'noteG#2_1/2', 'noteF#3_1/2', '</simul>', '<simul>', 'noteE-4_1/2', 'rest_1', '</simul>', '<simul>', 'noteE5_1/2', 'noteC#5_1/2', 'noteC#4_1/2', '</simul>', '<simul>', 'noteB-3_1/2', 'noteE-5_2', 'noteD4_1/2', 'noteB-4_1/2', '</simul>', '<simul>', 'noteE4_1/2', 'noteB4_1/2', 'noteE3_1/2', '</simul>', '<simul>', 'noteE-5_1/2', 'noteC5_1/2', 'noteE-5_1/2', 'noteG#3_1/2', 'noteD4_1/2', '</simul>', '<simul>', 'rest_1/96', 'noteF#4_1/2', 'noteF#5_1/2', 'noteB3_1/2', 'noteA4_1/2', 'noteF5_1/2', '<simul>', 'noteF3_1/2', 'noteG#3_1', '</simul>', '<simul>', 'noteE-3_0', 'noteB-4_3/2', '</simul>', '<simul>', 'noteG#5_1', 'noteC#6_1', 'noteG#3_1/2', 'noteA1_205/1024', '</simul>', '<simul>', 'noteC3_1/2', 'noteF#3_1/2', '</simul>', '<simul>', 'noteC5_1', 'noteE-3_1', 'noteD5_1', 'noteB-2_1/2', '</simul>', 'noteB1_1/2', '<simul>', 'noteG#3_1/2', 'noteC3_2', 'noteC#4_3/10', '</simul>', 'noteC5_1/2', 'noteF5_1/6', 'noteC4_7/8', '<simul>', 'noteE-5_1', 'noteE-6_1/2', 'noteD3_1/2', '</simul>', '<simul>', 'noteA4_2', 'noteF3_1/2', '</simul>', 'rest_1/2', '<simul>', 'noteF3_1/2', 'noteC#4_1/2', 'noteG#4_3/4', '</simul>', 'noteA4_1/2', '<simul>', 'noteE-6_1/4', 'noteG2_1/2', '</simul>', '<simul>', 'noteG4_1/4', 'noteB-4_1', '</simul>', 'noteD4_1/2', '<simul>', 'noteB4_1/2', 'noteF#3_1/2', '</simul>', '<simul>', 'rest_1/2', 'noteF#3_1/2', '</simul>', 'noteE-4_1/2', 'noteG4_1/2', 'noteE-3_1/4', '<simul>', 'noteF4_1/2', 'noteC3_1/2', '</simul>', 'noteC#6_1/2', '<simul>', 'noteE-5_0', 'noteC#4_1', 'noteC#3_1', 'noteF#2_1', '</simul>', 'noteB-4_1/4', '<simul>', 'rest_2', 'noteG#2_1/2', 'noteD4_1', 'noteC3_1', '</simul>', 'noteB-4_1/4', '<simul>', 'noteF5_3/2', 'rest_1', '</simul>', 'noteG5_1/4', '<simul>', 'noteE5_1', 'noteD5_1/2', 'noteC#2_1/2', 'noteB3_1', 'noteG6_1/2', 'noteF#3_1/2', '</simul>', '<simul>', 'noteC#5_2', 'noteG1_1/3', 'rest_2', 'noteC4_1', 'noteA3_1/2', 'noteD4_1/2', '</simul>', '<simul>', 'noteD5_1/4', 'noteG#4_1/4', '</simul>', '<simul>', 'noteB-4_3/2', 'noteB-3_1', 'noteC#4_1', '</simul>', 'noteB-2_1/2', '<simul>', 'noteB2_1/2', 'noteB4_1/2', '</simul>', '<simul>', 'noteF4_1', 'noteE4_1/4', '</simul>', 'noteE-3_1/2', '<simul>', 'rest_1/2', '</simul>', 'noteE5_1/2', '<simul>', 'noteC#6_1/2', 'noteB5_1/2', 'noteG#3_1', '</simul>', '<simul>', 'noteE4_1/2', 'noteC#6_1', 'noteA3_1', 'noteB-3_1', '</simul>', '<simul>', 'noteF#4_1/2', 'noteA4_1/2', 'noteC#4_1/2', '</simul>', '<simul>', 'noteG#6_1/2', 'noteC5_3/4', 'noteG4_1/2', 'noteG#5_1/2', 'noteB3_1/2', '</simul>', '<simul>', 'noteB4_1/2', 'noteF#6_1/2', 'noteC#7_1/2', '</simul>', '<simul>', 'noteG4_1/2', 'noteC5_1/2', '</simul>', '<simul>', 'noteB-4_1/2', 'noteC5_1/2', 'noteA1_1/2', 'noteG2_1/2', '</simul>', '<simul>', 'noteC4_1/2', 'noteE-4_1/2', 'noteE-2_1/6', '</simul>', '<simul>', 'rest_1', 'rest_1', '</simul>', '<simul>', 'noteG#4_1/2', 'noteG#5_1/2', '</simul>', '<simul>', 'noteC5_2', 'noteE-3_1', '</simul>', 'noteG4_1/2', '<simul>', 'noteA3_1/2', 'rest_3', 'rest_3', 'noteA2_3', '</simul>', '<simul>', 'noteG6_1/2', 'noteE-3_1', 'rest_1/2', '</simul>', '<simul>', 'noteG#3_1/2', 'noteD3_1/2', '</simul>', 'noteD5_1/2', '<simul>', 'noteC#4_0', 'noteE-4_7/4', '</simul>', 'rest_1', '<simul>', 'noteD4_1/2', 'noteG#4_1', 'noteE-3_3', '</simul>', '<simul>', 'rest_1', 'rest_1', 'rest_1', '</simul>', '<simul>', 'noteG4_1', 'noteE4_1', 'noteB-3_2', '</simul>', '<simul>', 'noteC5_1', 'rest_1', 'rest_1', '</simul>', '<simul>', 'rest_1', 'rest_1', '</simul>', '<simul>', 'noteC#2_3/5', 'rest_4', '</simul>', '<simul>', 'noteF#5_1', 'noteA5_1/2', 'noteD6_1/2', 'rest_1', '</simul>', '<simul>', 'noteC#5_85/1024', 'noteF#4_3/2', 'noteF#3_2/5', 'rest_11/2', 'noteG#1_1/4', '<simul>', 'noteF#4_1/2', 'noteF2_1', 'noteC#2_1/2', '</simul>', 'noteC3_1/4', 'noteG#4_1/4', 'noteG#2_1/4', '<simul>', 'noteB3_341/1024', 'noteD6_1', '</simul>', 'noteG#5_1/4', 'rest_7/256', 'noteA3_3/8', '<simul>', 'noteG6_85/1024', 'noteB4_11/128', '</simul>', 'noteA3_1/2', 'noteC#4_1/2', '<simul>', 'noteE4_3', 'noteC#4_3', 'noteC#4_2', 'noteF#2_1', '</simul>', '<simul>', 'rest_3', 'noteD3_1', '</simul>', 'noteC#4_85/512', 'noteE-5_4', 'noteA2_1/3', 'noteC#6_1/8', 'noteE-5_27/128', 'noteB3_1/6', 'noteB-3_1/6', 'noteA4_1/6', 'noteC#6_1/6', 'noteB-4_1/8', 'noteB6_1/8', 'noteB-6_85/1024', 'noteD4_11/120', 'noteF#4_11/120', 'noteC#5_1/12', 'noteB2_41/512', 'noteC6_5/96', 'noteD5_1/8', 'noteA3_1/12', 'noteE-6_3/16', 'noteG#4_171/1024', 'noteB2_1/8', 'noteD6_1/6', 'noteB-2_341/1024', 'noteE-5_1/3', 'noteF#5_1/3', 'noteC3_1/2', 'noteB-4_1/3', 'noteE-4_1/10', 'noteB-3_1/8', 'noteB3_1/3', 'noteF#2_1/3', 'noteF#3_1/16', 'noteA4_171/1024', 'noteG#4_1/3', 'noteA5_1/32', 'noteC6_1/12', 'noteC5_17/256', 'noteC#3_1/6', '<simul>', 'noteC5_1/20', 'noteB-2_1/3', '</simul>', 'noteE-5_1/8', 'noteE-5_1/8', '<simul>', 'noteC5_1/2', 'noteC4_1/2', 'noteC5_1/2', '</simul>', '<simul>', 'noteF#5_1', 'noteF#5_1/2', 'noteC5_1/2', '</simul>', '<simul>', 'noteE-4_1/2', 'noteE-5_1/2', '</simul>', '<simul>', 'noteA6_3/2', 'noteD5_1/4', '</simul>', '<simul>', 'noteA3_1/2', 'noteC4_1/2', '</simul>', '<simul>', 'noteB4_4', 'rest_1/3', 'rest_1', 'noteE-1_1', '</simul>', '<simul>', 'noteF5_1/2', 'rest_1/2', '</simul>', 'noteB4_1/4', '<simul>', 'noteB4_1/2', 'noteA4_1/2', 'noteD5_1/2', 'noteC#3_1/2', '</simul>', 'noteE2_1/4', '<simul>', 'noteE5_1', 'noteC#6_1', 'rest_1', '</simul>', '<simul>', 'noteB-4_1', 'noteE5_3/2', '</simul>', 'noteE5_1/2', 'noteG#5_1/2', 'noteE-5_1/4', 'noteB5_1/8', 'noteD4_1/2', 'noteA3_1/2', '<simul>', 'rest_1/2', 'rest_1', 'noteC#4_1/2', '</simul>', '<simul>', 'noteG5_1/2', 'noteG2_1/2', '</simul>', '<simul>', 'noteF4_1/2', 'noteA3_1/2', '</simul>', '<simul>', 'noteF4_1/2', 'noteC#3_1', '</simul>', '<simul>', 'noteB4_1/2', 'noteA3_1/2', 'noteA3_4', 'noteB2_1/2', '</simul>', '<simul>', 'noteB-2_1/2', 'noteB-4_3', '</simul>', '<simul>', 'noteF4_1', 'rest_1', '</simul>', 'noteG2_1/2', 'noteF#5_1/6', 'noteC4_1/2', '<simul>', 'rest_1', 'noteF#3_1/5', '</simul>', 'noteF4_1/2', 'noteA4_1/2', 'noteC5_1/2', 'noteD4_1/3', '<simul>', 'noteD4_1/2', 'noteF5_3/8', 'rest_1/2', '</simul>', '<simul>', 'noteB4_1', 'noteB-4_1', '</simul>', 'noteF#4_1', '<simul>', 'noteB-5_1/2', 'noteB-1_1/3', 'noteB1_2', 'noteF2_1', 'rest_1', '</simul>', '</simul>', '<simul>', 'noteE-6_1/4', 'noteA5_1/2', 'noteA4_1/2', 'noteC5_1/2', 'rest_1', 'noteE-4_1/2', 'noteC4_1/2', 'noteD4_1/2', '</simul>', '<simul>', 'noteC#4_0', 'noteA4_1/2', 'noteE-6_1/2', 'rest_3', '</simul>', '<simul>', 'noteB-4_1', 'noteB-5_1', 'noteF#2_1', '</simul>', '<simul>', 'noteG4_1/2', 'noteF2_1/2', '</simul>', '<simul>', 'noteG#3_1/2', 'noteB1_1', '</simul>', '<simul>', 'noteE-4_1', 'noteG#4_1', 'noteE-2_1/2', 'noteE-3_1', '</simul>', '<simul>', 'noteE5_3', 'noteC#4_1', 'noteB4_1/2', 'rest_2', 'noteF#3_1', 'noteC#4_1', '</simul>', '<simul>', 'rest_1', 'rest_1', '</simul>', '<simul>', 'noteF#5_1/2', 'noteB-5_1', '</simul>', '<simul>', 'noteB-3_1/2', 'rest_2', 'rest_2', '</simul>', 'noteE4_1/6', '<simul>', 'noteA5_1', 'noteF#3_1/2', 'rest_2', '</simul>', '<simul>', 'rest_1/2', 'noteG#1_1/2', '</simul>', '<simul>', 'noteB3_1/2', 'noteF#3_1', 'noteD4_137/480', '</simul>', '<simul>', 'noteC6_1/2', 'rest_1', '</simul>', '<simul>', 'noteE-5_1/2', 'noteB2_3', '</simul>', '<simul>', 'noteB-2_1/2', 'noteE3_1/2', '</simul>', '<simul>', 'noteA4_1/2', 'noteA5_1/2', 'noteB-2_1/2', 'rest_1/2', '</simul>', '<simul>', 'noteA3_1/2', 'noteC#4_1/2', 'noteB-2_1/2', '</simul>', '<simul>', 'noteC5_1/2', 'rest_1/2', 'noteG3_1/2', 'noteF#3_1/2', 'noteB-3_1/2', '</simul>', '<simul>', 'noteC#6_1/2', 'noteB1_1/2', '</simul>', '<simul>', 'noteD5_1', 'noteC3_1/2', 'noteC#2_1/2', 'noteB3_1', '</simul>', '<simul>', 'noteA3_1', 'rest_1', '</simul>', '<simul>', 'noteB-5_1', 'noteE5_1/2', 'noteF#3_1', 'noteG#2_1/2', '</simul>', '<simul>', 'noteG1_1', 'noteB2_1/2', '</simul>', '<simul>', 'noteC#3_1/2', 'noteE3_1/2', '</simul>', '<simul>', 'noteF#4_1/2', 'noteG#3_1/2', '</simul>', '<simul>', 'rest_2', 'noteB3_1/2', 'noteC4_1/2', 'noteF4_1/2', '</simul>', '<simul>', 'noteG#6_1/2', 'noteC5_1', 'noteE-5_1', 'noteB-5_1', 'noteG#3_1', '</simul>', '<simul>', 'noteA3_1/3', 'rest_1/2', '</simul>', 'noteB-2_1/2', 'noteB-3_1/2', '<simul>', 'rest_1/2', 'noteB-4_1', '</simul>', '<simul>', 'noteC#4_1/2', 'rest_1/2', '</simul>', 'noteE-4_1/2', 'noteF3_1', '<simul>', 'noteE-4_1/2', 'noteA5_1/2', 'rest_2', '</simul>', 'rest_2', '<simul>', 'rest_1/2', 'rest_3/2', 'noteE-3_1/2', '</simul>', '<simul>', 'noteC5_1/2', 'noteE3_1/2', 'noteG3_1/2', '</simul>', '<simul>', 'noteB-4_1/2', 'noteF3_1/2', '</simul>', '<simul>', 'noteC#5_1/2', 'noteG#4_1/2', 'noteB2_1/4', '</simul>', '<simul>', 'noteF#6_2', 'rest_1', '</simul>', '<simul>', 'noteG#5_1/2', 'noteF4_1/2', '</simul>', '<simul>', 'noteA4_1/2', 'noteF#3_1/3', 'noteE-3_1', '</simul>', '<simul>', 'rest_1/2', 'noteC#4_1/2', '</simul>', '<simul>', 'noteG5_1/2', 'noteC4_1/8', '</simul>', '<simul>', 'noteC3_37/240', 'noteA2_1', 'noteB2_1/2', '</simul>', '<simul>', '<simul>', 'rest_1', 'noteB2_1', '</simul>', 'rest_1/3', '<simul>', 'noteA5_1/16', 'noteD6_1/2', 'noteG#3_1/2', '</simul>', '<simul>', 'noteB-3_1/2', 'noteB-2_1/8', '</simul>', '<simul>', 'rest_1', 'noteG#1_1/2', 'noteF4_1', '</simul>', '<simul>', 'noteD4_1', 'noteG#3_1', '</simul>', '<simul>', 'noteE-5_1', 'noteC5_1/2', '</simul>', '<simul>', 'noteF#4_2', 'noteB4_1', 'noteG#2_1/2', '</simul>', '<simul>', 'noteB-3_1/2', 'noteC#3_1/2', '</simul>', '<simul>', 'rest_1', 'noteF5_1', '</simul>', 'noteA2_1/2', '<simul>', 'noteD4_1/2', 'noteF#4_1/2', 'noteG4_1/2', '</simul>', '<simul>', 'noteF3_1/2', 'noteG#3_1/2', '</simul>', '<simul>', 'noteE5_1/2', 'noteB-3_1/2', '</simul>', '<simul>', 'noteB-4_1/2', 'noteF#2_1/2', '</simul>', '<simul>', 'noteC#5_1/2', 'noteG#4_1/2', 'noteG#3_1/2', '</simul>', '<simul>', 'noteD4_1/2', 'noteG4_1/2', '</simul>', '<simul>', 'noteD5_1/2', 'noteC6_1/2', 'noteG2_1/2', 'noteG4_2', '</simul>', '<simul>', 'noteB-4_11/96', 'noteA2_1/2', '</simul>', '<simul>', 'noteD4_1', 'noteF4_1', 'noteF4_2', 'noteF5_1', 'noteF6_1', 'noteE6_13/96', '</simul>', '<simul>', 'noteA3_0', 'noteA4_1/32', 'noteA3_1', 'noteA2_1', '</simul>', '<simul>', 'noteC4_1', 'noteF4_1', 'noteF7_1/2', 'noteC#3_1/2', 'noteE1_1/2', '</simul>', '<simul>', 'noteB-4_1/6', 'noteF3_1', '</simul>', '<simul>', 'noteC4_1/2', 'noteG#6_1', 'noteF#1_1/2', '</simul>', '<simul>', 'noteE5_1/2', 'noteF#3_1', '</simul>', '<simul>', 'noteB4_3', 'noteD2_1', 'noteD4_1', '</simul>', '<simul>', 'noteF#4_0', 'noteE5_1/2', 'noteG#5_1/2', '</simul>', 'noteB-4_1/2', '<simul>', 'noteC#4_1/2', 'noteE4_1/2', '</simul>', '<simul>', 'noteC5_1/2', 'noteF#4_1', '</simul>', '<simul>', 'noteG#4_1/2', 'noteF#4_2', 'noteF2_3', 'noteF#2_1', '</simul>', '<simul>', 'noteA5_1/2', 'noteE-6_1/2', '</simul>', '<simul>', 'noteB4_1', 'noteF3_3', 'noteG3_3/4', 'noteB-3_1/2', '</simul>', '<simul>', 'noteE5_1', 'noteG#5_1', 'noteE-3_1', 'noteG#4_1', 'noteC#5_1', '</simul>', '<simul>', 'noteB-4_1', 'noteF#2_0', 'noteC3_3', '</simul>', '<simul>', 'noteF#5_1/2', 'noteB2_1/2', '</simul>', '<simul>', 'rest_1', 'rest_1', '</simul>', '<simul>', 'noteF#6_1/2', 'rest_1/2', '</simul>', '<simul>', 'noteC#5_2', 'noteB0_1/2', '</simul>', '<simul>', 'noteF#2_1/2', 'rest_1/2', 'rest_2', '</simul>', '<simul>', 'noteG4_0', 'noteF#3_1/8', '</simul>', 'noteB-6_1/6', 'noteA4_1/2', '<simul>', 'noteB-4_1/2', 'noteB-2_1/2', 'noteF4_1/2', '</simul>', '<simul>', 'noteB-4_1', 'noteE3_1/2', '</simul>', 'noteG#4_3/4', '<simul>', 'noteB-5_2', 'noteB-4_1/2', 'noteE-6_1/2', '</simul>', '<simul>', 'noteF6_3/4', 'noteB2_1/2', 'noteF4_3/4', '</simul>', '<simul>', 'rest_1', 'noteE4_1/2', 'noteG3_3/2', '</simul>', 'noteF#2_3/4', 'noteB3_1/16', 'noteB3_85/512', '<simul>', 'noteE5_1/2', 'noteD4_1/2', '</simul>', '<simul>', 'noteG#4_1/2', 'noteB-4_1/2', '</simul>', '<simul>', 'noteF#5_1/2', 'noteA4_1', 'noteF#2_1/2', '</simul>', '<simul>', 'rest_1/2', 'rest_1', '</simul>', '<simul>', 'noteF4_1', 'noteF4_3', 'noteG2_1/2', 'noteG#1_1/2', '</simul>', 'noteE-5_1/4', '<simul>', 'noteB-4_3', 'noteB3_1', '</simul>', 'noteF4_1/6', '<simul>', 'noteF5_1/2']\n",
      "None\n"
     ]
    }
   ],
   "source": [
    "# this just grabs a random batch and performs on it\n",
    "for batch in validation_dataloader:\n",
    "    bleh = generate_music(model_rnn, batch[0][:4], temperature=1.0)\n",
    "    notes = [token_to_note[token] for token in bleh]\n",
    "    print(print(notes))\n",
    "    break"
   ]
  },
  {
   "cell_type": "code",
   "execution_count": null,
   "metadata": {},
   "outputs": [],
   "source": [
    "torch.save(model_rnn.state_dict(), \"music_rnn_model.pth\")"
   ]
  },
  {
   "cell_type": "markdown",
   "metadata": {},
   "source": [
    "# LSTM"
   ]
  },
  {
   "cell_type": "code",
   "execution_count": null,
   "metadata": {},
   "outputs": [],
   "source": []
  },
  {
   "cell_type": "markdown",
   "metadata": {},
   "source": [
    "# Transformer"
   ]
  },
  {
   "cell_type": "markdown",
   "metadata": {},
   "source": [
    "YAYYYYYYYYY Transformer Time WOOOOOOOOO"
   ]
  },
  {
   "cell_type": "code",
   "execution_count": 8,
   "metadata": {},
   "outputs": [],
   "source": [
    "#  Model variables\n",
    "d_model = 128 # Embed Dim\n",
    "n_decoder_layers = 2 # lower if not that complex and wanting speedup\n",
    "n_heads = 4 # Number of Attention Heads\n",
    "d_ff = 512 # Feed Forward Dimensionality (AIAYN paper reccomends 4 times d_model size)\n",
    "learning_rate = 1e-5 # Maybe increase?\n",
    "num_epochs = 30 # Change this later so it doesn't take 10 years to run"
   ]
  },
  {
   "cell_type": "code",
   "execution_count": 9,
   "metadata": {},
   "outputs": [],
   "source": [
    "# Standard positonal encoding used here, could also try time encoding since notes have different timestamps\n",
    "class PositionalEncoding(nn.Module):\n",
    "    def __init__(self, d_model, win_len):\n",
    "        super(PositionalEncoding, self).__init__()\n",
    "        pe = torch.zeros(win_len, d_model) # (win_len, d_model)\n",
    "        position = torch.arange(0, win_len, dtype=torch_type).unsqueeze(1) # (win_len, 1)\n",
    "        div_term = torch.exp(torch.arange(0, d_model, 2).float()*(-torch.log(torch.tensor(10000.0))/d_model)) # (d_model/2)\n",
    "        pe[:, 0::2] = torch.sin(position*div_term)\n",
    "        pe[:, 1::2] = torch.cos(position*div_term)\n",
    "        pe = pe.unsqueeze(0) # (1, win_len, d_model)\n",
    "        self.pe = pe.to(device)\n",
    "\n",
    "    def forward(self, x):\n",
    "        x = x + self.pe[:, :x.size(1), :]\n",
    "        return x\n",
    "\n",
    "\n",
    "# mask\n",
    "def generate_causal_mask(size):\n",
    "    # size should be target size\n",
    "    mask = torch.triu(torch.ones(size, size, device=device), diagonal=1)\n",
    "    mask = mask.masked_fill(mask == 1, float('-inf'))\n",
    "    '''\n",
    "    [0, -inf, -inf, -inf]\n",
    "    [0,   0,  -inf, -inf]\n",
    "    [0,   0,    0,  -inf]\n",
    "    [0,   0,    0,    0 ]\n",
    "    Yay for triangle masking\n",
    "    '''\n",
    "    return mask\n"
   ]
  },
  {
   "cell_type": "code",
   "execution_count": 10,
   "metadata": {},
   "outputs": [],
   "source": [
    "# Actual decoder\n",
    "class MusicTransformer(nn.Module):\n",
    "    def __init__(self, num_tokens, d_model=d_model, nhead=n_heads, dim_ff=d_ff, win_len=window_length, layers=n_decoder_layers):\n",
    "        super(MusicTransformer, self).__init__()\n",
    "        self.d_model = d_model\n",
    "        self.nheads = nhead\n",
    "        self.dim_ff = dim_ff\n",
    "        self.win_len = win_len\n",
    "        self.layers = layers\n",
    "\n",
    "        # pre-transformer\n",
    "        self.tok_embed = nn.Embedding(num_tokens, d_model)\n",
    "        self.pos_enc = PositionalEncoding(d_model, win_len)\n",
    "        self.out_proj = nn.Linear(d_model, num_tokens) # final projection for token prediction\n",
    "\n",
    "        # transformer part\n",
    "        decoder_layer = nn.TransformerDecoderLayer(d_model, nhead, dim_ff, batch_first=True)\n",
    "        self.decoder = nn.TransformerDecoder(decoder_layer, num_layers=self.layers)\n",
    "\n",
    "\n",
    "    def forward(self, x, tgt_mask=None):\n",
    "        '''\n",
    "        x is the tokenized notes  # (batch_size, win_len)\n",
    "        tgt_mask masks the predictions\n",
    "        '''\n",
    "\n",
    "        x_seq = self.tok_embed(x) # (batch_size, 1, d_model)\n",
    "        x_seq = self.pos_enc(x_seq) # (batch_size, 1, d_model)\n",
    "\n",
    "        decoder_output = self.decoder(x_seq, x_seq, tgt_mask=tgt_mask) # (batch_size, win_len, d_model)\n",
    "        pred = self.out_proj(decoder_output) # (batch, win_len, num_tokens) \n",
    "      \n",
    "        return pred\n",
    "\n"
   ]
  },
  {
   "cell_type": "code",
   "execution_count": 11,
   "metadata": {},
   "outputs": [
    {
     "name": "stdout",
     "output_type": "stream",
     "text": [
      "Epoch: [1/30]   Epoch Average Loss: 8.237380199218064\n",
      "Validation Loss: 7.892440982486891\n",
      "Epoch: [2/30]   Epoch Average Loss: 7.586406504170278\n",
      "Validation Loss: 7.236644226571788\n",
      "Epoch: [3/30]   Epoch Average Loss: 7.000869997431723\n",
      "Validation Loss: 6.709073813065238\n",
      "Epoch: [4/30]   Epoch Average Loss: 6.578988428865926\n",
      "Validation Loss: 6.35489096848861\n",
      "Epoch: [5/30]   Epoch Average Loss: 6.290974563427186\n",
      "Validation Loss: 6.098785752835481\n",
      "Epoch: [6/30]   Epoch Average Loss: 6.066552263967107\n",
      "Validation Loss: 5.88828298319941\n",
      "Epoch: [7/30]   Epoch Average Loss: 5.873673712269643\n",
      "Validation Loss: 5.70662029929783\n",
      "Epoch: [8/30]   Epoch Average Loss: 5.706890652688702\n",
      "Validation Loss: 5.5531337364860205\n",
      "Epoch: [9/30]   Epoch Average Loss: 5.565138688248195\n",
      "Validation Loss: 5.423869319584059\n",
      "Epoch: [10/30]   Epoch Average Loss: 5.443828823861112\n",
      "Validation Loss: 5.313033539315929\n",
      "Epoch: [11/30]   Epoch Average Loss: 5.3384147815490035\n",
      "Validation Loss: 5.216539818307628\n",
      "Epoch: [12/30]   Epoch Average Loss: 5.245554865076301\n",
      "Validation Loss: 5.131738206614619\n",
      "Epoch: [13/30]   Epoch Average Loss: 5.162926234556048\n",
      "Validation Loss: 5.0564346106156055\n",
      "Epoch: [14/30]   Epoch Average Loss: 5.08916785208027\n",
      "Validation Loss: 4.989453626715618\n",
      "Epoch: [15/30]   Epoch Average Loss: 5.023219949743721\n",
      "Validation Loss: 4.929642387058424\n",
      "Epoch: [16/30]   Epoch Average Loss: 4.963993383257576\n",
      "Validation Loss: 4.876038426938265\n",
      "Epoch: [17/30]   Epoch Average Loss: 4.9110486855667626\n",
      "Validation Loss: 4.828302445619003\n",
      "Epoch: [18/30]   Epoch Average Loss: 4.863310765684321\n",
      "Validation Loss: 4.785501853279445\n",
      "Epoch: [19/30]   Epoch Average Loss: 4.820334964923644\n",
      "Validation Loss: 4.747230426124904\n",
      "Epoch: [20/30]   Epoch Average Loss: 4.781938836815652\n",
      "Validation Loss: 4.712706793909487\n",
      "Epoch: [21/30]   Epoch Average Loss: 4.747706815098109\n",
      "Validation Loss: 4.68233761580094\n",
      "Epoch: [22/30]   Epoch Average Loss: 4.717221570818611\n",
      "Validation Loss: 4.655448333076809\n",
      "Epoch: [23/30]   Epoch Average Loss: 4.690207776058926\n",
      "Validation Loss: 4.6316390659498134\n",
      "Epoch: [24/30]   Epoch Average Loss: 4.666299187735225\n",
      "Validation Loss: 4.610542421755583\n",
      "Epoch: [25/30]   Epoch Average Loss: 4.645012062587095\n",
      "Validation Loss: 4.591726717741593\n",
      "Epoch: [26/30]   Epoch Average Loss: 4.625853195619047\n",
      "Validation Loss: 4.5748022120931875\n",
      "Epoch: [27/30]   Epoch Average Loss: 4.608721856320842\n",
      "Validation Loss: 4.5597766585972\n",
      "Epoch: [28/30]   Epoch Average Loss: 4.593163265271134\n",
      "Validation Loss: 4.545898043591043\n",
      "Epoch: [29/30]   Epoch Average Loss: 4.579048435339767\n",
      "Validation Loss: 4.533326625823975\n",
      "Epoch: [30/30]   Epoch Average Loss: 4.566014000539029\n",
      "Validation Loss: 4.521556315214737\n"
     ]
    },
    {
     "data": {
      "image/png": "[encoded data removed]",
      "text/plain": [
       "<Figure size 800x600 with 1 Axes>"
      ]
     },
     "metadata": {},
     "output_type": "display_data"
    }
   ],
   "source": [
    "my_mask = generate_causal_mask(window_length) # win_len by win_len mask\n",
    "\n",
    "# Create model\n",
    "num_tokens = vocab_len\n",
    "model = MusicTransformer(num_tokens, d_model, n_heads, d_ff, window_length, n_decoder_layers).to(device)\n",
    "\n",
    "# Use Adam cause he's so cool\n",
    "optimizer = Adam(model.parameters(), lr=learning_rate)\n",
    "criterion = nn.CrossEntropyLoss()\n",
    "\n",
    "transformer_train_losses = []\n",
    "transformer_valid_losses = []\n",
    "\n",
    "# Training loop\n",
    "for epoch in range(num_epochs):\n",
    "    model.train()\n",
    "    epoch_loss = 0 # cumalative loss\n",
    "\n",
    "    # Cycle through each batch\n",
    "    for batch in training_dataloader:\n",
    "        inp = batch[:, :-1] # grabs all but last\n",
    "        tgt = batch[:, 1:] # grabs all except first (shifted once)\n",
    "\n",
    "\n",
    "        optimizer.zero_grad()\n",
    "        # Pass through model\n",
    "        output = model(inp)\n",
    "        # Determine loss\n",
    "        loss = criterion(output.view(-1, num_tokens), tgt.reshape(-1))\n",
    "        # Update weights\n",
    "        loss.backward()\n",
    "        optimizer.step()\n",
    "        # Add to epoch_loss\n",
    "        epoch_loss += loss.item()\n",
    "\n",
    "    # Now show average loss for epoch\n",
    "    avg_epoch_loss = epoch_loss / len(training_dataloader)\n",
    "    transformer_train_losses.append(avg_epoch_loss)\n",
    "    print(f\"Epoch: [{epoch+1}/{num_epochs}]   Epoch Average Loss: {avg_epoch_loss}\")\n",
    "\n",
    "\n",
    "\n",
    "    # Validation\n",
    "    model.eval()\n",
    "    valid_loss = 0 # cumalative loss\n",
    "\n",
    "    # Cycle through each batch\n",
    "    for batch in validation_dataloader:\n",
    "        inp = batch[:, :-1] # grabs all but last\n",
    "        tgt = batch[:, 1:] # grabs all except first (shifted once)\n",
    "\n",
    "        # Pass through model\n",
    "        output = model(inp)\n",
    "        # Determine loss\n",
    "        loss = criterion(output.view(-1, num_tokens), tgt.reshape(-1))\n",
    "        valid_loss += loss.item()\n",
    "    # Now show average loss for \n",
    "    avg_epoch_loss = valid_loss / len(validation_dataloader)\n",
    "    transformer_valid_losses.append(avg_epoch_loss)\n",
    "    print(f\"Validation Loss: {avg_epoch_loss}\")\n",
    "\n",
    "\n",
    "\n",
    "\n",
    "Display_Plot(train_loss=transformer_train_losses, valid_loss=transformer_valid_losses, model_name=\"Transformer Music\")"
   ]
  },
  {
   "cell_type": "code",
   "execution_count": 12,
   "metadata": {},
   "outputs": [
    {
     "name": "stderr",
     "output_type": "stream",
     "text": [
      "/tmp/ipykernel_824832/2880647662.py:6: UserWarning: To copy construct from a tensor, it is recommended to use sourceTensor.clone().detach() or sourceTensor.clone().detach().requires_grad_(True), rather than torch.tensor(sourceTensor).\n",
      "  predicted_tokens = torch.tensor(start_tokens).clone().detach().unsqueeze(0) # (1, len(start_tokens))\n"
     ]
    },
    {
     "name": "stdout",
     "output_type": "stream",
     "text": [
      "['noteA3_1/4', 'noteC3_3/2', 'noteC3_1/2', '</simul>', 'noteC3_1/2', 'noteB-5_1/12', 'noteF6_1/2', 'rest_1', '</simul>', 'noteE-5_1/4', '</simul>', '<simul>', 'noteC#6_1', '</simul>', '<simul>', 'noteB-4_9/10', 'noteD5_1/2', 'noteD4_1/2', 'noteD5_7/4', '</simul>', 'noteB-5_1/4', '</simul>', '<simul>', 'noteD5_1/2', 'noteE-3_1/3', 'noteG#3_3', 'noteE3_1/2', 'rest_2', 'noteB-5_1/2', '</simul>', '<simul>', 'noteA2_2', 'noteB-3_1/4', '</simul>', 'noteF#3_1/4', 'noteG#5_1/2', '<simul>', 'noteD5_1/2', 'noteG5_1/10', 'noteB2_1/2', 'noteB2_1/4', 'noteF3_1/2', 'noteC#4_1/2', '</simul>', 'noteB-4_1/2', 'noteF#4_23/160', 'noteC#4_1', 'noteG#4_3', 'noteE-6_1/2', '</simul>', '<simul>', 'noteF#3_2', 'noteG4_1/2', '</simul>', '<simul>', 'noteC#5_1/2', '<simul>', 'rest_1', 'noteA3_1/2', '</simul>', '<simul>', 'noteE-6_3/2', '</simul>', 'noteF5_1/8', 'noteA4_1/2', 'noteB-3_1/2', 'noteC5_1/4', 'noteG5_1/2', '</simul>', 'noteB5_1/4', 'rest_1/2', 'noteG3_1', '</simul>', '<simul>', 'rest_1/2', '</simul>', '<simul>', 'noteE-5_1/3', 'noteA4_3/10', 'noteC5_4', 'noteE-2_1/4', 'noteC6_1/4', 'noteB-3_1/3', 'noteE-3_1/2', 'noteE5_1/8', 'noteE5_0', 'noteF4_57/512', 'rest_1', 'noteB2_1/4', '</simul>', 'noteA3_1', 'noteG3_1', 'noteG3_1/2', 'noteE4_2/3', 'noteB4_1/6', 'noteF6_1/3', '<simul>', 'noteC#3_1/4', 'noteB2_17/160', '</simul>', 'noteD6_1/6', 'noteC4_1/2', 'rest_1/2', '</simul>', 'noteE-3_3/2', '<simul>', 'noteF4_1/2', 'noteE-5_1/4', 'noteG#4_3/4', '<simul>', 'noteC4_1/4', 'noteB-2_1/4', 'noteE-6_1/4', 'noteG#5_3/10', '<simul>', 'rest_1/2', '</simul>', '<simul>', 'noteG3_1/2', 'rest_1/3', 'noteF6_1/3', 'noteB3_1/4', 'noteG#3_1/2', 'noteG#5_1/2', 'noteE-4_11/120', '<simul>', 'noteG#3_1/4', 'noteB-2_53/480', 'noteG#2_3', 'rest_1/2', 'noteE5_1/2', '</simul>', 'noteC#4_2/3', '<simul>', 'noteE4_1', '</simul>', '<simul>', 'noteE4_1/3', 'rest_1', 'noteC#2_1', 'noteD4_9/160', '<simul>', 'noteF6_171/1024', 'rest_1', 'noteF7_3/2', 'noteG2_1', 'noteG#5_1/2', 'noteF#5_1/2', 'rest_1/4', 'rest_1', '</simul>', '<simul>', 'noteC#5_43/512', 'noteF3_1', 'noteF5_1/4', 'noteB-4_1/4', 'noteG#4_1/2', 'noteG#5_1', 'noteG4_1/6', '</simul>', 'noteB-2_1/4', 'noteG#1_1/4', 'noteF2_1/2', '</simul>', 'noteE-4_1/2', 'noteB4_1/4', '<simul>', 'noteB-4_1/4', 'noteE4_1/2', 'noteC5_1/2', 'noteE-3_1/2', 'noteG4_1/4', 'noteD6_1/4', '<simul>', 'noteA3_1', 'noteB-1_1/8', '</simul>', '<simul>', 'rest_53/240', 'noteB-4_1/6', 'noteF4_7/120', 'noteF3_1/2', 'rest_4', 'rest_1/2', '<simul>', 'noteA2_1/2', '</simul>', 'noteA5_1/4', 'rest_1', '</simul>', '<simul>', 'noteG6_57/512', 'noteC3_1/4', '</simul>', '<simul>', 'noteD5_1/4', 'noteB-3_1/4', 'noteE-4_1/2', 'noteF4_1/3', 'noteA4_1/2', 'noteF#7_17/160', 'noteE3_1/2', 'noteF4_1/10', '<simul>', 'noteF#4_1/2', 'noteA4_1/3', 'noteB4_1/2', 'noteA4_111/1024', 'noteG#4_1/3', 'rest_719/480', 'noteF5_1/4', 'noteB4_1', 'rest_1', '</simul>', '<simul>', 'noteF#3_1', 'noteE-4_1', 'noteF#4_1/2', 'noteG4_1', 'noteC4_1/4', 'noteB-4_1/2', 'noteB4_1/2', '<simul>', 'noteB1_1/4', 'noteE4_1/2', 'noteC#3_1/4', 'noteF#3_1/4', 'noteF6_1/4', 'rest_1/8', 'noteB-4_1/2', '<simul>', 'noteF4_1/2', '</simul>', 'noteC#6_2/3', 'noteD3_1/2', 'noteF#5_0', 'noteG2_1/2', '</simul>', 'noteE-3_49/512', 'noteE-5_1/4', '<simul>', 'noteG4_1/4', 'noteG#5_6', '</simul>', '<simul>', 'noteF5_1', '</simul>', 'noteE1_2', 'noteG5_1/2', 'noteE-6_9/160', 'rest_1/2', 'rest_1/2', 'noteD6_1/2', 'noteG2_1/3', 'noteF#3_1/4', '</simul>', 'noteE4_1/3', 'noteD2_1', 'noteG#5_1/2', 'noteD4_1/4', 'noteD4_1/4', 'noteF3_1/2', 'rest_1/2', 'noteG#4_1', 'noteG5_1/2', 'noteF#3_1/2', 'noteA4_1/2', '<simul>', 'rest_1/2', 'noteC3_1/3', 'noteG4_1/2', 'noteE-3_1/2', 'noteF5_1/2', 'noteB3_1/3', '<simul>', 'noteB4_1/16', 'noteE-5_1/2', 'noteG4_1/2', 'noteE4_3', 'rest_12', '</simul>', '<simul>', 'noteD4_1/4', 'noteB-1_2/3', 'noteC5_1/4', 'noteF#3_1/2', '</simul>', '<simul>', 'noteE-5_1/2', '</simul>', '<simul>', '<simul>', 'noteE1_1/2', 'noteC2_1/4', 'noteC4_1', 'noteE5_1/2', 'noteB4_1/2', 'noteD2_1/10', 'noteF5_1', 'noteG#5_69/1024', 'noteE5_1/2', '</simul>', 'noteC#5_341/1024', 'noteA2_3', '</simul>', 'noteE3_3', 'noteG#5_1', 'noteE-4_1/2', 'noteD4_1/2', 'noteA3_1/4', 'rest_3/16', 'noteE5_3/8', 'noteB5_53/480', 'noteA2_4/3', '</simul>', '<simul>', 'noteE3_1/2', 'noteD5_1/3', '</simul>', '<simul>', 'noteC4_7/120', 'noteF5_1/4', 'noteG3_1/4', '</simul>', '<simul>', 'noteF5_1/2', 'noteA2_1/2', 'noteB3_1', 'noteA4_1/8', 'rest_1', 'noteC#2_1/3', 'noteD4_1/2', 'noteE-4_1', 'noteD5_1/6', '</simul>', '<simul>', '</simul>', '<simul>', 'noteC#5_17/160', 'noteE-5_1/4', '</simul>', 'noteB3_1/6', 'noteF#4_1', 'noteB3_1/2', 'noteB-6_1/8', '</simul>', '<simul>', 'noteD6_1/4', 'noteC6_1', 'noteA5_1/2', '</simul>', 'noteG4_1/4', 'noteA6_1/4', 'noteB4_1/4', 'noteF5_1/8', 'noteA3_1/2', 'noteD4_1/4', 'noteC6_1/2', 'noteA4_1', '</simul>', '<simul>', 'noteF#2_2', 'noteE-2_1/2', 'noteE-4_1/2', 'noteE-5_1/4', 'noteE5_1/2', 'rest_719/480', 'noteF4_1/3', '</simul>', '<simul>', 'noteF5_1/6', '</simul>', 'noteG#3_1/4', 'noteB-3_1/3', 'noteF2_1/4', 'noteE-6_1/12', 'noteB-5_1/4', 'noteF5_1/4', 'noteC#2_27/256', 'noteC#6_1/4', '<simul>', 'noteE6_57/512', 'rest_1/2', '<simul>', 'noteB6_11/128', '</simul>', '<simul>', 'noteC#5_3', 'noteG#4_1/2', 'noteE-3_1/3', '</simul>', '<simul>', 'noteB3_1', 'noteB-4_0', 'noteG#3_1/2', 'noteE5_1/4', 'noteC5_3/4', '</simul>', 'noteF2_1/2', 'noteB-4_1/4', '<simul>', 'noteB-5_1/2', '</simul>', 'noteC4_3/4', 'noteC5_1', 'noteE-4_1/4', 'rest_3', 'noteD5_1/10', '<simul>', 'noteG#3_1/2', 'noteD5_1/2', 'noteA4_1/4', 'noteA1_3', 'noteB4_365/1024', '</simul>', 'noteG3_1/4', 'noteB4_1/4', 'noteB-4_1/4', 'rest_1/2', '</simul>', '<simul>', 'noteC4_1/4', '<simul>', 'noteB-5_2/3', 'noteA4_7/2', 'noteE-3_107/480', 'noteG#5_1/3', '</simul>', 'rest_1', 'noteE-7_23/160', 'rest_3/8', 'noteE2_3/2', 'noteG4_1', 'noteB-4_1/2', 'rest_1', 'noteG#5_1/8', 'noteC#5_1/2', 'noteF3_1/2', '</simul>', '<simul>', 'noteG2_1/10', '<simul>', 'noteB2_1/3', 'noteC4_1/4', 'rest_1/2', '</simul>', '<simul>', 'noteE6_1/4', '</simul>', 'noteC2_1/2', 'rest_5/3', '<simul>', 'noteG#6_1', '</simul>', '<simul>', 'noteE-3_1/2', 'noteF#3_3', 'noteE6_2', 'noteE-5_1/6', '</simul>', '<simul>', 'noteF#4_1/2', '</simul>', '<simul>', 'noteG4_1/4', 'noteC#5_3', 'rest_2', 'noteD4_1', 'noteD3_17/160', 'noteG4_1', 'noteB2_1/3', 'noteG4_1/2', '</simul>', 'noteG6_1/4', 'noteB-2_1/2', '</simul>', '<simul>', 'noteG4_1/4', '<simul>', 'noteF4_1/2', 'rest_1', 'noteE-3_43/512', '<simul>', 'noteF#5_1/2', 'noteB-5_85/512', 'noteE-6_1', 'noteA3_1/6', 'noteB-3_1/4', 'noteE-5_1/2', '<simul>', 'noteA6_3/2', 'noteA4_1/2', 'rest_1/2', 'noteA2_1/2', 'noteF3_3/2', 'rest_1/2', '</simul>', '<simul>', 'rest_21/2', '</simul>', 'noteE6_1/4', 'noteG3_1', 'noteC3_1/2', 'noteD3_1/3', 'noteC2_2', 'noteB-5_1/4', 'noteD4_6', 'noteF4_1', '</simul>', '<simul>', 'noteA5_1', '</simul>', 'noteG6_89/1024', 'noteF#4_1/2', '</simul>', 'noteB3_85/512', '</simul>', 'noteD4_11/96', '<simul>', 'noteB5_1', 'rest_1', 'noteF#5_1/2', 'noteC5_1/4', '</simul>', '<simul>', 'noteE-4_1/4', 'noteB-6_1/4', 'noteC#6_683/1024', 'noteF#3_1/2', 'noteE-4_1/4', '</simul>', '<simul>', 'noteB-4_51/256', 'noteF5_1/3', '<simul>', 'noteG1_2/3', 'noteG#2_3', 'noteG#4_3/4', 'noteC5_1/2', 'noteB-3_1/2', '<simul>', '<simul>', 'noteF#1_1/2', '</simul>', '<simul>', 'noteE5_17/240', 'noteE-3_1/3', 'noteG5_11/96', 'noteD4_1', '<simul>', 'rest_103/240', 'noteF#5_2', 'noteB2_1', 'noteE-3_1/4', '<simul>', 'noteD4_1/4', 'noteA4_1/8', 'noteA3_1/4', 'noteE3_1/4', 'noteE3_1/2', 'noteD5_0', 'noteC4_3/2', 'noteB-3_1/2', '<simul>', 'noteF4_1/3', 'noteE-2_1/8', 'noteD4_1/4', 'noteG#5_1/3', '<simul>', 'noteA3_1/2', 'noteD3_1/2', 'noteG#4_3/16', '<simul>', 'noteF7_1/4', 'noteG5_1/2', 'noteC#5_1/2', 'noteA4_205/1024', 'rest_1/2', '</simul>', '<simul>', 'noteB-2_683/1024', '<simul>', 'noteE5_1/2', '</simul>', 'noteB2_3', 'noteE5_1/4', 'noteE-6_1/4', 'noteG4_1/2', 'noteC#3_1/2', 'noteD4_1/4', 'noteB5_1/4', 'noteE-4_1/6', 'noteG#7_1', 'noteB4_1/4', '<simul>', 'noteC#5_1/2', 'noteA4_1/2', 'noteF#5_3', '<simul>', 'noteF#3_683/1024', 'noteE-4_7/160', 'noteB-6_1/4', 'noteG3_113/1024', 'noteA3_1/2', '</simul>', '<simul>', 'noteG3_1/4', 'noteB-5_1', '<simul>', 'noteG#4_1/6', 'noteD5_1/2', '</simul>', '<simul>', 'noteB-5_3/28', 'noteG3_1/2', '</simul>', 'rest_31/480', '</simul>', 'noteC6_43/1024', 'noteG#3_1/2', '</simul>', 'noteB3_57/512', 'noteD3_1/3', 'noteE-3_3/2', '</simul>', 'noteG#6_1/8', 'noteF1_4', 'noteG#4_1/5', 'noteF#7_13/256', '<simul>', 'rest_1/2', 'noteB-4_1/4', '</simul>', 'noteB-4_137/480', 'noteG2_1/2', 'noteB4_1/2', 'noteD5_1/2', '</simul>', 'rest_1', 'rest_481/480', 'noteG#5_1/4', '</simul>', 'noteA3_1/6', 'noteF4_2/3', 'noteC3_1/4', '</simul>', '<simul>', 'noteC#2_1/4', '</simul>', '<simul>', 'noteD4_1/2', 'noteB-4_1/2', 'noteB-2_1', '<simul>', 'noteC#2_1/2', 'rest_1', '<simul>', '<simul>', 'noteE3_1/2', 'noteB-4_341/512', '</simul>', 'noteC#3_9/8', '</simul>', 'noteE-5_1/2', 'noteF4_1/3', '</simul>', '<simul>', '<simul>', 'rest_1', 'noteF2_53/480', 'noteG5_1/2', 'noteE5_1/4', 'noteD6_1', '</simul>', 'noteE-4_1/4', 'noteB4_1/4', '<simul>', 'noteG#4_1/4', 'noteC#6_1/4', '<simul>', 'noteB-5_171/1024', 'noteG2_1/4', 'noteF2_1/6', '<simul>', 'rest_1/2', '<simul>', 'rest_5/24', 'noteG#3_1/4', 'noteF3_1/2', 'noteF3_6', '</simul>', 'noteG5_1/8', 'noteC#5_1/3', '</simul>', 'noteB4_1', 'noteC6_3/10', '</simul>', '<simul>', 'noteF4_1/4', 'noteB-5_1', '<simul>', 'noteG5_1/6', '</simul>', '<simul>', 'rest_4', 'noteE-5_1/4', 'noteC4_1/4', 'noteG3_1/2', '</simul>', '<simul>', 'noteD4_1', 'noteB-3_1/3', 'noteD4_1/4', 'noteG#3_1/4', 'noteB3_1/4', '</simul>', '<simul>', 'rest_3/4', 'noteB-1_1/2', '<simul>', 'noteG#3_7/120', 'noteC4_1', '</simul>', '<simul>', 'noteA5_1', 'noteC#4_1/2', '</simul>', '<simul>', 'noteC4_1', '<simul>', 'noteB-3_1/4', '<simul>', 'noteG#2_1/2', '</simul>', 'noteC4_3', '</simul>', '<simul>', 'noteB-1_1/6', 'noteB-3_1/2', 'noteB-3_1/2', 'noteD3_1/6', '</simul>', '<simul>', 'noteC#4_1/2', '</simul>', '<simul>', 'noteB-4_1/4', 'noteE4_1/6', 'noteA3_1/2', '</simul>', '<simul>', 'noteC2_1/4', 'noteF4_1/4', 'noteE-4_37/480', 'noteC#4_1/2', '</simul>', 'noteB-3_3/16', 'noteB4_1/4', 'noteC5_1/4', '<simul>', 'noteA4_11/160', 'noteB-2_0', '</simul>', 'noteE-5_1/2', 'noteC5_1/4', 'noteA3_1/4', 'noteC#3_1/16', '<simul>', 'noteF1_41/512', 'noteG#4_1/4', '</simul>', 'noteB-2_37/240', 'noteB-4_1', 'noteB-4_1/4', 'noteE-2_1/2', '</simul>', '<simul>', 'rest_1/3', 'noteF3_1/4', '</simul>', '<simul>', 'noteC#3_2', 'noteB1_1/4', '</simul>', '<simul>', 'noteF4_1/4', '</simul>', '<simul>', 'noteF#2_1/2', 'noteE2_3/8', 'noteA2_1/2', '<simul>', 'noteE-4_1/4', 'noteE-6_1/8', 'noteD4_1/2', 'noteE-3_1/4', 'rest_1/2', '</simul>', 'noteC5_1/2', 'noteE-3_1/2', '</simul>', '<simul>', 'noteG#4_1/5', '</simul>', 'noteG#5_51/512', 'noteG4_1', 'noteC4_1/4', 'noteG#4_1/4', 'noteB-3_1/12', '</simul>', '<simul>', 'rest_1/4', '</simul>', '<simul>', 'noteG#4_1/6', '</simul>', '<simul>', 'noteF4_1/4', '</simul>', '<simul>', 'noteB-5_1/2', 'noteB-6_1/3', 'noteC#3_1/2', 'rest_1/2', '</simul>', '<simul>', 'noteB-3_1', '</simul>', 'noteB5_1/2', 'noteB3_1', 'noteC#4_1', 'noteF#5_1/8', 'noteC7_3/2', 'noteA5_1/4', 'noteD2_1/4', 'noteG#4_1/2', '<simul>', 'noteB3_85/512', 'noteF5_1/4', 'noteC#6_1/3', 'noteA3_1/4', 'noteG5_1/4', '<simul>', 'noteC6_1/2', 'noteG3_1/2', '</simul>', '<simul>', 'noteB-4_1/4', 'noteE-4_1/2', 'noteD3_1/2', '</simul>', '<simul>', 'noteC#3_23/160', 'noteG4_1/4', '</simul>', '<simul>', 'noteE2_1/4', 'noteG4_1/24', '<simul>', 'noteB-5_1/4', '</simul>', 'noteC5_1/32', '<simul>', 'noteG#0_1/3', 'noteG3_1/4', 'noteB2_1/2', 'noteE4_1/12', '</simul>', '<simul>', 'rest_1/2', 'noteB-5_1/10', 'noteF#3_1/3', '</simul>', 'noteE-6_37/512', '<simul>', 'noteD2_1/3', 'noteE4_1/4', '</simul>', 'noteG1_1/4', 'noteE-5_1/5', '<simul>', 'noteD4_1/6', 'noteC#3_1/4', 'noteA3_1/2', 'noteE-3_1/2', 'noteA3_1/3', 'noteF1_1/4', 'noteE3_4', 'noteF3_57/256', '</simul>', 'noteD3_113/1024', 'noteE4_1/2', 'noteE-5_1/4', 'noteG#4_1/2', 'noteG#5_1/4', '</simul>', '<simul>', 'noteE4_4', 'rest_1/2', 'noteG5_1/4', 'noteF4_1/2', 'noteF#3_1', '</simul>', 'noteG#4_1', 'noteB3_1/2', 'rest_1/4', 'noteF5_1/6', 'noteF#3_1/2', '</simul>', 'noteD4_1/2', '</simul>', 'noteB-2_1/2', '</simul>', '<simul>', 'noteB2_3/2', '</simul>', '<simul>', 'noteB-4_1', 'noteA1_1/4', '</simul>', 'noteF3_683/1024', 'noteB3_1/4', '</simul>', '<simul>', 'noteB-3_1', 'noteF4_1/2', '</simul>', 'noteF4_1/4', 'noteA2_1/2', 'noteG#2_1/2', 'noteF#1_3/10', 'noteE-4_1/4', 'noteB3_3/4', 'noteB-4_1/6', '<simul>', 'noteD3_51/512', 'noteB-3_2', 'noteC#2_1/4', 'rest_1/2', 'noteG#5_2', 'noteB-5_1/2', 'noteC#4_1/4', 'noteC4_1/2', '</simul>', 'noteA5_1/16', '</simul>', '<simul>', 'noteE-7_341/512', '</simul>', '<simul>', 'noteE-4_1/2', 'noteF#5_1/4', 'noteD4_1/4', 'noteB-5_1/4', 'noteA5_1/12', 'noteG#3_1/2', 'noteE-2_1/2', 'noteE5_0', 'noteG#1_9/160', '</simul>', '<simul>', 'noteC#7_4', '</simul>', '<simul>', 'noteE-5_1/8', 'noteF4_1/3', 'noteA4_1/2', 'noteG3_1', 'noteB3_1/3', 'noteC#5_1/2', 'noteB3_1', 'noteC5_1/4', '<simul>', 'noteA2_3/2', 'rest_9/8', 'noteG4_1', '<simul>', 'noteE-5_1/8', 'noteE2_1/2', 'noteE-3_1', 'rest_31/48', 'noteB-8_1/8', 'noteB4_1/2', 'noteE-4_1/4', 'noteG4_1/8', '</simul>', '<simul>', 'noteB-3_1/3', 'noteB-2_1/2', '</simul>', '<simul>', 'noteG#4_1', 'noteG4_0', 'noteG#3_1/6', 'noteA2_3', 'noteC#3_3/4', 'noteB-5_1', 'noteG4_1/2', '</simul>', '<simul>', 'noteE4_1/4', 'noteD4_1/6', '</simul>', '<simul>', 'noteD5_1/4', 'noteG#5_1/4', 'noteF#3_1/2', 'noteC3_1/8', '<simul>', 'noteC5_307/512', 'noteE-4_1', 'rest_1', '</simul>', '<simul>', '</simul>', '<simul>', 'noteC4_2', 'noteD5_1/2', 'noteF5_1/2', 'rest_2', 'noteF#4_1/2', '</simul>', 'noteF3_17/240', 'rest_1', '<simul>', 'noteC#6_1/12', 'noteB-4_1/4', 'noteG5_1/2']\n",
      "None\n"
     ]
    }
   ],
   "source": [
    "# this just grabs a random batch and performs on it\n",
    "for batch in validation_dataloader:\n",
    "    bleh = generate_music(model, batch[0][:4], temperature=1.0)\n",
    "    notes = [token_to_note[token] for token in bleh]\n",
    "    print(print(notes))\n",
    "    break"
   ]
  },
  {
   "cell_type": "code",
   "execution_count": null,
   "metadata": {},
   "outputs": [],
   "source": [
    "torch.save(model.state_dict(), \"music_transformer_model.pth\")"
   ]
  }
 ],
 "metadata": {
  "kernelspec": {
   "display_name": "Python 3",
   "language": "python",
   "name": "python3"
  },
  "language_info": {
   "codemirror_mode": {
    "name": "ipython",
    "version": 3
   },
   "file_extension": ".py",
   "mimetype": "text/x-python",
   "name": "python",
   "nbconvert_exporter": "python",
   "pygments_lexer": "ipython3",
   "version": "3.10.12"
  }
 },
 "nbformat": 4,
 "nbformat_minor": 2
}
