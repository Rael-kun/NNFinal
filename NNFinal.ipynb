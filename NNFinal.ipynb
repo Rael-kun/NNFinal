{
 "cells": [
  {
   "cell_type": "markdown",
   "metadata": {},
   "source": [
    "# Libraries"
   ]
  },
  {
   "cell_type": "code",
<<<<<<< HEAD
   "execution_count": 2,
=======
   "execution_count": 31,
>>>>>>> adc04dfbd14c63205e254a4ecacc230fc3bc2241
   "metadata": {},
   "outputs": [
    {
     "name": "stdout",
     "output_type": "stream",
     "text": [
      "Using device: cuda\n"
     ]
    }
   ],
   "source": [
    "import torch\n",
    "import torch.nn as nn\n",
    "from torch.utils.data import DataLoader, TensorDataset, Dataset, random_split\n",
    "from torch.optim import Adam\n",
    "import torch.nn.functional as F\n",
    "import numpy as np\n",
    "\n",
    "# for teacher\n",
    "import random\n",
    "\n",
    "from sklearn.model_selection import train_test_split\n",
    "\n",
    "# Side variables\n",
    "device = torch.device('cuda' if torch.cuda.is_available() else 'cpu')\n",
    "print(f\"Using device: {device}\")\n",
    "base_type = np.float32\n",
    "torch_type = torch.float32\n",
    "batch_size = 32\n",
    "window_length = 1024 # Data points will hold 1024 tokens of observations (should be 1/4 average song length in tokens, remember to remove outliers)\n",
    "window_step_size = 64 # Sliding window will move this much each time (higher numbers means less data, but less overfitting to similar data)\n"
   ]
  },
  {
   "cell_type": "markdown",
   "metadata": {},
   "source": [
    "# Load Data / Tokenize"
   ]
  },
  {
   "cell_type": "code",
<<<<<<< HEAD
   "execution_count": 3,
=======
   "execution_count": 32,
>>>>>>> adc04dfbd14c63205e254a4ecacc230fc3bc2241
   "metadata": {},
   "outputs": [
    {
     "name": "stdout",
     "output_type": "stream",
     "text": [
      "['<simul>', 'rest_1/2', 'noteD3_1/2', '</simul>', '<simul>']\n"
     ]
    }
   ],
   "source": [
    "# load\n",
    "data = []\n",
    "with open(\"./out.txt\", \"r\") as file:\n",
    "    data = file.read().splitlines()\n",
    "\n",
    "print(data[5:10])"
   ]
  },
  {
   "cell_type": "code",
<<<<<<< HEAD
   "execution_count": 4,
=======
   "execution_count": 33,
>>>>>>> adc04dfbd14c63205e254a4ecacc230fc3bc2241
   "metadata": {},
   "outputs": [
    {
     "name": "stdout",
     "output_type": "stream",
     "text": [
      "1152\n"
     ]
    }
   ],
   "source": [
    "# now tokenize\n",
    "unique_tokens = set(list(data) + [\"PAD\"])\n",
    "print(len(unique_tokens))\n",
    "# mapping\n",
    "note_to_token = {note: idx for idx, note in enumerate(unique_tokens)}\n",
    "token_to_note = {idx: note for note, idx in note_to_token.items()}\n"
   ]
  },
  {
   "cell_type": "markdown",
   "metadata": {},
   "source": [
    "# Data Preprocessing"
   ]
  },
  {
   "cell_type": "code",
   "execution_count": 34,
   "metadata": {},
   "outputs": [
    {
     "name": "stdout",
     "output_type": "stream",
     "text": [
      "700\n",
      "953\n"
     ]
    }
   ],
   "source": [
    "end_token = note_to_token[\"<end_song>\"]\n",
    "pad_token = note_to_token[\"PAD\"]\n",
    "print(end_token)\n",
    "print(pad_token)"
   ]
  },
  {
   "cell_type": "code",
   "execution_count": 35,
   "metadata": {},
   "outputs": [],
   "source": [
    "data_inp = [note_to_token[tok] for tok in data]\n",
    "\n",
    "\n",
    "# Assume already tokenized (this is for transformer, must be adapted for other models)\n",
    "class MusicDataset(Dataset):\n",
    "    def __init__(self, data, window_length, step_size):\n",
    "        self.temp_data = data\n",
    "        self.window_length = window_length\n",
    "        self.step_size = step_size\n",
    "        self.final_data = self.apply_window()\n",
    "\n",
    "    def apply_window(self):\n",
    "        train_examples = []\n",
    "        song_data = []\n",
    "        cur_seq = []\n",
    "\n",
    "        # first split data by songs\n",
    "        for tok in self.temp_data:\n",
    "            cur_seq.append(tok)\n",
    "            if(tok == end_token):\n",
    "                song_data.append(cur_seq)\n",
    "                cur_seq = []\n",
    "        \n",
    "        # then apply sliding windows\n",
    "        for song in song_data:\n",
    "            idx = 0\n",
    "            # create sliding windows\n",
    "            for start_idx in range(0, len(song) - self.window_length + 1, self.step_size):\n",
    "                end_idx = start_idx + self.window_length\n",
    "                idx = end_idx # store most recent end_idx\n",
    "                train_example = song[start_idx:end_idx] # training of length window_length\n",
    "                train_examples.append(train_example)\n",
    "            \n",
    "            # now add ending and pad (so model can learn how to finish predicting)\n",
    "            train_example = song[idx:]\n",
    "            train_example += [0] * (self.window_length - len(train_example))\n",
    "            train_examples.append(train_example)\n",
    "\n",
    "\n",
    "        return train_examples\n",
    "\n",
    "    #def apply_window(self):\n",
    "    #    # return sliding window data + labels\n",
    "    #    train_examples = []\n",
    "    #    # cycle through each window configuration, calculating start index and end index\n",
    "    #    for start_idx in range(0, len(self.temp_data) - self.window_length + 1, self.step_size):\n",
    "    #        end_idx = start_idx + self.window_length\n",
    "    #        train_example = self.temp_data[start_idx:end_idx] # training of length window_length\n",
    "    #        train_examples.append(train_example)\n",
    "    #        \n",
    "    #    return train_examples\n",
    "    \n",
    "                \n",
    "\n",
    "    def __len__(self):\n",
    "        return len(self.final_data)\n",
    "\n",
    "    def __getitem__(self, idx):\n",
    "        window = self.final_data[idx]\n",
    "\n",
    "        return torch.tensor(window).to(device)\n",
    "    \n",
    "\n",
    "dataset = MusicDataset(data_inp, window_length, window_step_size)\n",
    "\n",
    "train_size = int(0.8 * len(dataset))\n",
    "val_size = len(dataset) - train_size\n",
    "\n",
    "train_dataset, val_dataset = random_split(dataset, [train_size, val_size])\n",
    "\n",
    "training_dataloader = DataLoader(train_dataset, batch_size=batch_size, shuffle=True)\n",
    "validation_dataloader = DataLoader(val_dataset, batch_size=batch_size, shuffle=False)\n",
    "\n",
    "vocab_len = len(unique_tokens)\n"
   ]
  },
  {
   "cell_type": "code",
   "execution_count": 36,
   "metadata": {},
   "outputs": [],
   "source": [
    "from collections import Counter\n",
    "# generate music\n",
    "# for now, generate a fixed length, if we add start and end tokens then we can also do that\n",
    "def generate_music(model, start_tokens, temperature=1.0, repitition_penalty=1.0, recent_window=5, num_to_generate=window_length):\n",
    "    model.eval()\n",
    "\n",
    "    predicted_tokens = torch.tensor(start_tokens).clone().detach().unsqueeze(0) # (1, len(start_tokens))\n",
    "    # iteratively predict then add to start_tokens\n",
    "    for i in range(num_to_generate):\n",
    "        with torch.no_grad():\n",
    "            # grab most recent tokens\n",
    "            logits = model(predicted_tokens[:, -(window_length):]) # (1, len(predicted_tokens), num_tokens)\n",
    "            logits = logits[:, -1, :] # grabs last token \n",
    "            # apply repitition penalty\n",
    "            recent_tokens = predicted_tokens[0, -recent_window:].tolist()\n",
    "            c = Counter(recent_tokens)\n",
    "            for token_id in recent_tokens:\n",
    "                logits[0, token_id] -= repitition_penalty * pow(2, c[token_id])\n",
    "            # grab probs\n",
    "            probs = torch.softmax(logits / temperature, dim=-1) # (1, num_tokens)\n",
    "            pred_token = torch.multinomial(probs, num_samples=1) # (1, 1)\n",
    "\n",
    "        predicted_tokens = torch.cat([predicted_tokens, pred_token], dim=1) # (1, len(current sequence length))\n",
    "\n",
    "    return predicted_tokens.squeeze(0).tolist()\n"
   ]
  },
  {
   "cell_type": "code",
   "execution_count": 37,
   "metadata": {},
   "outputs": [],
   "source": [
    "from matplotlib import pyplot as plt\n",
    "def Display_Plot(train_loss, valid_loss, model_name):\n",
    "    # Get error metrics\n",
    "    train_err = np.array(train_loss)\n",
    "    val_err = np.array(valid_loss)\n",
    "    # Plot training and test errors\n",
    "    plt.figure(figsize=(8, 6))\n",
    "    plt.plot(range(1, len(train_err) + 1), train_err, label=\"train_loss\", color=\"red\", linewidth=2)\n",
    "    plt.plot(range(1, len(val_err) + 1), val_err, label=\"val_loss\", color=\"green\", linewidth=2)\n",
    "\n",
    "    plt.xlabel(\"Epochs\")\n",
    "    plt.ylabel(\"Losses\")\n",
    "    plt.title(model_name)\n",
    "    plt.legend()\n",
    "\n",
    "    plt.show()"
   ]
  },
  {
   "cell_type": "markdown",
   "metadata": {},
   "source": [
    "# RNN"
   ]
  },
  {
   "cell_type": "code",
   "execution_count": null,
   "metadata": {},
   "outputs": [],
   "source": [
    "# RNN Variables\n",
    "input_size = 256\n",
    "hidden_size = 512 # larger embed size may require larger dropout\n",
    "dropout = 0.2\n",
    "lr = 1e-4\n",
    "epochs = 20"
   ]
  },
  {
   "cell_type": "code",
   "execution_count": null,
   "metadata": {},
   "outputs": [],
   "source": [
    "class Music_RNN(nn.Module):\n",
    "    def __init__(self, vocab_len, input_size, hidden_size, dropout):\n",
    "        super(Music_RNN, self).__init__()\n",
    "        self.embed = nn.Embedding(vocab_len, input_size)\n",
    "        self.RNN = nn.RNN(input_size, hidden_size, batch_first=True, num_layers=2, dropout=dropout)\n",
    "        self.layernorm = nn.LayerNorm(hidden_size)\n",
    "        self.drop = nn.Dropout(dropout)\n",
    "        self.ff = nn.Linear(hidden_size, vocab_len) # predicting next input autoregressively\n",
    "\n",
    "    def forward(self, x):\n",
    "        # x should be (batch_size, seq_len)\n",
    "        x = self.embed(x) # (batch_size, seq_len, input_size)\n",
    "        x, _ = self.RNN(x) # (batch_size, seq_len, hidden_size)\n",
    "        x = self.layernorm(x)\n",
    "        x = self.drop(x)\n",
    "        x_pred = self.ff(x) # batch_size, seq_len, vocab_len)\n",
    "\n",
    "        return x_pred "
   ]
  },
  {
   "cell_type": "code",
   "execution_count": null,
   "metadata": {},
   "outputs": [],
   "source": [
    "model_rnn = Music_RNN(vocab_len, input_size, hidden_size, dropout).to(device)"
   ]
  },
  {
   "cell_type": "code",
   "execution_count": null,
   "metadata": {},
   "outputs": [
    {
     "name": "stdout",
     "output_type": "stream",
     "text": [
      "Epoch: 0, Loss: 3.9345018919285812\n",
      "Validation loss: 3.1780834710875223\n",
      "Epoch: 1, Loss: 3.0181748175412504\n",
      "Validation loss: 2.7481323951898617\n",
      "Epoch: 2, Loss: 2.7412663263760226\n",
      "Validation loss: 2.5505862845930944\n",
      "Epoch: 3, Loss: 2.5823674723288756\n",
      "Validation loss: 2.413339782592862\n",
      "Epoch: 4, Loss: 2.4687161779264666\n",
      "Validation loss: 2.3103269172269245\n",
      "Epoch: 5, Loss: 2.380480260265117\n",
      "Validation loss: 2.2244144109792487\n",
      "Epoch: 6, Loss: 2.3068607207985035\n",
      "Validation loss: 2.1512243172457053\n",
      "Epoch: 7, Loss: 2.243601490909087\n",
      "Validation loss: 2.089051286841548\n",
      "Epoch: 8, Loss: 2.1875679915222412\n",
      "Validation loss: 2.032660790654116\n",
      "Epoch: 9, Loss: 2.1376795014556573\n",
      "Validation loss: 1.9779241071190945\n",
      "Epoch: 10, Loss: 2.0913501275871655\n",
      "Validation loss: 1.9316094760284868\n",
      "Epoch: 11, Loss: 2.050160049349504\n",
      "Validation loss: 1.8872907806274504\n",
      "Epoch: 12, Loss: 2.011258471811478\n",
      "Validation loss: 1.842070156751677\n",
      "Epoch: 13, Loss: 1.9749918550513577\n",
      "Validation loss: 1.8046076727467915\n",
      "Epoch: 14, Loss: 1.9409384298255075\n",
      "Validation loss: 1.7728881198306417\n",
      "Epoch: 15, Loss: 1.9098080636460997\n",
      "Validation loss: 1.7324063237323317\n",
      "Epoch: 16, Loss: 1.8790921235223552\n",
      "Validation loss: 1.699457742447077\n",
      "Epoch: 17, Loss: 1.8498906345478647\n",
      "Validation loss: 1.66822693375654\n",
      "Epoch: 18, Loss: 1.823383437822581\n",
      "Validation loss: 1.6391655518565067\n",
      "Epoch: 19, Loss: 1.7968796875664514\n",
      "Validation loss: 1.606377394393433\n"
     ]
    },
    {
     "data": {
      "image/png": "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",
      "text/plain": [
       "<Figure size 800x600 with 1 Axes>"
      ]
     },
     "metadata": {},
     "output_type": "display_data"
    }
   ],
   "source": [
    "# adapt loss and optimizer as needed\n",
    "criterion = nn.CrossEntropyLoss()\n",
    "optimizer = Adam(model_rnn.parameters(), lr=lr)\n",
    "\n",
    "train_losses = []\n",
    "valid_losses = []\n",
    "\n",
    "# train\n",
    "for epoch in range(epochs):\n",
    "    # Set to train\n",
    "    model_rnn.train()\n",
    "    # keep cumalitive losses\n",
    "    total_losses = 0.0\n",
    "\n",
    "    for batch in training_dataloader:\n",
    "        inp = batch[:, :-1] # grabs all but last\n",
    "        tgt = batch[:, 1:] # grabs all except first (shifted once)\n",
    "\n",
    "        optimizer.zero_grad()\n",
    "\n",
    "        preds = model_rnn.forward(inp) # make sure dimensions line up\n",
    "\n",
    "        loss = criterion(preds.view(-1, vocab_len), tgt.reshape(-1))\n",
    "        loss.backward()\n",
    "\n",
    "        optimizer.step()\n",
    "\n",
    "        total_losses += loss.item()\n",
    "\n",
    "    train_losses.append(total_losses / len(training_dataloader))\n",
    "    print(f\"Epoch: {epoch}, Loss: {total_losses / len(training_dataloader)}\")\n",
    "\n",
    "\n",
    "    # Validation\n",
    "    model_rnn.eval()\n",
    "\n",
    "    total_valid_losses = 0.0\n",
    "\n",
    "    with torch.no_grad():\n",
    "        for batch in validation_dataloader:\n",
    "            inp = batch[:, :-1] # grabs all but last\n",
    "            tgt = batch[:, 1:] # grabs all except first (shifted once)\n",
    "\n",
    "            preds = model_rnn.forward(inp) # make sure dimensions line up\n",
    "\n",
    "            loss = criterion(preds.view(-1, vocab_len), tgt.reshape(-1))\n",
    "            total_valid_losses += loss.item()\n",
    "\n",
    "    valid_losses.append(total_valid_losses / len(validation_dataloader))\n",
    "    print(f\"Validation loss: {total_valid_losses / len(validation_dataloader)}\")\n",
    "\n",
    "\n",
    "Display_Plot(train_loss=train_losses, valid_loss=valid_losses, model_name=\"RNN Music\")\n"
   ]
  },
  {
   "cell_type": "code",
   "execution_count": null,
   "metadata": {},
   "outputs": [],
   "source": [
    "torch.save(model_rnn.state_dict(), \"music_rnn_model.pth\")"
   ]
  },
  {
   "cell_type": "code",
   "execution_count": null,
   "metadata": {},
   "outputs": [
    {
     "name": "stderr",
     "output_type": "stream",
     "text": [
      "/tmp/ipykernel_890141/2880647662.py:6: UserWarning: To copy construct from a tensor, it is recommended to use sourceTensor.clone().detach() or sourceTensor.clone().detach().requires_grad_(True), rather than torch.tensor(sourceTensor).\n",
      "  predicted_tokens = torch.tensor(start_tokens).clone().detach().unsqueeze(0) # (1, len(start_tokens))\n"
     ]
    },
    {
     "name": "stdout",
     "output_type": "stream",
     "text": [
      "['</simul>', '<simul>', 'noteF#5_1/3', 'noteF#6_1/3', '</simul>', '<simul>', 'noteA6_1/3', 'noteE-7_1/3', '</simul>', '<simul>', 'noteE5_1/4', 'rest_1/2', '</simul>', '<simul>', 'noteC#5_1/4', 'noteG5_1/4', '</simul>', '<simul>', 'noteC5_1/4', 'noteF5_1/4', '</simul>', '<simul>', 'noteE-5_1/4', 'noteF#5_1/4', '</simul>', '<simul>', 'noteE-5_1/4', 'noteF#5_1/4', '</simul>', '<simul>', 'noteC5_1/4', 'noteD5_1/4', '</simul>', '<simul>', 'noteB4_1/4', 'noteE-5_1/4', '</simul>', '<simul>', 'noteC5_1/4', 'noteE-5_1/4', '</simul>', '<simul>', 'noteC#5_1/4', 'noteF#5_1/4', '</simul>', '<simul>', 'noteE-5_1/4', 'noteF5_1/4', '</simul>', '<simul>', 'noteE-5_1/4', 'noteC5_1/4', '</simul>', '<simul>', 'noteB4_1/4', 'noteE-5_1/4', '</simul>', '<simul>', 'noteE-5_1/2', 'noteE-5_1/4', '</simul>', '<simul>', 'noteD5_1/4', 'noteB4_1/4', '</simul>', '<simul>', 'noteE-5_1/4', 'noteE-4_1/4', '</simul>', '<simul>', 'noteD5_1/4', 'noteF#4_1/4', '</simul>', '<simul>', 'noteG#4_1/4', 'noteE-4_1/4', '</simul>', '<simul>', 'noteG#4_1/4', 'noteF#4_1/4', '</simul>', '<simul>', 'noteC#4_1/4', 'noteD4_1/4', '</simul>', '<simul>', 'noteE-4_1/4', 'noteF#4_1/4', '</simul>', '<simul>', 'noteF#4_1/4', 'noteE-3_1/2', '</simul>', '<simul>', 'noteF#4_1/4', 'noteE-4_1/4', '</simul>', '<simul>', 'noteD4_1/4', 'noteC4_1/4', '</simul>', '<simul>', 'noteG3_1', 'noteB3_1', 'noteC2_1', 'noteF2_1/2', '</simul>', '<simul>', 'rest_1/2', 'rest_1/2', '</simul>', '<simul>', 'noteG#3_1/2', 'noteG4_1/2', 'noteG#4_1/2', 'noteF2_1/2', 'noteE3_1/2', '</simul>', '<simul>', 'noteG#4_1/4', 'rest_1/2', '</simul>', 'noteF4_1/4', '<simul>', 'rest_1', 'rest_1', 'rest_2', 'rest_2', 'rest_1/2', 'rest_3/2', 'noteC2_1/2', 'noteC3_1/2', '</simul>', '<simul>', 'noteC3_1', 'noteC4_1', 'noteE-4_1', 'rest_3/2', 'rest_2', 'noteC2_1/2', '</simul>', '<simul>', 'rest_1/2', 'rest_1/2', '</simul>', '<simul>', 'rest_1', 'rest_1', '</simul>', '<simul>', 'rest_1/2', 'noteC5_1/4', '</simul>', '<simul>', 'noteF4_1/2', 'rest_1/2', '</simul>', '<simul>', 'noteF4_1', 'noteC4_1', 'noteF4_1', 'noteF2_1', '</simul>', '<simul>', 'rest_1/2', 'rest_1/2', 'rest_1/2', '</simul>', '<simul>', 'noteF3_1', 'noteC4_1', 'noteF4_1', 'noteF2_1', '</simul>', 'rest_1/2', '<simul>', 'rest_1/2', 'noteF3_1/2', 'rest_1/2', 'rest_1/2', 'noteC5_1/2', 'rest_1/2', '</simul>', '<simul>', 'rest_1/4', 'rest_1/2', 'noteF3_1', 'rest_1/2', '</simul>', '<simul>', 'rest_1/4', 'noteF3_1', '</simul>', '<simul>', 'rest_1/2', 'rest_1/2', '</simul>', '<simul>', 'noteB-5_3/4', 'noteF5_1', 'noteC#4_1/2', 'noteB-3_1/2', 'rest_1/2', '</simul>', '<simul>', 'noteC4_1/2', 'noteF4_1/2', '</simul>', '<simul>', 'rest_1/2', 'rest_1/2', 'rest_1/2', 'noteB-3_1/2', '</simul>', '<simul>', 'rest_1/2', 'rest_1/2', 'rest_1/2', 'noteF3_1/2', '</simul>', '<simul>', 'rest_1', 'noteB-4_1/2', 'noteF3_1/2', '</simul>', '<simul>', 'rest_1/2', 'noteC4_1/2', '</simul>', '<simul>', 'rest_1/2', 'rest_1/2', 'rest_1/2', 'noteF2_1/2', '</simul>', '<simul>', 'rest_1/2', 'noteF3_1/2', 'noteF2_1/2', '</simul>', '<simul>', 'rest_1/2', 'rest_1/2', 'rest_1/2', 'noteB-2_1/2', '</simul>', '<simul>', 'rest_1/2', 'noteF3_1/2', 'noteA3_1/2', 'noteA2_1/2', 'rest_1', '</simul>', '<simul>', 'noteF3_1/2', 'noteG#3_1/2', 'noteF3_1', '</simul>', '<simul>', 'rest_1/2', 'rest_1/2', 'noteF3_1/2', '</simul>', '<simul>', 'rest_1', 'noteC4_1/2', 'rest_1/2', '</simul>', '<simul>', 'noteF#3_1/2', 'noteB-3_1/2', 'noteD4_1/2', '</simul>', '<simul>', 'noteF#3_1/2', 'rest_1/2', 'rest_1/2', '</simul>', '<simul>', 'rest_1/2', 'rest_1/2', '</simul>', '<simul>', 'noteF#3_1/2', 'noteB-3_1/2', 'noteC#4_1/2', '</simul>', '<simul>', 'noteF3_1/2', 'noteG#3_1/2', 'noteC4_1/2', '</simul>', '<simul>', 'noteF#3_1/2', 'rest_1', '</simul>', 'noteB-3_1/2', '<simul>', 'rest_1/2', 'noteF#3_1/2', '</simul>', '<simul>', 'rest_1/2', 'rest_1/2', 'noteF3_1', '</simul>', '<simul>', 'noteF#3_1/2', 'noteB-3_1/2', 'noteC#4_1/2', '</simul>', '<simul>', 'rest_1/2', 'noteB-3_1/2', '</simul>', '<simul>', 'rest_1/2', 'rest_1/2', 'noteF#3_1/2', 'noteB-3_1/2', 'noteC#4_1/2', '</simul>', '<simul>', 'noteD5_2', 'noteB-4_1', 'noteB-5_1', 'rest_1/2', '</simul>', 'noteF3_1/2', '<simul>', 'noteB-2_1/2', 'noteA3_1/2', 'noteB-3_1/2', 'noteD4_1/2', '</simul>', '<simul>', 'rest_1/2', 'noteF3_1/2', 'noteA3_1/2', 'noteC#4_1/2', '</simul>', '<simul>', 'noteE5_1/2', 'noteC#6_1', 'noteA3_1/2', 'noteC4_1/2', 'noteA3_1/2', '</simul>', '<simul>', 'noteF5_1', 'noteA5_1', 'noteC6_1', 'noteA3_1/2', 'noteA3_1/2', '</simul>', '<simul>', 'noteF3_1/2', 'noteA3_1/2', 'noteA3_1/2', '</simul>', '<simul>', 'noteC#5_2', 'noteC#5_1/2', 'noteA3_1/2', 'noteF#3_1/2', 'noteA3_1/2', '</simul>', '<simul>', 'noteG3_1/2', 'noteA3_1/2', '</simul>', '<simul>', 'noteA3_1', 'rest_2', 'rest_2', 'noteA3_1/2', 'noteC4_1/2', '</simul>', '<simul>', 'noteA3_1/2', 'noteF#3_1/2', 'noteA3_1/2', '</simul>', '<simul>', 'rest_1/2', 'noteF#3_1/2', 'noteA3_1/2', 'noteA3_1/2', 'noteC4_1/2', '</simul>', '<simul>', 'rest_2', 'rest_2', 'rest_2', 'noteA3_1/2', 'rest_2', '</simul>', '<simul>', 'noteA3_1/2', 'noteC4_1/2', 'noteF4_1/2', '</simul>', '<simul>', 'noteA4_3/2', 'noteA3_1/2', 'noteC4_1/2', '</simul>', '<simul>', 'rest_1', 'rest_1', '</simul>', '<simul>', 'noteC4_1/2', 'noteA4_1/2', 'noteE3_1/2', 'noteA3_1/2', 'noteC4_1/2', '</simul>', '<simul>', 'noteB4_1', 'noteA4_1', 'rest_1/2', 'noteC4_1', '</simul>', '<simul>', 'rest_1/2', 'noteD3_1/2', '</simul>', '<simul>', 'noteA4_1/2', 'noteC5_1/2', 'noteA3_1/2', 'noteC4_1/2', '</simul>', '<simul>', 'rest_1/2', 'rest_1/2', '</simul>', '<simul>', 'noteC5_3/2', 'rest_3/2', 'noteB-3_3/2', 'noteE4_3/2', '</simul>', '<simul>', 'noteE5_3/2', 'noteA4_3/2', 'noteC4_3/2', 'noteC4_1/2', '</simul>', '<simul>', 'noteA4_3/2', 'noteC5_3/2', 'noteC3_3/2', 'noteC4_3/2', '</simul>', '<simul>', 'noteE-4_0', 'noteF#4_0', 'noteF4_3/2', 'noteB4_3/2', 'noteD5_3/2', 'noteF3_3/2', 'noteG#3_3/2', 'noteD5_1', 'noteF4_3/2', 'noteA4_3/2', 'rest_3', 'rest_3', '</simul>', '<simul>', 'noteC4_3', 'noteE4_3', 'noteA4_3', 'noteC3_3', 'noteE-3_3', '</simul>', '<simul>', 'rest_1/2', 'rest_3/2', 'rest_3', 'noteC#4_1', 'noteF3_3', '</simul>', '<simul>', 'noteF5_1', 'rest_3', '</simul>', '<simul>', 'noteA4_1', 'noteB3_3/2', 'noteE4_1', '</simul>', '<simul>', 'noteA3_2', 'noteD4_2', 'noteE4_2', 'rest_4', '</simul>', '<simul>', 'noteB4_1', 'rest_4', 'noteB-4_1', 'rest_1/2', '</simul>', '<simul>', 'noteE4_3/2', 'rest_3/2', 'rest_3/2', 'rest_3/2', 'rest_3/2', 'rest_3/2', 'rest_3/2', 'rest_1/2', 'rest_3/2', '</simul>', '<simul>', 'rest_1/2', 'rest_1/2', '</simul>', '<simul>', 'noteF4_3/2', 'noteC5_3/2', 'noteG#3_3/2', 'noteB3_3/2', '</simul>', '<simul>', 'noteF#4_1/2', 'noteA4_1/2', 'noteA3_1/2', '</simul>', '<simul>', 'rest_1/2', 'rest_1', '</simul>', '<simul>', 'noteE4_1/2', 'noteA4_1/2', 'noteG3_3/2', '</simul>', '<simul>', 'noteC#4_1', 'noteE4_1', 'noteC5_1', '</simul>', '<simul>', 'noteG#3_1', 'noteC4_1', 'noteE4_1', '</simul>', '<simul>', 'noteF4_3/2', 'noteF4_3/2', 'noteB3_1', 'noteD4_1', '</simul>', '<simul>', 'noteC4_1', 'noteF#4_1', 'noteG3_3', 'noteB3_3', '</simul>', '<simul>', 'noteC4_1', 'noteE4_1', 'noteE2_1', 'noteE3_1', '</simul>', '<simul>', 'noteB3_1', 'noteE4_1', '</simul>', '<simul>', 'noteC4_1', 'noteE4_1', '</simul>', '<simul>', 'noteC4_1', 'noteC5_1', '</simul>', '<simul>', 'noteC4_1', 'noteC4_1', '</simul>', '<simul>', 'noteG4_1', 'noteG3_1', 'noteC4_1', 'noteE4_1', '</simul>', '<simul>', 'noteC4_1', 'noteC5_1', '</simul>', '<simul>', 'noteE4_1', 'noteC4_1', 'noteE3_1', '</simul>', '<simul>', 'noteC4_1', 'noteC5_1', 'noteE3_1', '</simul>', '<simul>', 'noteE4_1', 'noteC4_1', '</simul>', '<simul>', 'noteA4_1', 'noteC4_1', 'noteF4_1', '</simul>', '<simul>', 'noteC4_1', 'noteA3_1', 'noteF4_1', '</simul>', '<simul>', 'noteC4_1', 'noteC4_1', 'noteE4_1', '</simul>', '<simul>', 'noteG3_1', 'noteC4_1', 'noteE-4_1', '</simul>', '<simul>', 'noteF4_1', 'noteC4_1', '</simul>', '<simul>', 'noteC4_1', 'noteF4_1', '</simul>', '<simul>', 'noteC4_1', 'noteE-3_1', 'noteC4_1', '</simul>', '<simul>', 'noteE4_1', 'rest_1', '</simul>', '<simul>', 'noteC4_1', 'noteF4_1', '</simul>', '<simul>', 'noteF3_1', 'noteC4_1', '</simul>', '<simul>', 'noteA4_1', 'noteC4_1', '</simul>', '<simul>', 'noteF4_1', 'noteF3_1', '</simul>', '<simul>', 'noteG3_1', 'noteC4_1', 'noteE4_1', '</simul>', '<simul>', 'rest_1', 'noteG1_1', '</simul>', '<simul>', 'noteC4_1', 'noteE4_1', 'noteC4_1', '</simul>', '<simul>', 'noteG3_1', 'noteC4_1', 'noteE4_1', '</simul>', '<simul>', 'noteG5_0', 'noteF4_1', 'noteB4_1', '</simul>', '<simul>', 'noteB3_1', 'noteD4_1', 'noteF4_1', '</simul>', '<simul>', 'noteB3_1', 'noteE4_1', 'noteG#4_1', '</simul>', '<simul>', 'noteC4_1', 'noteE4_1', 'rest_2', '</simul>', 'noteC4_1', '<simul>', 'noteA3_1', 'noteF4_1', 'noteC4_1', 'noteC3_1', '</simul>', '<simul>', 'noteB3_1', 'noteD4_1', 'noteF4_1', 'noteG3_1', '</simul>', '<simul>', 'noteG#3_1', 'noteC4_1', 'noteE4_1', '</simul>', '<simul>', 'noteA3_1', 'noteC4_1', 'noteF4_1', '</simul>', '<simul>', 'noteC4_1', 'noteC4_1', 'noteF4_1', '</simul>', 'noteC5_1/6', '<simul>', 'noteC4_1', 'noteE4_1', 'noteF4_1', '</simul>', '<simul>', 'noteC4_1', 'noteE-4_1', '</simul>', '<simul>', 'noteF4_1', 'noteG3_1', 'noteB3_1', '</simul>', '<simul>', 'noteC4_1', 'noteC#4_1', 'noteF4_1', 'noteA4_1', '</simul>', 'noteC4_1', '<simul>', 'noteA4_1', 'noteF4_1', 'noteF3_1', 'noteA3_1', 'noteE-4_1', '</simul>', '<simul>', 'noteC#4_1', 'noteF4_1', 'noteG#4_1', 'noteG#3_1', '</simul>', '<simul>', 'noteF4_1', 'noteC#4_1', 'noteF4_1', 'noteF2_1', '</simul>', '<simul>', 'noteD4_1/2', 'noteF4_1/2', 'noteA3_1', '</simul>', '<simul>', 'noteG#4_1', 'noteC4_1', 'noteC4_1', '</simul>', '<simul>', 'noteA4_1', 'noteF4_1', 'noteF3_1', '</simul>', '<simul>', 'noteF4_1', 'noteD5_1', 'noteA3_1', 'noteF3_1', '</simul>', '<simul>', 'noteF#4_1/2', 'noteB-3_1/2', 'noteA3_1', 'noteC#4_1', '</simul>', '<simul>', 'noteF4_1', 'rest_1', '</simul>', '<simul>', 'noteA4_1/2', 'noteB-3_1', 'noteD4_1', 'noteF4_1', '</simul>', 'noteC4_1/2', '<simul>', 'noteA4_1/2', 'noteD4_1', 'noteF4_1', 'rest_1', '</simul>', '<simul>', 'noteF5_1/2', 'noteG#4_1/2', 'noteG#3_1/2', '</simul>', '<simul>', 'noteC5_1', 'noteE4_1', 'noteA2_1', 'noteA3_1', '</simul>', '<simul>', 'noteF#4_1/2', 'noteA4_1/2', 'noteA2_1/2', 'noteC3_1/2', '</simul>', '<simul>', 'noteG4_3/2', 'noteG5_3/2', 'noteE2_1', 'noteC3_1/2', 'rest_4', '</simul>', 'noteG2_1/2', '<simul>', 'noteE2_1/2', 'noteE3_1/2', '</simul>', '<simul>', 'rest_2', 'noteB-3_1', 'noteD4_1', '</simul>', '<simul>', 'rest_1/2', 'noteE2_1/2', '</simul>', '<simul>', 'noteG5_1', 'noteB5_1', 'noteE3_1', 'noteB-3_1', 'noteC4_1', '</simul>', '<simul>', 'rest_1', 'rest_1', 'rest_1', 'rest_1', '</simul>', '<simul>', 'noteB4_1', 'noteE5_1', 'noteE3_1', 'noteG3_1', '</simul>', '<simul>', 'noteB4_1', 'noteD5_1', 'noteB5_1', 'rest_1', 'noteG1_1', '</simul>', '<simul>', 'noteC#5_1', 'noteE5_1', 'rest_3', 'noteF3_1', '</simul>', '<simul>', 'rest_1', 'noteF5_1/2', '</simul>', '<simul>', 'rest_1', 'noteE3_1', '</simul>', '<simul>', 'noteE5_1', 'noteD6_1', 'noteC3_1', '</simul>', '<simul>', 'noteD5_1', 'noteG#5_1', 'noteF5_1', 'noteF2_1', '</simul>', '<simul>', 'noteD4_1', 'noteD5_1', 'noteD3_1', 'noteF3_1', '</simul>', '<simul>', 'noteG4_1', 'noteC5_1', 'noteE5_1', 'noteE3_1', '</simul>', '<simul>', 'noteE4_1', 'noteD5_1', 'noteC3_1', 'noteE3_1', '</simul>', '<simul>', 'noteA4_1', 'noteA5_1', 'noteA2_1', 'noteA3_1', '</simul>', '<simul>', 'noteG4_1', 'noteG5_1', 'noteG2_1', 'noteD3_1', '</simul>', '<simul>', 'noteE4_1', 'noteG4_1', 'noteB-4_1', 'noteG2_1', '</simul>', '<simul>', 'noteF5_1', 'noteA5_1', 'noteG4_1', 'noteA4_1', '</simul>', '<simul>', 'noteG5_1', 'noteC6_1', 'noteG4_1', 'noteB4_1', '</simul>', '<simul>', 'noteE5_1', 'noteG5_1', 'noteB-5_1', 'noteC#6_1', 'noteG4_1', 'noteB-4_1', 'noteD4_1', '</simul>', '<simul>', 'noteG5_3', 'noteF5_1', 'noteD6_2', 'noteB5_1', 'noteB-4_2', 'noteD4_1', 'noteD5_1', '</simul>', '<simul>', 'rest_2', 'rest_2', 'noteG5_1', 'noteG4_1', 'noteG3_1', 'noteG#4_1', '</simul>', '<simul>', 'noteC5_1', 'noteE-5_1', 'noteG5_1', 'noteE-4_1', '</simul>', '<simul>', 'noteF5_1', 'noteD5_1', 'noteD6_1', 'noteD4_1', '</simul>', '<simul>', 'noteD5_1', 'noteD6_1', 'rest_2', 'noteB-2_1', 'noteF3_1', '</simul>', '<simul>', 'noteG3_1', 'noteG4_1', 'noteG3_1', 'noteF4_1', '</simul>', '<simul>', 'noteG4_2', 'noteG5_2', 'noteE-5_2', 'noteB-5_2', 'noteG3_1', 'noteF4_1', '</simul>', '<simul>', 'noteG4_1/2', 'noteG5_1/2', '</simul>', 'noteD4_1', '<simul>', 'noteG#4_1', 'noteD5_1', 'noteF5_1', '</simul>', '<simul>', 'noteD3_1', 'noteD4_1', 'noteF4_1', '</simul>', '<simul>', 'noteB-4_1/2', 'noteB-5_1/2', 'noteG4_1']\n",
      "None\n"
     ]
    }
   ],
   "source": [
    "# this just grabs a random batch and performs on it\n",
    "for batch in validation_dataloader:\n",
    "    bleh = generate_music(model_rnn, batch[0][:4], temperature=1.0)\n",
    "    notes = [token_to_note[token] for token in bleh]\n",
    "    print(print(notes))\n",
    "    break"
   ]
  },
  {
   "cell_type": "markdown",
   "metadata": {},
   "source": [
    "# LSTM"
   ]
  },
  {
   "cell_type": "code",
   "execution_count": null,
   "metadata": {},
   "outputs": [],
   "source": []
  },
  {
   "cell_type": "markdown",
   "metadata": {},
   "source": [
    "# Transformer"
   ]
  },
  {
   "cell_type": "markdown",
   "metadata": {},
   "source": [
    "YAYYYYYYYYY Transformer Time WOOOOOOOOO"
   ]
  },
  {
   "cell_type": "code",
   "execution_count": 38,
   "metadata": {},
   "outputs": [],
   "source": [
    "#  Model variables\n",
    "d_model = 128 # Embed Dim\n",
    "n_decoder_layers = 8 # lower if not that complex and wanting speedup\n",
    "n_heads = 8 # Number of Attention Heads\n",
    "d_ff = 512 # Feed Forward Dimensionality (AIAYN paper reccomends 4 times d_model size)\n",
    "learning_rate = 1e-4 # Maybe increase?\n",
    "num_epochs = 30 # Change this later so it doesn't take 10 years to run"
   ]
  },
  {
   "cell_type": "code",
   "execution_count": 39,
   "metadata": {},
   "outputs": [],
   "source": [
    "# Standard positonal encoding used here, could also try time encoding since notes have different timestamps\n",
    "class PositionalEncoding(nn.Module):\n",
    "    def __init__(self, d_model, win_len):\n",
    "        super(PositionalEncoding, self).__init__()\n",
    "        pe = torch.zeros(win_len, d_model) # (win_len, d_model)\n",
    "        position = torch.arange(0, win_len, dtype=torch_type).unsqueeze(1) # (win_len, 1)\n",
    "        div_term = torch.exp(torch.arange(0, d_model, 2).float()*(-torch.log(torch.tensor(10000.0))/d_model)) # (d_model/2)\n",
    "        pe[:, 0::2] = torch.sin(position*div_term)\n",
    "        pe[:, 1::2] = torch.cos(position*div_term)\n",
    "        pe = pe.unsqueeze(0) # (1, win_len, d_model)\n",
    "        self.pe = pe.to(device)\n",
    "\n",
    "    def forward(self, x):\n",
    "        x = x + self.pe[:, :x.size(1), :]\n",
    "        return x\n",
    "\n",
    "\n",
    "# mask\n",
    "def generate_causal_mask(size):\n",
    "    # size should be target size\n",
    "    mask = torch.triu(torch.ones(size, size, device=device), diagonal=1)\n",
    "    mask = mask.masked_fill(mask == 1, float('-inf'))\n",
    "    '''\n",
    "    [0, -inf, -inf, -inf]\n",
    "    [0,   0,  -inf, -inf]\n",
    "    [0,   0,    0,  -inf]\n",
    "    [0,   0,    0,    0 ]\n",
    "    Yay for triangle masking\n",
    "    '''\n",
    "    return mask\n"
   ]
  },
  {
   "cell_type": "code",
   "execution_count": 40,
   "metadata": {},
   "outputs": [],
   "source": [
    "# Actual decoder\n",
    "class MusicTransformer(nn.Module):\n",
    "    def __init__(self, num_tokens, d_model=d_model, nhead=n_heads, dim_ff=d_ff, win_len=window_length, layers=n_decoder_layers):\n",
    "        super(MusicTransformer, self).__init__()\n",
    "        self.d_model = d_model\n",
    "        self.nheads = nhead\n",
    "        self.dim_ff = dim_ff\n",
    "        self.win_len = win_len\n",
    "        self.layers = layers\n",
    "\n",
    "        # pre-transformer\n",
    "        self.tok_embed = nn.Embedding(num_tokens, d_model)\n",
    "        self.pos_enc = PositionalEncoding(d_model, win_len)\n",
    "        self.out_proj = nn.Linear(d_model, num_tokens) # final projection for token prediction\n",
    "\n",
    "        # transformer part\n",
    "        decoder_layer = nn.TransformerDecoderLayer(d_model, nhead, dim_ff, batch_first=True)\n",
    "        self.decoder = nn.TransformerDecoder(decoder_layer, num_layers=self.layers)\n",
    "\n",
    "\n",
    "    def forward(self, x, tgt_mask=None):\n",
    "        '''\n",
    "        x is the tokenized notes  # (batch_size, win_len)\n",
    "        tgt_mask masks the predictions\n",
    "        '''\n",
    "\n",
    "        x_seq = self.tok_embed(x) # (batch_size, 1, d_model)\n",
    "        x_seq = self.pos_enc(x_seq) # (batch_size, 1, d_model)\n",
    "\n",
    "        decoder_output = self.decoder(x_seq, x_seq, tgt_mask=tgt_mask) # (batch_size, win_len, d_model)\n",
    "        pred = self.out_proj(decoder_output) # (batch, win_len, num_tokens) \n",
    "      \n",
    "        return pred\n",
    "\n"
   ]
  },
  {
   "cell_type": "code",
   "execution_count": null,
   "metadata": {},
   "outputs": [
    {
     "name": "stdout",
     "output_type": "stream",
     "text": [
      "Epoch: [1/30]   Epoch Average Loss: 4.703019514851187\n",
      "Validation Loss: 4.220736372059789\n",
      "Epoch: [2/30]   Epoch Average Loss: 4.0098387763418\n",
      "Validation Loss: 3.8202802394998483\n"
     ]
    }
   ],
   "source": [
    "my_mask = generate_causal_mask(window_length) # win_len by win_len mask\n",
    "\n",
    "# Create model\n",
    "num_tokens = vocab_len\n",
    "model = MusicTransformer(num_tokens, d_model, n_heads, d_ff, window_length, n_decoder_layers).to(device)\n",
    "\n",
    "# Use Adam cause he's so cool\n",
    "optimizer = Adam(model.parameters(), lr=learning_rate)\n",
    "criterion = nn.CrossEntropyLoss()\n",
    "\n",
    "transformer_train_losses = []\n",
    "transformer_valid_losses = []\n",
    "\n",
    "# Training loop\n",
    "for epoch in range(num_epochs):\n",
    "    model.train()\n",
    "    epoch_loss = 0 # cumalative loss\n",
    "\n",
    "    # Cycle through each batch\n",
    "    for batch in training_dataloader:\n",
    "        inp = batch[:, :-1] # grabs all but last\n",
    "        tgt = batch[:, 1:] # grabs all except first (shifted once)\n",
    "\n",
    "\n",
    "        optimizer.zero_grad()\n",
    "        # Pass through model\n",
    "        output = model(inp)\n",
    "        # Determine loss\n",
    "        loss = criterion(output.contiguous().view(-1, num_tokens), tgt.reshape(-1))\n",
    "        # Update weights\n",
    "        loss.backward()\n",
    "        optimizer.step()\n",
    "        # Add to epoch_loss\n",
    "        epoch_loss += loss.item()\n",
    "\n",
    "    # Now show average loss for epoch\n",
    "    avg_epoch_loss = epoch_loss / len(training_dataloader)\n",
    "    transformer_train_losses.append(avg_epoch_loss)\n",
    "    print(f\"Epoch: [{epoch+1}/{num_epochs}]   Epoch Average Loss: {avg_epoch_loss}\")\n",
    "\n",
    "\n",
    "\n",
    "    # Validation\n",
    "    model.eval()\n",
    "    valid_loss = 0 # cumalative loss\n",
    "\n",
    "    # Cycle through each batch\n",
    "    for batch in validation_dataloader:\n",
    "        inp = batch[:, :-1] # grabs all but last\n",
    "        tgt = batch[:, 1:] # grabs all except first (shifted once)\n",
    "\n",
    "        # Pass through model\n",
    "        output = model(inp)\n",
    "        # Determine loss\n",
    "        loss = criterion(output.view(-1, num_tokens), tgt.reshape(-1))\n",
    "        valid_loss += loss.item()\n",
    "    # Now show average loss for \n",
    "    avg_epoch_loss = valid_loss / len(validation_dataloader)\n",
    "    transformer_valid_losses.append(avg_epoch_loss)\n",
    "    print(f\"Validation Loss: {avg_epoch_loss}\")\n",
    "\n",
    "\n",
    "\n",
    "\n",
    "Display_Plot(train_loss=transformer_train_losses, valid_loss=transformer_valid_losses, model_name=\"Transformer Music\")"
   ]
  },
  {
   "cell_type": "code",
   "execution_count": null,
   "metadata": {},
   "outputs": [],
   "source": [
    "torch.save(model.state_dict(), \"music_transformer_model.pth\")"
   ]
  },
  {
   "cell_type": "code",
   "execution_count": null,
   "metadata": {},
   "outputs": [
    {
     "name": "stderr",
     "output_type": "stream",
     "text": [
      "/tmp/ipykernel_890141/2880647662.py:6: UserWarning: To copy construct from a tensor, it is recommended to use sourceTensor.clone().detach() or sourceTensor.clone().detach().requires_grad_(True), rather than torch.tensor(sourceTensor).\n",
      "  predicted_tokens = torch.tensor(start_tokens).clone().detach().unsqueeze(0) # (1, len(start_tokens))\n"
     ]
    },
    {
     "name": "stdout",
     "output_type": "stream",
     "text": [
      "['</simul>', '<simul>', 'noteF#5_1/3', 'noteF#6_1/3', 'noteB3_3', 'noteB4_1/2', '</simul>', '<simul>', 'noteC#5_2', 'noteF#4_2/3', 'noteC#5_2', 'noteF#4_2/3', 'noteG#4_2/3', '<simul>', 'noteB4_2/3', 'noteG#4_2/3', 'rest_1/3', 'noteC#2_1', 'noteC#4_2/3', 'noteG#4_2/3', 'noteG#4_2/3', 'noteG#4_2/3', 'noteG#4_2/3', 'noteG#4_2/3', 'noteG#4_2/3', 'noteC#5_2/3', 'noteC#4_2/3', 'noteG#4_2/3', 'noteB-4_2/3', 'noteC#4_2/3', 'noteB-4_2/3', 'noteG#4_2/3', 'noteC#5_2/3', 'noteC#4_2/3', 'noteG#4_2/3', 'noteC#5_2/3', 'noteC#4_2/3', 'noteG#4_2/3', 'noteC#5_2/3', 'noteC#4_2/3', 'noteG#4_2/3', 'noteG#4_2/3', 'noteB-4_2/3', 'noteG#4_2/3', 'noteC#4_2/3', 'noteG#4_2/3', 'noteG#4_2/3', 'noteG#4_2/3', '</simul>', '<simul>', 'noteC#4_2/3', '</simul>', '<simul>', 'noteC#4_2/3', 'noteG#4_2/3', 'noteG#4_2/3', '</simul>', '<simul>', 'noteC#4_2/3', 'noteG#4_2/3', 'noteG#4_2/3', 'noteB-4_2/3', '<simul>', 'noteC#4_2/3', '</simul>', '<simul>', 'noteC#4_2/3', '</simul>', '<simul>', 'noteG#1_1/3', '</simul>', '<simul>', 'noteE-5_2/3', 'noteC#3_2/3', '</simul>', '<simul>', 'noteC#4_2/3', '</simul>', '<simul>', 'noteC#4_2/3', '</simul>', '<simul>', 'noteC#6_2/3', '</simul>', '<simul>', 'noteG#4_2/3', '</simul>', '<simul>', 'noteC#4_2/3', '</simul>', '<simul>', 'noteC#4_2/3', '</simul>', '<simul>', 'noteC#4_2/3', '</simul>', '<simul>', 'noteG#3_2/3', 'noteE-4_2/3', '</simul>', '<simul>', 'noteC#4_2/3', '</simul>', '<simul>', 'noteG5_2/3', '</simul>', '<simul>', 'noteC#4_2/3', '</simul>', '<simul>', 'noteC#4_2/3', '</simul>', '<simul>', 'noteC#4_2/3', '</simul>', '<simul>', 'rest_1/16', '</simul>', '<simul>', 'noteC#4_2/3', '</simul>', '<simul>', 'noteE4_2/3', '</simul>', '<simul>', 'noteC#4_2/3', 'noteB-4_2/3', '</simul>', '<simul>', 'noteG#4_1/4', '</simul>', '<simul>', 'noteE4_2/3', '</simul>', '<simul>', 'noteC#4_2/3', '</simul>', '<simul>', 'noteC#4_2/3', '</simul>', '<simul>', 'noteC#4_2/3', '</simul>', '<simul>', 'noteC#4_2/3', '</simul>', '<simul>', '</simul>', '<simul>', 'noteC#4_2/3', '</simul>', '<simul>', 'noteC#4_2/3', '</simul>', '<simul>', 'noteC#4_2/3', '</simul>', '<simul>', 'noteC#4_2/3', 'noteC#5_2/3', '</simul>', '<simul>', 'noteC#4_2/3', '</simul>', '<simul>', '<simul>', '<simul>', 'noteC#4_2/3', '</simul>', '<simul>', 'rest_1', '</simul>', '<simul>', 'noteC#4_2/3', '</simul>', '<simul>', 'noteG#2_2/3', '</simul>', '<simul>', 'noteC#4_2/3', '</simul>', '<simul>', 'noteC#4_2/3', '</simul>', '<simul>', 'noteG#3_2/3', '<simul>', 'noteC#4_2/3', '</simul>', '<simul>', 'noteC#4_2/3', '</simul>', '<simul>', 'noteC#4_2/3', '</simul>', '<simul>', '<simul>', 'rest_1/2', '</simul>', '<simul>', 'noteC#6_1/2', '</simul>', '<simul>', 'noteC#6_1/2', '</simul>', '<simul>', 'rest_1/2', '</simul>', '<simul>', 'noteC#6_1/2', '</simul>', '<simul>', 'noteC#6_1/2', '</simul>', '<simul>', 'noteC#6_1/2', 'noteC#6_1/2', '</simul>', '<simul>', 'noteC#6_1/2', 'noteC#6_1/2', 'noteF6_1/2', 'noteC#6_1/2', 'noteC#6_1/2', 'noteC#6_1/2', 'noteC#6_1/2', 'noteC#6_1/2', 'noteC#6_1/2', 'noteC#6_1/2', 'noteC#6_1/2', 'noteC#6_1/2', 'noteC#6_1/2', '</simul>', '<simul>', 'noteC#6_1/2', 'noteC#6_1/2', 'noteC#6_1/2', 'noteC#6_1/2', 'noteC#6_1/2', 'noteC#6_1/2', 'noteC#6_1/2', 'noteC#6_1/2', 'noteC#6_1/2', 'noteC#6_1/2', 'noteC#6_1/2', 'noteC#6_1/2', 'noteC#6_1/2', 'noteC#6_1/2', 'noteC#6_1/2', 'noteC#6_1/2', 'noteC#6_1/2', 'noteC#6_1/2', 'noteC#6_1/2', 'noteC#6_1/2', 'noteC#6_1/2', 'noteC#6_1/2', 'noteC#6_1/2', 'noteC#6_1/2', 'noteC#6_1/2', 'noteC#6_1/2', 'noteC#6_1/2', 'noteC#6_1/2', 'noteC#6_1/2', 'noteC#6_1/2', 'noteC#6_1/2', 'noteC#6_1/2', 'noteC#6_1/2', 'noteC#6_1/2', 'noteC#6_1/2', 'noteC#6_1/2', 'noteC#6_1/2', 'noteC#6_1/2', 'noteC#6_1/2', 'noteC#6_1/2', 'noteC#6_1/2', 'noteC#6_1/2', 'noteC#6_1/2', 'noteC#6_1/2', 'noteC#6_1/2', 'noteC#6_1/2', 'noteC#6_1/2', 'noteC#6_1/2', 'noteC#6_1/2', 'noteC#6_1/2', 'noteC#6_1/2', 'noteC#6_1/2', 'noteC#6_1/2', 'noteC#6_1/2', 'noteC#6_1/2', 'noteC#6_1/2', 'noteC#6_1/2', 'noteC#6_1/2', 'noteC#6_1/2', 'noteC#6_1/2', 'noteC#6_1/2', 'noteC#6_1/2', 'noteC#6_1/2', 'noteC#6_1/2', 'noteC#6_1/2', 'noteC#6_1/2', 'noteC#6_1/2', 'noteC#6_1/2', 'noteC#6_1/2', 'noteC#6_1/2', 'noteC#6_1/2', 'noteC#6_1/2', 'noteC#6_1/2', 'noteC#6_1/2', 'noteC#6_1/2', 'noteC#6_1/2', 'noteC#6_1/2', 'noteC#6_1/2', 'noteC#6_1/2', 'noteC#6_1/2', 'noteC#6_1/2', 'noteC#6_1/2', 'noteC#6_1/2', 'noteC#6_1/2', 'noteC#6_1/2', 'noteC#6_1/2', 'noteC#6_1/2', 'noteC#6_1/2', 'noteC#6_1/2', 'noteC#6_1/2', 'noteC#6_1/2', 'noteC#6_1/2', 'noteC#6_1/2', 'noteC#6_1/2', 'noteC#6_1/2', 'noteC#6_1/2', 'noteC#6_1/2', 'noteC#6_1/2', 'noteC#6_1/2', 'noteC#6_1/2', 'noteC#6_1/2', 'noteC#6_1/2', 'noteC#6_1/2', 'noteC#6_1/2', 'noteC#6_1/2', 'noteC#6_1/2', 'noteC#6_1/2', 'noteC#6_1/2', 'noteC#6_1/2', 'noteC#6_1/2', 'noteC#6_1/2', '</simul>', 'noteC#6_1/2', 'noteC#6_1/2', 'noteC#6_1/2', 'noteD3_2/3', 'noteF#3_2/3', 'noteF#2_1/2', '</simul>', 'noteC#4_2/3', '</simul>', 'noteF#2_1', '</simul>', 'noteG#4_2/3', 'rest_1/2', 'rest_1/2', 'rest_1/2', 'rest_1/2', 'rest_1/2', 'rest_1/2', '</simul>', '<simul>', 'rest_1/2', 'rest_1/2', 'rest_1/2', 'rest_1/2', 'rest_1/2', 'rest_1/2', 'rest_1/2', 'rest_1/2', 'rest_1/2', '</simul>', 'rest_1/2', 'rest_1/2', 'rest_1/2', 'rest_1/2', 'rest_1/2', '</simul>', '<simul>', 'rest_1/2', 'rest_1/2', 'rest_1/2', 'rest_1/2', 'rest_1/2', 'rest_1/2', 'rest_1/2', 'rest_1/2', 'rest_1/2', 'rest_1/2', 'rest_1/2', 'rest_1/2', 'rest_1/2', 'rest_1/2', 'rest_1/2', 'rest_1/2', 'rest_1/2', 'rest_1/2', 'rest_1/2', 'rest_1/2', 'rest_1/2', 'rest_1/2', 'rest_1/2', 'rest_1/2', 'rest_1/2', 'rest_1/2', 'rest_1/2', 'rest_1/2', 'rest_1/2', 'rest_1/2', 'rest_1/2', 'rest_1/2', 'rest_1/2', 'rest_1/2', 'rest_1/2', 'rest_1/2', 'rest_1/2', 'rest_1/2', 'rest_1/2', 'rest_1/2', 'rest_1/2', 'rest_1/2', 'rest_1/2', 'rest_1/2', 'rest_1/2', 'rest_1/2', 'rest_1/2', 'rest_1/2', 'rest_1/2', 'rest_1/2', 'rest_1/2', 'rest_1/2', 'rest_1/2', 'rest_1/2', 'rest_1/2', 'rest_1/2', 'rest_1/2', 'rest_1/2', 'rest_1/2', 'rest_1/2', 'rest_1/2', 'rest_1/2', 'rest_1/2', 'rest_1/2', 'rest_1/2', 'rest_1/2', 'rest_1/2', 'rest_1/2', 'rest_1/2', 'rest_1/2', 'rest_1/2', 'rest_1/2', 'rest_1/2', 'rest_1/2', 'rest_1/2', 'rest_1/2', 'rest_1/2', 'rest_1/2', 'rest_1/2', 'rest_1/2', 'rest_1/2', 'rest_1/2', 'rest_1/2', 'rest_1/2', 'rest_1/2', 'rest_1/2', 'rest_1/2', 'rest_1/2', 'rest_1/2', 'rest_1/2', 'rest_1/2', 'rest_1/2', 'rest_1/2', 'rest_1/2', 'rest_1/2', 'rest_1/2', 'rest_1/2', 'rest_1/2', 'rest_1/2', 'rest_1/2', 'rest_1/2', 'rest_1/2', 'rest_1/2', 'rest_1/2', 'rest_1/2', 'rest_1/2', 'rest_1/2', 'rest_1/2', 'rest_1/2', 'rest_1/2', 'rest_1/2', 'rest_1/2', 'rest_1/2', 'rest_1/2', 'rest_1/2', 'rest_1/2', 'rest_1/2', 'rest_1/2', 'rest_1/2', 'rest_1/2', 'rest_1/2', 'rest_1/2', 'rest_1/2', 'rest_1/2', 'rest_1/2', 'rest_1/2', 'rest_1/2', 'rest_1/2', 'rest_1/2', 'rest_1/2', 'rest_1/2', 'rest_1/2', 'rest_1/2', 'rest_1/2', 'rest_1/2', 'rest_1/2', 'rest_1/2', 'rest_1/2', 'rest_1/2', 'rest_1/2', 'rest_1/2', 'rest_1/2', 'rest_1/2', 'rest_1/2', 'rest_1/2', 'rest_1/2', 'rest_1/2', 'rest_1/2', 'rest_1/2', 'rest_1/2', 'rest_1/2', 'rest_1/2', 'rest_1/2', 'rest_1/2', 'rest_1/2', 'rest_1/2', 'rest_1/2', 'rest_1/2', 'rest_1/2', 'rest_1/2', 'rest_1/2', 'rest_1/2', 'rest_1/2', 'rest_1/2', 'rest_1/2', 'rest_1/2', 'rest_1/2', 'rest_1/2', 'rest_1/2', 'rest_1/2', 'rest_1/2', 'rest_1/2', 'rest_1/2', 'rest_1/2', 'rest_1/2', 'rest_1/2', 'rest_1/2', 'rest_1/2', 'rest_1/2', 'rest_1/2', 'rest_1/2', 'rest_1/2', 'rest_1/2', 'rest_1/2', 'rest_1/2', 'rest_1/2', 'rest_1/2', 'rest_1/2', 'rest_1/2', 'rest_1/2', 'rest_1/2', 'rest_1/2', 'rest_1/2', 'rest_1/2', 'rest_1/2', 'rest_1/2', 'rest_1/2', 'rest_1/2', 'rest_1/2', 'rest_1/2', 'rest_1/2', 'rest_1/2', 'rest_1/2', 'rest_1/2', 'rest_1/2', 'rest_1/2', 'rest_1/2', 'rest_1/2', 'rest_1/2', 'rest_1/2', 'rest_1/2', 'rest_1/2', 'rest_1/2', 'rest_1/2', 'rest_1/2', 'rest_1/2', 'rest_1/2', 'rest_1/2', 'rest_1/2', 'rest_1/2', 'rest_1/2', 'rest_1/2', 'rest_1/2', 'rest_1/2', 'noteB-5_1', 'rest_1/2', 'rest_1/2', 'rest_1/2', 'rest_1/2', 'rest_1/2', 'rest_1/2', 'rest_1/2', 'rest_1/2', 'rest_1/2', 'rest_1/2', 'rest_1/2', 'rest_1/2', 'rest_1/2', 'rest_1/2', 'rest_1/2', 'rest_1/2', 'rest_1/2', 'rest_1/2', 'rest_1/2', 'rest_1/2', 'rest_1/2', 'rest_1/2', 'rest_1/2', 'rest_1/2', 'rest_1/2', 'rest_1/2', 'rest_1/2', 'rest_1/2', 'rest_1/2', 'rest_1/2', 'rest_1/2', 'rest_1/2', 'rest_1/2', 'rest_1/2', 'rest_1/2', 'rest_1/2', 'rest_1/2', 'rest_1/2', 'rest_1/2', 'rest_1/2', 'rest_1/2', 'rest_1/2', 'rest_1/2', '</simul>', 'noteB-3_1', 'rest_1/2', 'rest_1/2', 'rest_1/2', 'rest_1/2', 'rest_1/2', 'rest_1/2', 'rest_1/2', 'rest_1/2', 'rest_1/2', 'rest_1/2', 'rest_1/2', 'rest_1/2', 'rest_1/2', 'rest_1/2', 'rest_1/2', 'rest_1/2', 'rest_1/2', 'rest_1/2', '</simul>', 'noteF5_3/16', 'noteF3_2', 'rest_1/2', 'rest_1/2', 'rest_1/2', 'rest_1/2', 'rest_1/2', 'rest_1/2', 'rest_1/2', 'noteC6_2', 'rest_3/2', 'rest_1/2', 'rest_1/2', 'rest_1/2', 'rest_1/2', 'rest_1/2', 'rest_1/2', 'rest_1/2', 'rest_1/2', 'rest_1/2', '</simul>', 'noteB-5_1', 'rest_1/2', 'rest_1/2', 'rest_1/2', '</simul>', 'noteB-5_1', '</simul>', 'noteB-5_1/2', 'rest_1/2', 'rest_1/2', 'rest_1/2', 'rest_1/2', 'rest_1/2', 'rest_1/2', 'rest_1/2', 'rest_1/2', 'rest_1/2', 'rest_1/2', '</simul>', 'noteB-5_1', 'rest_1/2', '</simul>', 'noteB-5_1/2', '</simul>', 'noteB-5_1', 'noteB-5_1', 'noteB-5_1/2', 'noteB-5_1', 'rest_1/2', 'rest_1/2', '</simul>', 'noteF3_1/6', 'noteF3_2', '</simul>', 'noteF3_1/6', '</simul>', 'noteF5_3/16', '</simul>', 'noteC3_1/6', '</simul>', 'noteF3_1/6', '</simul>', 'noteB-3_1/6', '</simul>', 'noteF3_1/6', '</simul>', 'noteF3_1/6', 'noteC#3_2', '</simul>', '<simul>', 'noteC#3_1/3', '</simul>', 'noteF3_1/6', 'noteB-3_1/4', 'noteF3_1/6', 'noteF3_2', '</simul>', 'noteF3_1/6', 'noteF3_1/6', 'noteF3_1/6', '</simul>', 'noteF3_1/6', '</simul>', 'noteF3_1/6', 'noteF3_1/6', 'noteF3_1/6', '</simul>', 'noteF3_1/6', '</simul>', 'noteF3_1/6', '</simul>', 'noteF3_1/6', '</simul>', 'noteF3_1/6', 'rest_1/2', 'rest_1/2', 'rest_1/2', 'rest_1/2', 'rest_1/2', 'rest_1/2', 'rest_1/2', 'rest_1/2', 'rest_1/2', 'rest_1/2', 'rest_1/2', 'rest_1/2', 'rest_1/2', 'rest_1/2', 'rest_1/2', 'rest_1/2', 'rest_1/2', 'rest_1/2', 'rest_1/2', 'rest_1/2', 'rest_1/2', 'rest_1/2', 'rest_1/2', 'rest_1/2', 'rest_1/2', 'rest_1/2', 'rest_1/2', 'rest_1/2', 'rest_1/2', 'rest_1/2', 'rest_1/2', 'rest_1/2', 'rest_1/2', 'rest_1/2', 'rest_1/2', 'rest_1/2', 'rest_1/2', 'rest_1/2', 'rest_1/2', 'rest_1/2', 'rest_1/2', 'rest_1/2', 'rest_1/2', 'rest_1/2', 'rest_1/2', 'rest_1/2', 'rest_1/2', 'rest_1/2', 'rest_1/2', 'rest_1/2', 'rest_1/2', 'rest_1/2', 'rest_1/2', 'rest_1/2', 'rest_1/2', 'rest_1/2', 'rest_1/2', 'rest_1/2', 'rest_1/2', 'rest_1/2', 'rest_1/2', 'rest_1/2', 'rest_1/2', 'rest_1/2', 'rest_1/2', 'rest_1/2', 'rest_1/2', 'rest_1/2', 'rest_1/2', 'rest_1/2', 'rest_1/2', 'rest_1/2', 'rest_1/2', 'rest_1/2', 'rest_1/2', 'rest_1/2', 'rest_1/2', 'rest_1/2', 'rest_1/2', 'rest_1/2', 'rest_1/2', 'rest_1/2', 'rest_1/2', 'rest_1/2', 'rest_1/2', 'rest_1/2', 'rest_1/2', 'rest_1/2', 'rest_1/2', 'rest_1/2', 'rest_1/2', 'rest_1/2', 'rest_1/2', 'rest_1/2', 'rest_1/2', 'rest_1/2', 'rest_1/2', 'rest_1/2', 'rest_1/2', 'rest_1/2', 'rest_1/2', 'rest_1/2', 'rest_1/2', 'rest_1/2', 'rest_1/2', 'rest_1/2', 'rest_1/2', 'rest_1/2', 'rest_1/2', 'rest_1/2', 'rest_1/2', 'rest_1/2', 'rest_1/2', 'rest_1/2', 'rest_1/2', 'rest_1/2', 'rest_1/2', 'rest_1/2', 'rest_1/2', 'rest_1/2', 'rest_1/2', 'rest_1/2', 'rest_1/2', 'rest_1/2', 'rest_1/2', 'rest_1/2', 'rest_1/2', 'rest_1/2', 'rest_1/2', 'rest_1/2', 'rest_1/2', 'rest_1/2', 'rest_1/2', 'rest_1/2', 'rest_1/2', 'rest_1/2', 'rest_1/2', 'rest_1/2', 'rest_1/2', 'rest_1/2', 'rest_1/2', 'rest_1/2', 'rest_1/2', 'rest_1/2', 'rest_1/2', 'rest_1/2', 'rest_1/2', 'rest_1/2', 'rest_1/2', 'rest_1/2', 'rest_1/2', 'rest_1/2', 'rest_1/2', 'rest_1/2', 'rest_1/2', 'rest_1/2', 'rest_1/2', 'rest_1/2', 'rest_1/2', 'rest_1/2', 'rest_1/2', 'rest_1/2', 'rest_1/2', 'rest_1/2', 'rest_1/2', 'rest_1/2', 'rest_1/2', 'rest_1/2', 'rest_1/2', 'rest_1/2', 'rest_1/2', 'rest_1/2', 'rest_1/2', 'rest_1/2', 'rest_1/2', 'rest_1/2', 'rest_1/2', 'rest_1/2', 'rest_1/2', 'rest_1/2', 'rest_1/2', 'rest_1/2', 'rest_1/2', 'rest_1/2', 'rest_1/2', 'rest_1/2', 'rest_1/2', 'rest_1/2', 'rest_1/2', 'rest_1/2', 'rest_1/2', 'rest_1/2', 'rest_1/2', 'rest_1/2', 'rest_1/2', 'rest_1/2', 'rest_1/2', 'rest_1/2', 'rest_1/2', 'rest_1/2', 'rest_1/2', 'rest_1/2', 'rest_1/2', 'rest_1/2', 'rest_1/2', 'rest_1/2', 'rest_1/2', 'rest_1/2', 'rest_1/2', 'rest_1/2', 'rest_1/2', 'rest_1/2', 'rest_1/2', 'rest_1/2', 'rest_1/2', 'rest_1/2', 'rest_1/2', 'rest_1/2', 'rest_1/2', 'rest_1/2', 'rest_1/2', 'rest_1/2', 'rest_1/2', 'rest_1/2', 'rest_1/2', 'rest_1/2', 'rest_1/2', 'rest_1/2', 'rest_1/2', 'rest_1/2', 'rest_1/2', 'rest_1/2', 'rest_1/2', 'rest_1/2', 'rest_1/2', 'rest_1/2', 'rest_1/2', 'rest_1/2', 'rest_1/2', 'rest_1/2', 'rest_1/2', 'rest_1/2', 'rest_1/2', 'rest_1/2', 'rest_1/2', 'rest_1/2', 'rest_1/2', 'rest_1/2', 'noteB4_1/2', 'rest_1/2', 'rest_1/2', 'rest_1/2', 'noteE-3_1', '</simul>', 'rest_1/2', 'rest_1/2', 'rest_1/2', 'rest_1/2', 'rest_1/2', 'rest_1/2', 'rest_1/2']\n",
      "None\n"
     ]
    }
   ],
   "source": [
    "# this just grabs a random batch and performs on it\n",
    "for batch in validation_dataloader:\n",
    "    bleh = generate_music(model, batch[0][:4], temperature=1.0)\n",
    "    notes = [token_to_note[token] for token in bleh]\n",
    "    print(print(notes))\n",
    "    break"
   ]
  },
  {
   "cell_type": "markdown",
   "metadata": {},
   "source": [
    "# Comparisons and Insights"
   ]
  },
  {
   "cell_type": "markdown",
   "metadata": {},
   "source": [
    "When starting this project, we assumed that the Transformer model would perform the best; it's ability to scale and use attention should (in theory) perform much better for music data than the simpler RNN or LSTM. However, we found that the performance increase was not incredible, especially after adapting the model architecture of them all. We believe this might be due to a lack of data, as well as our tokenization methods keeping the note and length together. Future work might divide these into individual tokens, and apply a different encoding technique so that the transformer has more to work with.\n",
    "\n",
    "For the RNN, the losses start at 4, and it eventually goes down to 1.6. We had to change the architecture a lot, but we did not see a lot of overfitting.\n",
    "\n",
    "For the transformer, the losses started out decently high (4.5) but fell very quickly. Despite using the standard dropout, 0.1, we did not observe much overfitting. The validation loss stayed under the training loss the entire time. Notably, the model continued to perform well even after epoch 20, so we increased the amount of epochs to 30, after which the model performance started tapering off. Final validation loss was around 1.34."
   ]
  }
 ],
 "metadata": {
  "kernelspec": {
   "display_name": "base",
   "language": "python",
   "name": "python3"
  },
  "language_info": {
   "codemirror_mode": {
    "name": "ipython",
    "version": 3
   },
   "file_extension": ".py",
   "mimetype": "text/x-python",
   "name": "python",
   "nbconvert_exporter": "python",
   "pygments_lexer": "ipython3",
   "version": "3.11.5"
  }
 },
 "nbformat": 4,
 "nbformat_minor": 2
}
