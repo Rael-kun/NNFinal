{
 "cells": [
  {
   "cell_type": "markdown",
   "metadata": {},
   "source": [
    "# Libraries"
   ]
  },
  {
   "cell_type": "code",
   "execution_count": 2,
   "metadata": {},
   "outputs": [
    {
     "name": "stdout",
     "output_type": "stream",
     "text": [
      "Using device: cuda\n"
     ]
    }
   ],
   "source": [
    "import torch\n",
    "import torch.nn as nn\n",
    "from torch.utils.data import DataLoader, TensorDataset, Dataset, random_split\n",
    "from torch.optim import Adam\n",
    "import torch.nn.functional as F\n",
    "import numpy as np\n",
    "\n",
    "# for teacher\n",
    "import random\n",
    "\n",
    "from sklearn.model_selection import train_test_split\n",
    "\n",
    "# Side variables\n",
    "device = torch.device('cuda' if torch.cuda.is_available() else 'cpu')\n",
    "print(f\"Using device: {device}\")\n",
    "base_type = np.float32\n",
    "torch_type = torch.float32\n",
    "batch_size = 32\n",
    "window_length = 1024 # Data points will hold 1024 tokens of observations (should be 1/4 average song length in tokens, remember to remove outliers)\n",
    "window_step_size = 32 # Sliding window will move this much each time (higher numbers means less data, but less overfitting to similar data)\n"
   ]
  },
  {
   "cell_type": "markdown",
   "metadata": {},
   "source": [
    "# Load Data / Tokenize"
   ]
  },
  {
   "cell_type": "code",
   "execution_count": 3,
   "metadata": {},
   "outputs": [
    {
     "name": "stdout",
     "output_type": "stream",
     "text": [
      "['<simul>', 'rest_1/2', 'noteD3_1/2', '</simul>', '<simul>']\n"
     ]
    }
   ],
   "source": [
    "# load\n",
    "data = []\n",
    "with open(\"./out.txt\", \"r\") as file:\n",
    "    data = file.read().splitlines()\n",
    "\n",
    "print(data[5:10])"
   ]
  },
  {
   "cell_type": "code",
   "execution_count": 4,
   "metadata": {},
   "outputs": [
    {
     "name": "stdout",
     "output_type": "stream",
     "text": [
      "4195\n"
     ]
    }
   ],
   "source": [
    "# now tokenize\n",
    "unique_tokens = set(list(data) + [\"PAD\"])\n",
    "print(len(unique_tokens))\n",
    "# mapping\n",
    "note_to_token = {note: idx for idx, note in enumerate(unique_tokens)}\n",
    "token_to_note = {idx: note for note, idx in note_to_token.items()}\n"
   ]
  },
  {
   "cell_type": "markdown",
   "metadata": {},
   "source": [
    "# Data Preprocessing"
   ]
  },
  {
   "cell_type": "code",
   "execution_count": 4,
   "metadata": {},
   "outputs": [
    {
     "name": "stdout",
     "output_type": "stream",
     "text": [
      "595\n",
      "3983\n"
     ]
    }
   ],
   "source": [
    "end_token = note_to_token[\"<end_song>\"]\n",
    "pad_token = note_to_token[\"PAD\"]\n",
    "print(end_token)\n",
    "print(pad_token)"
   ]
  },
  {
   "cell_type": "code",
   "execution_count": 5,
   "metadata": {},
   "outputs": [],
   "source": [
    "data_inp = [note_to_token[tok] for tok in data]\n",
    "\n",
    "\n",
    "# Assume already tokenized (this is for transformer, must be adapted for other models)\n",
    "class MusicDataset(Dataset):\n",
    "    def __init__(self, data, window_length, step_size):\n",
    "        self.temp_data = data\n",
    "        self.window_length = window_length\n",
    "        self.step_size = step_size\n",
    "        self.final_data = self.apply_window()\n",
    "\n",
    "    def apply_window(self):\n",
    "        train_examples = []\n",
    "        song_data = []\n",
    "        cur_seq = []\n",
    "\n",
    "        # first split data by songs\n",
    "        for tok in self.temp_data:\n",
    "            cur_seq.append(tok)\n",
    "            if(tok == end_token):\n",
    "                song_data.append(cur_seq)\n",
    "                cur_seq = []\n",
    "        \n",
    "        # then apply sliding windows\n",
    "        for song in song_data:\n",
    "            idx = 0\n",
    "            # create sliding windows\n",
    "            for start_idx in range(0, len(song) - self.window_length + 1, self.step_size):\n",
    "                end_idx = start_idx + self.window_length\n",
    "                idx = end_idx # store most recent end_idx\n",
    "                train_example = song[start_idx:end_idx] # training of length window_length\n",
    "                train_examples.append(train_example)\n",
    "            \n",
    "            # now add ending and pad (so model can learn how to finish predicting)\n",
    "            train_example = song[idx:]\n",
    "            train_example += [0] * (self.window_length - len(train_example))\n",
    "            train_examples.append(train_example)\n",
    "\n",
    "\n",
    "        return train_examples\n",
    "\n",
    "    #def apply_window(self):\n",
    "    #    # return sliding window data + labels\n",
    "    #    train_examples = []\n",
    "    #    # cycle through each window configuration, calculating start index and end index\n",
    "    #    for start_idx in range(0, len(self.temp_data) - self.window_length + 1, self.step_size):\n",
    "    #        end_idx = start_idx + self.window_length\n",
    "    #        train_example = self.temp_data[start_idx:end_idx] # training of length window_length\n",
    "    #        train_examples.append(train_example)\n",
    "    #        \n",
    "    #    return train_examples\n",
    "    \n",
    "                \n",
    "\n",
    "    def __len__(self):\n",
    "        return len(self.final_data)\n",
    "\n",
    "    def __getitem__(self, idx):\n",
    "        window = self.final_data[idx]\n",
    "\n",
    "        return torch.tensor(window).to(device)\n",
    "    \n",
    "\n",
    "dataset = MusicDataset(data_inp, window_length, window_step_size)\n",
    "\n",
    "train_size = int(0.8 * len(dataset))\n",
    "val_size = len(dataset) - train_size\n",
    "\n",
    "train_dataset, val_dataset = random_split(dataset, [train_size, val_size])\n",
    "\n",
    "training_dataloader = DataLoader(train_dataset, batch_size=batch_size, shuffle=True)\n",
    "validation_dataloader = DataLoader(val_dataset, batch_size=batch_size, shuffle=False)\n",
    "\n",
    "vocab_len = len(unique_tokens)\n"
   ]
  },
  {
   "cell_type": "code",
   "execution_count": 6,
   "metadata": {},
   "outputs": [],
   "source": [
    "# generate music\n",
    "# for now, generate a fixed length, if we add start and end tokens then we can also do that\n",
    "def generate_music(model, start_tokens, temperature=1.0, num_to_generate=window_length):\n",
    "    model.eval()\n",
    "\n",
    "    predicted_tokens = torch.tensor(start_tokens).clone().detach().unsqueeze(0) # (1, len(start_tokens))\n",
    "    # iteratively predict then add to start_tokens\n",
    "    for i in range(num_to_generate):\n",
    "        with torch.no_grad():\n",
    "            # grab most recent tokens\n",
    "            logits = model(predicted_tokens[:, -(window_length):]) # (1, len(predicted_tokens), num_tokens)\n",
    "            logits = logits[:, -1, :] # grabs last token \n",
    "            probs = torch.softmax(logits / temperature, dim=-1) # (1, num_tokens)\n",
    "            pred_token = torch.multinomial(probs, num_samples=1) # (1, 1)\n",
    "\n",
    "        predicted_tokens = torch.cat([predicted_tokens, pred_token], dim=1) # (1, len(current sequence length))\n",
    "\n",
    "    return predicted_tokens.squeeze(0).tolist()\n"
   ]
  },
  {
   "cell_type": "code",
   "execution_count": 7,
   "metadata": {},
   "outputs": [],
   "source": [
    "from matplotlib import pyplot as plt\n",
    "def Display_Plot(train_loss, valid_loss, model_name):\n",
    "    # Get error metrics\n",
    "    train_err = np.array(train_loss)\n",
    "    val_err = np.array(valid_loss)\n",
    "    # Plot training and test errors\n",
    "    plt.figure(figsize=(8, 6))\n",
    "    plt.plot(range(1, len(train_err) + 1), train_err, label=\"train_loss\", color=\"red\", linewidth=2)\n",
    "    plt.plot(range(1, len(val_err) + 1), val_err, label=\"val_loss\", color=\"green\", linewidth=2)\n",
    "\n",
    "    plt.xlabel(\"Epochs\")\n",
    "    plt.ylabel(\"Losses\")\n",
    "    plt.title(model_name)\n",
    "    plt.legend()\n",
    "\n",
    "    plt.show()"
   ]
  },
  {
   "cell_type": "markdown",
   "metadata": {},
   "source": [
    "# RNN"
   ]
  },
  {
   "cell_type": "code",
   "execution_count": 14,
   "metadata": {},
   "outputs": [],
   "source": [
    "# RNN Variables\n",
    "input_size = 256\n",
    "hidden_size = 512 # larger embed size may require larger dropout\n",
    "dropout = 0.2\n",
    "lr = 1e-4\n",
    "epochs = 20"
   ]
  },
  {
   "cell_type": "code",
   "execution_count": 15,
   "metadata": {},
   "outputs": [],
   "source": [
    "class Music_RNN(nn.Module):\n",
    "    def __init__(self, vocab_len, input_size, hidden_size, dropout):\n",
    "        super(Music_RNN, self).__init__()\n",
    "        self.embed = nn.Embedding(vocab_len, input_size)\n",
    "        self.RNN = nn.RNN(input_size, hidden_size, batch_first=True, num_layers=2, dropout=dropout)\n",
    "        self.layernorm = nn.LayerNorm(hidden_size)\n",
    "        self.drop = nn.Dropout(dropout)\n",
    "        self.ff = nn.Linear(hidden_size, vocab_len) # predicting next input autoregressively\n",
    "\n",
    "    def forward(self, x):\n",
    "        # x should be (batch_size, seq_len)\n",
    "        x = self.embed(x) # (batch_size, seq_len, input_size)\n",
    "        x, _ = self.RNN(x) # (batch_size, seq_len, hidden_size)\n",
    "        x = self.layernorm(x)\n",
    "        x = self.drop(x)\n",
    "        x_pred = self.ff(x) # batch_size, seq_len, vocab_len)\n",
    "\n",
    "        return x_pred "
   ]
  },
  {
   "cell_type": "code",
   "execution_count": 16,
   "metadata": {},
   "outputs": [],
   "source": [
    "model_rnn = Music_RNN(vocab_len, input_size, hidden_size, dropout).to(device)"
   ]
  },
  {
   "cell_type": "code",
   "execution_count": null,
   "metadata": {},
   "outputs": [
    {
     "name": "stdout",
     "output_type": "stream",
     "text": [
      "Epoch: 0, Loss: 3.9345018919285812\n",
      "Validation loss: 3.1780834710875223\n",
      "Epoch: 1, Loss: 3.0181748175412504\n",
      "Validation loss: 2.7481323951898617\n",
      "Epoch: 2, Loss: 2.7412663263760226\n",
      "Validation loss: 2.5505862845930944\n"
     ]
    }
   ],
   "source": [
    "# adapt loss and optimizer as needed\n",
    "criterion = nn.CrossEntropyLoss()\n",
    "optimizer = Adam(model_rnn.parameters(), lr=lr)\n",
    "\n",
    "train_losses = []\n",
    "valid_losses = []\n",
    "\n",
    "# train\n",
    "for epoch in range(epochs):\n",
    "    # Set to train\n",
    "    model_rnn.train()\n",
    "    # keep cumalitive losses\n",
    "    total_losses = 0.0\n",
    "\n",
    "    for batch in training_dataloader:\n",
    "        inp = batch[:, :-1] # grabs all but last\n",
    "        tgt = batch[:, 1:] # grabs all except first (shifted once)\n",
    "\n",
    "        optimizer.zero_grad()\n",
    "\n",
    "        preds = model_rnn.forward(inp) # make sure dimensions line up\n",
    "\n",
    "        loss = criterion(preds.view(-1, vocab_len), tgt.reshape(-1))\n",
    "        loss.backward()\n",
    "\n",
    "        optimizer.step()\n",
    "\n",
    "        total_losses += loss.item()\n",
    "\n",
    "    train_losses.append(total_losses / len(training_dataloader))\n",
    "    print(f\"Epoch: {epoch}, Loss: {total_losses / len(training_dataloader)}\")\n",
    "\n",
    "\n",
    "    # Validation\n",
    "    model_rnn.eval()\n",
    "\n",
    "    total_valid_losses = 0.0\n",
    "\n",
    "    with torch.no_grad():\n",
    "        for batch in validation_dataloader:\n",
    "            inp = batch[:, :-1] # grabs all but last\n",
    "            tgt = batch[:, 1:] # grabs all except first (shifted once)\n",
    "\n",
    "            preds = model_rnn.forward(inp) # make sure dimensions line up\n",
    "\n",
    "            loss = criterion(preds.view(-1, vocab_len), tgt.reshape(-1))\n",
    "            total_valid_losses += loss.item()\n",
    "\n",
    "    valid_losses.append(total_valid_losses / len(validation_dataloader))\n",
    "    print(f\"Validation loss: {total_valid_losses / len(validation_dataloader)}\")\n",
    "\n",
    "\n",
    "Display_Plot(train_loss=train_losses, valid_loss=valid_losses, model_name=\"RNN Music\")\n"
   ]
  },
  {
   "cell_type": "code",
   "execution_count": 12,
   "metadata": {},
   "outputs": [
    {
     "name": "stderr",
     "output_type": "stream",
     "text": [
      "/tmp/ipykernel_867693/2880647662.py:6: UserWarning: To copy construct from a tensor, it is recommended to use sourceTensor.clone().detach() or sourceTensor.clone().detach().requires_grad_(True), rather than torch.tensor(sourceTensor).\n",
      "  predicted_tokens = torch.tensor(start_tokens).clone().detach().unsqueeze(0) # (1, len(start_tokens))\n"
     ]
    },
    {
     "name": "stdout",
     "output_type": "stream",
     "text": [
      "['<simul>', 'noteG4_1/4', 'noteG3_1/2', '</simul>', '<simul>', 'noteC5_3/8', 'noteA3_1/2', '</simul>', '<simul>', 'noteC5_1/2', 'noteF3_1/2', '</simul>', '<simul>', 'noteG3_1/2', 'noteC4_1/2', '</simul>', '<simul>', 'noteC#3_1/2', 'noteG3_1/2', '</simul>', '<simul>', 'noteF#4_1/2', 'noteF#3_1/2', '</simul>', '<simul>', 'noteC5_1/2', 'noteC4_1/2', '</simul>', 'noteE4_1/4', '<simul>', 'noteG4_1/2', 'noteD3_1/2', '</simul>', 'noteE5_1/2', '<simul>', 'noteB4_1/2', 'noteC5_1/2', 'rest_5/2', '</simul>', '<simul>', 'noteF#5_2', 'noteE-4_1/2', '</simul>', 'noteC#5_1/4', '<simul>', 'noteE-6_1/4', 'rest_1', '</simul>', 'noteC#6_1/4', '<simul>', 'noteC6_1/4', 'noteD6_1/4', '</simul>', 'noteE-5_1/4', '<simul>', 'noteE-6_1/4', 'noteD5_1/2', '</simul>', '</simul>', '<simul>', 'noteA5_1/4', 'noteE5_1/4', 'noteE6_1/4', '</simul>', '<simul>', 'noteG5_1/4', 'noteA4_1/4', 'noteA3_1/4', '</simul>', '<simul>', 'noteF4_1/8', 'noteE5_1/4', 'noteB4_1/4', '</simul>', '<simul>', 'noteC6_1/4', 'rest_1/4', '</simul>', '<simul>', 'noteE-5_1/6', 'noteB-6_1/2', 'noteF#3_1/2', 'noteC4_1/2', '</simul>', '<simul>', 'noteG5_1/4', 'noteC6_1/4', 'rest_1', '</simul>', '<simul>', 'noteE-6_1/4', 'noteC6_1/4', '</simul>', '<simul>', 'noteG#5_1', 'noteF5_1/4', '</simul>', '<simul>', 'noteD6_1/4', 'noteC#6_1/4', '</simul>', '<simul>', 'noteD6_1/2', 'noteA3_1/2', 'noteA4_1/2', 'noteE3_1/2', '</simul>', 'noteF4_1/4', '<simul>', 'noteC6_1/4', 'noteF4_1/4', '</simul>', '<simul>', 'noteD5_1/4', 'noteD4_1/4', '</simul>', '<simul>', 'noteB-4_1/4', 'noteE4_1/4', '</simul>', '<simul>', 'noteD5_1/4', 'noteB4_1/4', '</simul>', '<simul>', 'noteC5_1/4', 'noteG#3_1/4', '</simul>', '<simul>', 'noteF#5_1/4', 'noteF4_1/4', 'noteF3_1/4', '</simul>', '<simul>', 'noteE5_1/4', 'noteG4_1/4', 'noteE-4_1/4', '</simul>', '<simul>', 'noteE-3_1/8', 'noteC#4_1/4', '</simul>', '<simul>', 'noteC4_1/4', 'noteF3_1/4', '</simul>', '<simul>', 'noteB-1_1/4', 'noteC4_1/4', '</simul>', '<simul>', 'noteG#4_1/2', 'noteC2_3/2', 'noteA3_1/4', '</simul>', '<simul>', 'noteA3_1/4', 'noteG#2_1/4', '</simul>', '<simul>', 'noteB3_1/2', 'noteF4_1/2', 'noteB-3_1/2', '</simul>', '<simul>', 'noteG#4_1/4', 'noteF4_1/4', '</simul>', '<simul>', 'noteB4_1/4', 'noteF4_1/4', '</simul>', '<simul>', 'noteF#4_1/4', 'noteB3_1/4', 'noteG3_2', '</simul>', 'noteG#5_1/8', '<simul>', 'noteE-4_1/4', 'noteB-4_1/4', '</simul>', 'noteF4_1/4', '<simul>', 'noteC4_1/4', 'noteA3_1/2', '</simul>', 'noteB4_1/4', 'noteB3_1/4', '<simul>', 'noteC#4_1/4', 'noteB-3_1/4', '</simul>', 'noteE5_1/4', 'noteE4_1/4', 'noteE2_1/4', 'noteE3_1/4', '<simul>', 'noteE4_1', 'noteA4_1', 'noteC3_1', 'noteF#3_1', 'noteC4_1', 'noteE4_1', '</simul>', '<simul>', 'rest_11/8', 'noteC#4_1/2', 'noteA4_1/8', '</simul>', 'noteG#4_1/4', 'noteC5_1/4', 'noteC4_1/4', 'noteC#4_1/4', 'noteF#4_1/4', '<simul>', 'noteE4_1/4', 'noteC#3_1/2', 'noteG4_1/2', 'noteC5_1/2', '</simul>', 'noteE-4_1/4', '<simul>', 'noteE4_1/4', 'noteC4_1/4', '</simul>', 'noteF4_1/4', '<simul>', 'noteG3_1/4', 'noteC2_1/2', '</simul>', 'noteC4_1/4', '<simul>', 'noteF#4_1/4', 'noteA4_1/4', '</simul>', '<simul>', 'noteC5_1/4', 'rest_4', '</simul>', 'noteG3_1/4', '<simul>', 'noteC4_1/4', 'noteG#3_1', '</simul>', 'noteG3_1/4', 'noteB-2_1/4', 'noteB-3_1/4', 'noteC#4_1/4', '<simul>', '</simul>', '<simul>', 'noteE5_1', 'noteE6_1', 'noteB3_1', 'noteD4_1', 'noteG4_1', '</simul>', 'noteD5_1/4', 'noteF4_1/4', '<simul>', 'noteD5_1/4', 'noteF4_1/4', 'noteE5_3/8', 'noteC2_1/4', '</simul>', 'noteA4_1/4', 'noteA5_1/4', '<simul>', 'noteF#5_3/2', 'noteG1_4', '</simul>', 'noteC3_1/4', 'noteB-3_53/480', 'noteC4_1/4', 'noteC6_1/4', 'noteG3_1/4', 'noteE3_1/4', 'noteB-3_1/4', 'noteG#3_1/4', 'noteF4_1/4', '<simul>', 'noteD2_1/4', 'noteF#2_1/4', 'noteF2_1/4', '</simul>', 'noteC2_1/4', '<simul>', 'noteE-7_1/8', 'noteE-3_1/4', '</simul>', 'noteC#3_1/4', '<simul>', 'rest_1/2', 'noteE3_1/4', '</simul>', 'noteB3_1/4', '<simul>', 'noteD4_1/4', 'noteF1_1/4', '</simul>', '<simul>', 'noteF5_1/4', 'noteC4_1/4', '</simul>', 'noteA3_1/4', '<simul>', 'noteF4_1/4', 'noteG3_1/4', '</simul>', 'noteG2_1/4', 'noteG3_1/4', 'noteG#3_1/4', 'noteC4_1/4', '<simul>', 'noteD4_1/4', 'noteF5_1/2', 'noteG5_1/2', 'noteC3_1/4', '</simul>', '<simul>', 'noteB3_1/4', 'noteE3_1/4', '</simul>', '<simul>', 'noteA3_1/4', 'noteB-2_1/4', '</simul>', '<simul>', 'noteG4_1/4', 'noteE-4_1/4', '</simul>', '<simul>', 'noteE4_1/4', 'noteA4_1/4', '</simul>', '<simul>', 'noteG#4_1/4', 'noteF3_1/4', '</simul>', '<simul>', 'noteG5_1/4', 'noteF#4_1/4', 'noteD3_1/4', '</simul>', 'noteD4_1/4', '<simul>', 'noteB4_3/4', 'noteA4_3/2', 'noteC3_1/4', 'noteB3_3/4', '</simul>', 'noteG2_1/4', 'noteA3_1/4', 'noteG3_1/4', '<simul>', 'noteG4_1/4', 'noteE-3_1/4', '</simul>', 'noteC4_1/4', 'noteF3_1/4', 'noteG#3_1/4', '<simul>', 'noteA4_1/2', 'noteC5_1/2', 'noteE4_1/4', '</simul>', 'noteC4_1/4', 'noteC#4_1/2', '<simul>', 'noteB-4_1/2', 'noteB-3_1/2', 'noteE5_1/2', '</simul>', '<simul>', 'noteC#5_3', 'rest_7/8', 'noteD2_1/2', 'noteF4_1', '</simul>', 'noteC5_1/4', '<simul>', 'noteB3_1/4', 'noteB3_1/2', '</simul>', 'noteE4_1/4', '<simul>', 'noteE4_1/2', 'noteE3_1/2', '</simul>', 'noteG#4_1/4', '<simul>', 'noteC#5_1/4', 'noteB-1_1/2', '</simul>', 'noteC#5_1/4', '<simul>', 'noteB4_1/4', 'noteE-3_1/2', '</simul>', 'noteE-4_1/4', '<simul>', 'noteE-4_1/2', 'noteE-5_1/2', '</simul>', '<simul>', 'noteC5_1/4', 'noteG4_1/2', '</simul>', 'rest_1/4', '<simul>', 'noteB4_1/4', 'noteF4_1', 'noteE-4_1/4', 'noteF#3_1/2', '</simul>', 'noteE4_1/4', '<simul>', 'noteG#4_1/4', 'noteE-4_3/4', 'noteB-4_1/4', 'noteF#3_3/2', 'noteF4_1/4', '</simul>', 'noteC#4_1/4', '<simul>', 'noteG4_1/4', 'noteE3_1/2', 'noteG3_1/2', 'noteF4_1/2', '</simul>', 'noteF4_1/4', '<simul>', 'noteC5_1/4', 'rest_1/2', '</simul>', 'noteG#4_1/4', '<simul>', 'noteB-4_1/4', 'rest_1/2', '</simul>', 'noteE4_1/4', 'noteC5_1/4', 'noteE5_1/4', '<simul>', 'rest_1/2', 'noteF2_1', 'noteA3_1', '</simul>', 'noteE-4_1/4', '<simul>', 'noteB-3_1/2', 'noteB-4_1/2', '</simul>', '<simul>', 'noteF4_1/4', 'rest_1/2', '</simul>', 'noteA4_1/4', 'noteA5_1/4', 'noteC5_1/4', '<simul>', 'noteB-4_1/8', 'noteG#5_1/2', 'noteB-2_1/2', 'noteB3_1/4', 'noteE3_1/4', '</simul>', '<simul>', 'noteE-3_1/2', 'noteD4_1/4', '</simul>', '<simul>', 'noteB3_1/4', 'noteG#4_1/4', '</simul>', '<simul>', 'noteF3_1', 'rest_1', '</simul>', 'noteF#4_1/2', 'noteC4_1/4', 'noteE4_1/4', '<simul>', 'rest_1/4', 'noteF3_1', 'noteA3_1', '</simul>', '<simul>', 'rest_1/4', 'noteA2_1/4', 'noteD4_1/4', 'noteF4_1/4', '</simul>', '<simul>', 'noteC#5_1/4', 'noteA3_1/4', 'noteF#2_1/2', '<simul>', 'noteG#4_1', 'rest_2', 'noteF3_1', 'noteA4_2', '</simul>', 'noteF#4_1/4', 'noteD1_1/4', 'noteB2_1/4', '<simul>', 'noteF3_1/4', 'noteC#2_1/2', '</simul>', 'noteE-2_1/4', 'noteE-4_1/4', 'noteG4_1/4', '<simul>', 'noteG3_1/4', 'noteC3_1/2', '</simul>', 'noteG3_1/4', 'noteF4_1/4', 'noteC#3_1/4', 'noteB-3_1/4', '<simul>', 'noteC5_1/2', 'noteC#2_1/4', 'noteE3_1/4', 'noteF#3_1/4', '</simul>', 'noteE-4_1/4', '<simul>', 'noteE-4_1/4', 'rest_1/2', '</simul>', '<simul>', 'noteB3_1/2', 'noteD4_1/2', 'noteG4_1/2', 'noteE2_1/2', 'noteE3_1/2', '</simul>', '<simul>', 'noteC4_1/4', 'noteC3_1/2', '</simul>', '<simul>', 'noteF5_1/4', 'noteD3_1/4', '</simul>', '<simul>', 'noteF5_1/2', 'noteF2_1/2', 'noteE-3_1/2', '</simul>', 'noteE5_1/4', '<simul>', 'noteG3_1/4', 'noteE-3_1/2', 'noteB-3_1/2', 'noteE-4_1', '</simul>', 'noteB4_1/4', '<simul>', 'noteG4_1/4', 'noteB-2_1/2', '</simul>', 'noteF4_1/4', '<simul>', 'noteB4_1/4', 'noteF3_1', '</simul>', 'noteF#4_1/4', 'noteG#4_1/4', 'noteE-5_1/4', '<simul>', 'noteE-5_1/4', 'noteB-4_1/4', 'rest_1', 'noteB-3_3/2', 'noteB-3_1/2', '</simul>', 'noteE-6_1/4', '<simul>', 'noteB4_1/4', 'noteE2_1/2', 'noteB3_1/2', '</simul>', 'noteB4_1/4', '<simul>', 'noteB4_1/4', 'noteG#2_1/2', 'noteC#3_1/2', 'noteC2_1/2', 'noteC3_1/2', '</simul>', '<simul>', 'noteD5_1/4', 'rest_1/2', '</simul>', 'noteE5_1/4', '<simul>', 'noteD6_0', 'noteC#4_1', 'noteF4_1', 'noteG#4_1', 'noteB-4_1', '</simul>', 'noteB-4_1/6', 'noteB-3_1/4', '<simul>', 'rest_1/2', 'noteC3_1', '</simul>', 'noteC#5_1/2', 'noteB-5_1/2', '<simul>', 'noteG5_1/2', 'rest_1', '</simul>', 'noteC#5_1/8', 'noteE1_1/4', '<simul>', 'noteF5_1', 'noteB3_1/2', '</simul>', '<simul>', 'rest_1', 'noteB-3_1/2', '</simul>', '<simul>', 'noteD5_1/2', 'noteA3_1/2', '</simul>', 'noteB4_1/4', '<simul>', 'noteD5_1/2', 'noteC4_1/2', '</simul>', 'noteG5_1/4', '<simul>', 'noteG5_1', 'noteE-3_1/2', 'noteA3_1/2', 'noteC4_1/2', '</simul>', 'noteE5_1/4', '<simul>', 'noteC#4_1/2', 'noteF#4_1/2', 'noteA4_1/2', 'noteB-3_1/2', '</simul>', '<simul>', 'noteF#4_1/2', 'rest_1/2', '</simul>', '<simul>', 'noteB-4_1/2', 'noteC#5_1/2', 'noteB3_1/2', '</simul>', '<simul>', 'noteF5_1/2', 'noteC#5_1/2', '</simul>', '<simul>', 'noteF#3_2', 'noteB3_2', 'noteE2_2', '</simul>', 'noteF4_1/2', '<simul>', 'noteA4_2', 'noteC#3_1/2', '</simul>', 'noteB2_1/2', 'noteF4_1/2', 'noteG4_1/2', '<simul>', 'noteC#5_3', 'noteC5_2', 'rest_2', 'noteB-5_2', 'noteC4_2', '</simul>', 'noteE-4_1/2', 'noteF#4_1/2', 'noteB4_1/2', '<simul>', 'noteC#5_1', 'noteB-3_1', 'noteC#4_1', '</simul>', '<simul>', 'noteB3_1/2', 'noteD4_1/2', 'noteC3_1/2', '</simul>', '<simul>', 'noteC4_1/2', 'noteC#3_1/2', '</simul>', '<simul>', 'noteD4_1/2', 'noteB-3_1/2', '</simul>', '<simul>', 'noteG#3_1/2', 'noteA2_1/2', 'noteF3_1/2', 'noteG3_1/2', '</simul>', '<simul>', 'noteA4_1/2', 'noteC4_1/2', '</simul>', '<simul>', 'noteG#5_1/2', 'noteC4_1/2', 'rest_1', 'rest_1', '</simul>', 'noteF3_1/2', '<simul>', 'noteC5_1', 'noteC6_1', 'noteE6_1', 'noteG5_1/2', 'noteC#5_1/2', 'noteF#5_1/2', 'noteF3_1/2', '</simul>', '<simul>', 'noteD5_1/2', 'noteG#3_1/2', 'noteE4_1/2', 'noteE-4_1/2', '</simul>', '<simul>', 'noteA3_1/2', 'noteC4_1/2', 'noteE4_1/2', 'noteA2_1/2', 'noteC3_1/2', '</simul>', '<simul>', 'noteA4_1', 'noteC5_1', 'rest_3/2', 'noteC#4_1', 'noteE4_1', 'noteA4_1', 'noteC#4_1', '</simul>', 'noteE3_1/2', '<simul>', 'noteF3_1/2', 'noteE-4_1/2', 'noteA3_1/2', 'noteC4_1/2', '</simul>', '<simul>', 'noteF4_1/2', 'noteG#4_1/2', 'noteB2_1/2', 'noteD3_1/2', 'rest_1/2', '</simul>', '<simul>', 'rest_1/2', 'noteD2_1/2', 'noteD3_1/2', '</simul>', '<simul>', 'noteE-4_1/2', 'noteE-3_1/2', '</simul>', '<simul>', 'noteE-3_1/2', 'noteF2_1/2', 'noteF3_1/2', '</simul>', '<simul>', 'noteA3_1/2', 'noteC4_1/2', '</simul>', '<simul>', 'noteC3_1/2', 'noteB2_1/2', '</simul>', '<simul>', 'rest_7/8', 'noteB-1_1', '</simul>', '<simul>', 'noteC5_171/512', 'rest_0', 'rest_319/160', '</simul>', 'noteE-4_1/4', 'noteG#4_1/4', 'noteF3_1/4', 'noteG#2_1/16', 'noteD4_1/4', 'noteE4_1/4', 'noteB4_1/4', '<simul>', 'noteG4_1', 'noteG5_1', 'noteC6_1', '</simul>', 'noteG4_1/4', '<simul>', 'noteE6_1', 'noteF4_3/2', 'noteC#3_3', 'noteA3_2', 'noteF2_3/2', 'noteF#3_1', '</simul>', 'noteC5_1/4', 'noteF1_1/12', 'noteG4_1/4', '<simul>', 'noteA4_1/4', 'noteF4_1', 'noteC5_1', 'noteE2_1', 'noteD3_2', '</simul>', 'noteE-4_1/4', 'noteB-4_1/4', 'noteB4_1/4', 'noteB-5_1/16', '<simul>', 'noteB-4_1', 'noteF#5_1/2', 'noteB4_1/4', 'noteG3_1/4', '</simul>', '<simul>', 'noteE5_1', 'noteF5_1/4', 'noteD3_1/2', '</simul>', '<simul>', 'rest_1/4', 'noteB3_1/4', '</simul>', '<simul>', 'rest_2', 'noteB3_1/4', 'rest_1', 'noteF#2_3', '</simul>', 'noteG4_1/4', 'noteE-4_1/4', 'noteC4_1/4', '<simul>', 'noteF#5_1/4', 'noteB3_1/2', '</simul>', 'noteC4_1/4', 'noteF4_1/4', 'noteD4_1/4', '<simul>', 'noteF#4_1/2', 'noteD4_1/4', 'noteB2_1/2', '</simul>', 'noteG3_1/4', '<simul>', 'noteA4_1/4', 'noteB-3_1/4', 'noteD3_1/4', '</simul>', '<simul>', 'noteA4_1/4', 'noteE-4_1/4', '</simul>', 'noteA3_1/4', '<simul>', 'noteE5_1/4', 'noteD4_1/4', 'noteD3_2', '</simul>', 'noteG#5_1/4', 'noteC#5_1/4', 'noteB-4_1/4', 'noteC3_1', 'noteG#4_1/4', '<simul>', 'noteA4_1/4', 'noteF4_1/4', 'noteC#4_1/4', '</simul>', 'noteE-5_1/4', '<simul>', 'noteE-5_1/4', 'rest_1', '</simul>', 'noteB4_1/4', '<simul>', 'noteC5_1/4', 'noteD3_1/2', '</simul>', 'noteD6_1/4', '<simul>', 'noteG#3_1/4', 'noteB3_1/4', '</simul>', 'noteC#4_1/4', '<simul>', 'noteB3_1/4', 'noteF4_1/4', '</simul>', 'noteB3_1/4', '<simul>', 'noteB-3_1', 'noteF3_1/4', '</simul>', 'noteG#2_1/4', 'noteE4_1/4', 'noteF#4_1/4', 'noteD4_1/4', '<simul>', 'noteA4_1/4', 'noteC#4_1/4', '</simul>', 'noteF4_1/4', '<simul>', 'noteF5_1/4', 'noteD4_1/2', '</simul>', 'noteB-5_1/4', '<simul>', 'noteB-4_1/2', 'noteB4_1/4', 'noteB2_1/4', '</simul>', 'noteF3_1/4', '<simul>', 'noteG#3_1/4', 'noteG2_1/2', '</simul>', 'noteB-3_1/4', 'noteD4_1/4', '<simul>', 'noteF4_3', 'noteE4_2', 'noteG4_2', 'noteF3_1/2', '</simul>', 'noteF4_1/4', 'noteC#3_1/2', 'noteE-4_1/4', 'noteG4_1/4', '<simul>', 'noteD5_1/4', 'noteG4_1/4', '</simul>', 'noteG#4_1/4', 'noteC5_1/4', 'noteE-5_1/4', '<simul>', 'noteC5_1/4', 'noteA3_1/4', 'noteF3_1/2', '</simul>', 'noteG#4_1/4', '<simul>', 'noteE-4_1/4', 'noteC#4_1', 'noteC3_1', '</simul>', 'noteC#4_1/4', 'noteB3_1/4', 'noteC5_1/4', '<simul>', 'noteB-4_1/4', 'noteC4_1', 'noteE4_1', 'noteA2_1', 'noteA3_1', 'noteG3_3/2', '</simul>', 'noteE5_1/4', '<simul>', 'rest_1/2', 'noteB-2_1/2', '</simul>', '<simul>', 'noteD5_1/4', 'noteE4_1/4', 'noteC4_1/2', 'noteA2_2', '</simul>', 'noteC#6_1/4', '<simul>', 'noteB5_1/4', 'noteB-3_1/4', '</simul>', '<simul>', 'noteC5_1/4', 'noteF4_0', 'noteD4_2', 'noteF4_1/4', '</simul>', 'noteC4_1/4', 'noteF#4_1/4', 'noteF#5_1/4', '<simul>', '<simul>', 'noteC3_1', 'noteG3_1', '</simul>', 'noteG#5_1/4', 'noteG#5_1/4', 'noteF4_1/4', '<simul>', 'rest_1/4', 'noteE-4_1', 'noteE-4_3/2', 'noteE-3_3/4', '</simul>', 'noteE5_1/4', 'noteG#5_1/4', 'noteB-4_1/4', '<simul>']\n",
      "None\n"
     ]
    }
   ],
   "source": [
    "# this just grabs a random batch and performs on it\n",
    "for batch in validation_dataloader:\n",
    "    bleh = generate_music(model_rnn, batch[0][:4], temperature=1.0)\n",
    "    notes = [token_to_note[token] for token in bleh]\n",
    "    print(print(notes))\n",
    "    break"
   ]
  },
  {
   "cell_type": "code",
   "execution_count": 13,
   "metadata": {},
   "outputs": [],
   "source": [
    "torch.save(model_rnn.state_dict(), \"music_rnn_model.pth\")"
   ]
  },
  {
   "cell_type": "markdown",
   "metadata": {},
   "source": [
    "# LSTM"
   ]
  },
  {
   "cell_type": "code",
   "execution_count": null,
   "metadata": {},
   "outputs": [],
   "source": []
  },
  {
   "cell_type": "markdown",
   "metadata": {},
   "source": [
    "# Transformer"
   ]
  },
  {
   "cell_type": "markdown",
   "metadata": {},
   "source": [
    "YAYYYYYYYYY Transformer Time WOOOOOOOOO"
   ]
  },
  {
   "cell_type": "code",
   "execution_count": 8,
   "metadata": {},
   "outputs": [],
   "source": [
    "#  Model variables\n",
    "d_model = 128 # Embed Dim\n",
    "n_decoder_layers = 8 # lower if not that complex and wanting speedup\n",
    "n_heads = 8 # Number of Attention Heads\n",
    "d_ff = 512 # Feed Forward Dimensionality (AIAYN paper reccomends 4 times d_model size)\n",
    "learning_rate = 1e-4 # Maybe increase?\n",
    "num_epochs = 30 # Change this later so it doesn't take 10 years to run"
   ]
  },
  {
   "cell_type": "code",
   "execution_count": 9,
   "metadata": {},
   "outputs": [],
   "source": [
    "# Standard positonal encoding used here, could also try time encoding since notes have different timestamps\n",
    "class PositionalEncoding(nn.Module):\n",
    "    def __init__(self, d_model, win_len):\n",
    "        super(PositionalEncoding, self).__init__()\n",
    "        pe = torch.zeros(win_len, d_model) # (win_len, d_model)\n",
    "        position = torch.arange(0, win_len, dtype=torch_type).unsqueeze(1) # (win_len, 1)\n",
    "        div_term = torch.exp(torch.arange(0, d_model, 2).float()*(-torch.log(torch.tensor(10000.0))/d_model)) # (d_model/2)\n",
    "        pe[:, 0::2] = torch.sin(position*div_term)\n",
    "        pe[:, 1::2] = torch.cos(position*div_term)\n",
    "        pe = pe.unsqueeze(0) # (1, win_len, d_model)\n",
    "        self.pe = pe.to(device)\n",
    "\n",
    "    def forward(self, x):\n",
    "        x = x + self.pe[:, :x.size(1), :]\n",
    "        return x\n",
    "\n",
    "\n",
    "# mask\n",
    "def generate_causal_mask(size):\n",
    "    # size should be target size\n",
    "    mask = torch.triu(torch.ones(size, size, device=device), diagonal=1)\n",
    "    mask = mask.masked_fill(mask == 1, float('-inf'))\n",
    "    '''\n",
    "    [0, -inf, -inf, -inf]\n",
    "    [0,   0,  -inf, -inf]\n",
    "    [0,   0,    0,  -inf]\n",
    "    [0,   0,    0,    0 ]\n",
    "    Yay for triangle masking\n",
    "    '''\n",
    "    return mask\n"
   ]
  },
  {
   "cell_type": "code",
   "execution_count": 10,
   "metadata": {},
   "outputs": [],
   "source": [
    "# Actual decoder\n",
    "class MusicTransformer(nn.Module):\n",
    "    def __init__(self, num_tokens, d_model=d_model, nhead=n_heads, dim_ff=d_ff, win_len=window_length, layers=n_decoder_layers):\n",
    "        super(MusicTransformer, self).__init__()\n",
    "        self.d_model = d_model\n",
    "        self.nheads = nhead\n",
    "        self.dim_ff = dim_ff\n",
    "        self.win_len = win_len\n",
    "        self.layers = layers\n",
    "\n",
    "        # pre-transformer\n",
    "        self.tok_embed = nn.Embedding(num_tokens, d_model)\n",
    "        self.pos_enc = PositionalEncoding(d_model, win_len)\n",
    "        self.out_proj = nn.Linear(d_model, num_tokens) # final projection for token prediction\n",
    "\n",
    "        # transformer part\n",
    "        decoder_layer = nn.TransformerDecoderLayer(d_model, nhead, dim_ff, batch_first=True)\n",
    "        self.decoder = nn.TransformerDecoder(decoder_layer, num_layers=self.layers)\n",
    "\n",
    "\n",
    "    def forward(self, x, tgt_mask=None):\n",
    "        '''\n",
    "        x is the tokenized notes  # (batch_size, win_len)\n",
    "        tgt_mask masks the predictions\n",
    "        '''\n",
    "\n",
    "        x_seq = self.tok_embed(x) # (batch_size, 1, d_model)\n",
    "        x_seq = self.pos_enc(x_seq) # (batch_size, 1, d_model)\n",
    "\n",
    "        decoder_output = self.decoder(x_seq, x_seq, tgt_mask=tgt_mask) # (batch_size, win_len, d_model)\n",
    "        pred = self.out_proj(decoder_output) # (batch, win_len, num_tokens) \n",
    "      \n",
    "        return pred\n",
    "\n"
   ]
  },
  {
   "cell_type": "code",
   "execution_count": 11,
   "metadata": {},
   "outputs": [
    {
     "name": "stdout",
     "output_type": "stream",
     "text": [
      "Epoch: [1/30]   Epoch Average Loss: 4.810683313681155\n",
      "Validation Loss: 4.048098774843438\n",
      "Epoch: [2/30]   Epoch Average Loss: 3.8210270456948017\n",
      "Validation Loss: 3.587514184242071\n",
      "Epoch: [3/30]   Epoch Average Loss: 3.5029922275431997\n",
      "Validation Loss: 3.3517718218093693\n",
      "Epoch: [4/30]   Epoch Average Loss: 3.296694729835577\n",
      "Validation Loss: 3.1437740325927734\n",
      "Epoch: [5/30]   Epoch Average Loss: 3.1002397811795115\n",
      "Validation Loss: 2.9561192850733913\n",
      "Epoch: [6/30]   Epoch Average Loss: 2.939703649404098\n",
      "Validation Loss: 2.806815740674041\n",
      "Epoch: [7/30]   Epoch Average Loss: 2.805984321558093\n",
      "Validation Loss: 2.674182098965312\n",
      "Epoch: [8/30]   Epoch Average Loss: 2.68709786258008\n",
      "Validation Loss: 2.551891703938329\n",
      "Epoch: [9/30]   Epoch Average Loss: 2.578559364591326\n",
      "Validation Loss: 2.4392667052357697\n",
      "Epoch: [10/30]   Epoch Average Loss: 2.4790432126459505\n",
      "Validation Loss: 2.3372261898462163\n",
      "Epoch: [11/30]   Epoch Average Loss: 2.3920088419066228\n",
      "Validation Loss: 2.2467132827570273\n",
      "Epoch: [12/30]   Epoch Average Loss: 2.314699525388267\n",
      "Validation Loss: 2.1654180198214776\n",
      "Epoch: [13/30]   Epoch Average Loss: 2.2458724824402143\n",
      "Validation Loss: 2.095848536768625\n",
      "Epoch: [14/30]   Epoch Average Loss: 2.1831136276353553\n",
      "Validation Loss: 2.0279698448125707\n",
      "Epoch: [15/30]   Epoch Average Loss: 2.1251411394544664\n",
      "Validation Loss: 1.964462166608766\n",
      "Epoch: [16/30]   Epoch Average Loss: 2.0719572164921995\n",
      "Validation Loss: 1.9063136147898296\n",
      "Epoch: [17/30]   Epoch Average Loss: 2.0221608119525296\n",
      "Validation Loss: 1.8555685371853585\n",
      "Epoch: [18/30]   Epoch Average Loss: 1.976353214711559\n",
      "Validation Loss: 1.8058830458064412\n",
      "Epoch: [19/30]   Epoch Average Loss: 1.9332563413127866\n",
      "Validation Loss: 1.7564936453519866\n",
      "Epoch: [20/30]   Epoch Average Loss: 1.8928789032443967\n",
      "Validation Loss: 1.7108579423538475\n",
      "Epoch: [21/30]   Epoch Average Loss: 1.8543766743935233\n",
      "Validation Loss: 1.6695472882237545\n",
      "Epoch: [22/30]   Epoch Average Loss: 1.8180083378758445\n",
      "Validation Loss: 1.6257557993711427\n",
      "Epoch: [23/30]   Epoch Average Loss: 1.7830906890919187\n",
      "Validation Loss: 1.5884319793346315\n",
      "Epoch: [24/30]   Epoch Average Loss: 1.7500259758084578\n",
      "Validation Loss: 1.5484354828679285\n",
      "Epoch: [25/30]   Epoch Average Loss: 1.7180993039128385\n",
      "Validation Loss: 1.5135479527850484\n",
      "Epoch: [26/30]   Epoch Average Loss: 1.687429049793555\n",
      "Validation Loss: 1.4792599740416505\n",
      "Epoch: [27/30]   Epoch Average Loss: 1.6577639147074508\n",
      "Validation Loss: 1.445861185705939\n",
      "Epoch: [28/30]   Epoch Average Loss: 1.6295213787965803\n",
      "Validation Loss: 1.4107953150605046\n",
      "Epoch: [29/30]   Epoch Average Loss: 1.6020960018864179\n",
      "Validation Loss: 1.3791764711224757\n",
      "Epoch: [30/30]   Epoch Average Loss: 1.5750350979952354\n",
      "Validation Loss: 1.3477486080901568\n"
     ]
    },
    {
     "data": {
      "image/png": "[encoded data removed]",
      "text/plain": [
       "<Figure size 800x600 with 1 Axes>"
      ]
     },
     "metadata": {},
     "output_type": "display_data"
    }
   ],
   "source": [
    "my_mask = generate_causal_mask(window_length) # win_len by win_len mask\n",
    "\n",
    "# Create model\n",
    "num_tokens = vocab_len\n",
    "model = MusicTransformer(num_tokens, d_model, n_heads, d_ff, window_length, n_decoder_layers).to(device)\n",
    "\n",
    "# Use Adam cause he's so cool\n",
    "optimizer = Adam(model.parameters(), lr=learning_rate)\n",
    "criterion = nn.CrossEntropyLoss()\n",
    "\n",
    "transformer_train_losses = []\n",
    "transformer_valid_losses = []\n",
    "\n",
    "# Training loop\n",
    "for epoch in range(num_epochs):\n",
    "    model.train()\n",
    "    epoch_loss = 0 # cumalative loss\n",
    "\n",
    "    # Cycle through each batch\n",
    "    for batch in training_dataloader:\n",
    "        inp = batch[:, :-1] # grabs all but last\n",
    "        tgt = batch[:, 1:] # grabs all except first (shifted once)\n",
    "\n",
    "\n",
    "        optimizer.zero_grad()\n",
    "        # Pass through model\n",
    "        output = model(inp)\n",
    "        # Determine loss\n",
    "        loss = criterion(output.contiguous().view(-1, num_tokens), tgt.reshape(-1))\n",
    "        # Update weights\n",
    "        loss.backward()\n",
    "        optimizer.step()\n",
    "        # Add to epoch_loss\n",
    "        epoch_loss += loss.item()\n",
    "\n",
    "    # Now show average loss for epoch\n",
    "    avg_epoch_loss = epoch_loss / len(training_dataloader)\n",
    "    transformer_train_losses.append(avg_epoch_loss)\n",
    "    print(f\"Epoch: [{epoch+1}/{num_epochs}]   Epoch Average Loss: {avg_epoch_loss}\")\n",
    "\n",
    "\n",
    "\n",
    "    # Validation\n",
    "    model.eval()\n",
    "    valid_loss = 0 # cumalative loss\n",
    "\n",
    "    # Cycle through each batch\n",
    "    for batch in validation_dataloader:\n",
    "        inp = batch[:, :-1] # grabs all but last\n",
    "        tgt = batch[:, 1:] # grabs all except first (shifted once)\n",
    "\n",
    "        # Pass through model\n",
    "        output = model(inp)\n",
    "        # Determine loss\n",
    "        loss = criterion(output.view(-1, num_tokens), tgt.reshape(-1))\n",
    "        valid_loss += loss.item()\n",
    "    # Now show average loss for \n",
    "    avg_epoch_loss = valid_loss / len(validation_dataloader)\n",
    "    transformer_valid_losses.append(avg_epoch_loss)\n",
    "    print(f\"Validation Loss: {avg_epoch_loss}\")\n",
    "\n",
    "\n",
    "\n",
    "\n",
    "Display_Plot(train_loss=transformer_train_losses, valid_loss=transformer_valid_losses, model_name=\"Transformer Music\")"
   ]
  },
  {
   "cell_type": "code",
   "execution_count": 12,
   "metadata": {},
   "outputs": [
    {
     "name": "stderr",
     "output_type": "stream",
     "text": [
      "/tmp/ipykernel_890141/2880647662.py:6: UserWarning: To copy construct from a tensor, it is recommended to use sourceTensor.clone().detach() or sourceTensor.clone().detach().requires_grad_(True), rather than torch.tensor(sourceTensor).\n",
      "  predicted_tokens = torch.tensor(start_tokens).clone().detach().unsqueeze(0) # (1, len(start_tokens))\n"
     ]
    },
    {
     "name": "stdout",
     "output_type": "stream",
     "text": [
      "['</simul>', '<simul>', 'noteF#5_1/3', 'noteF#6_1/3', 'noteB3_3', 'noteB4_1/2', '</simul>', '<simul>', 'noteC#5_2', 'noteF#4_2/3', 'noteC#5_2', 'noteF#4_2/3', 'noteG#4_2/3', '<simul>', 'noteB4_2/3', 'noteG#4_2/3', 'rest_1/3', 'noteC#2_1', 'noteC#4_2/3', 'noteG#4_2/3', 'noteG#4_2/3', 'noteG#4_2/3', 'noteG#4_2/3', 'noteG#4_2/3', 'noteG#4_2/3', 'noteC#5_2/3', 'noteC#4_2/3', 'noteG#4_2/3', 'noteB-4_2/3', 'noteC#4_2/3', 'noteB-4_2/3', 'noteG#4_2/3', 'noteC#5_2/3', 'noteC#4_2/3', 'noteG#4_2/3', 'noteC#5_2/3', 'noteC#4_2/3', 'noteG#4_2/3', 'noteC#5_2/3', 'noteC#4_2/3', 'noteG#4_2/3', 'noteG#4_2/3', 'noteB-4_2/3', 'noteG#4_2/3', 'noteC#4_2/3', 'noteG#4_2/3', 'noteG#4_2/3', 'noteG#4_2/3', '</simul>', '<simul>', 'noteC#4_2/3', '</simul>', '<simul>', 'noteC#4_2/3', 'noteG#4_2/3', 'noteG#4_2/3', '</simul>', '<simul>', 'noteC#4_2/3', 'noteG#4_2/3', 'noteG#4_2/3', 'noteB-4_2/3', '<simul>', 'noteC#4_2/3', '</simul>', '<simul>', 'noteC#4_2/3', '</simul>', '<simul>', 'noteG#1_1/3', '</simul>', '<simul>', 'noteE-5_2/3', 'noteC#3_2/3', '</simul>', '<simul>', 'noteC#4_2/3', '</simul>', '<simul>', 'noteC#4_2/3', '</simul>', '<simul>', 'noteC#6_2/3', '</simul>', '<simul>', 'noteG#4_2/3', '</simul>', '<simul>', 'noteC#4_2/3', '</simul>', '<simul>', 'noteC#4_2/3', '</simul>', '<simul>', 'noteC#4_2/3', '</simul>', '<simul>', 'noteG#3_2/3', 'noteE-4_2/3', '</simul>', '<simul>', 'noteC#4_2/3', '</simul>', '<simul>', 'noteG5_2/3', '</simul>', '<simul>', 'noteC#4_2/3', '</simul>', '<simul>', 'noteC#4_2/3', '</simul>', '<simul>', 'noteC#4_2/3', '</simul>', '<simul>', 'rest_1/16', '</simul>', '<simul>', 'noteC#4_2/3', '</simul>', '<simul>', 'noteE4_2/3', '</simul>', '<simul>', 'noteC#4_2/3', 'noteB-4_2/3', '</simul>', '<simul>', 'noteG#4_1/4', '</simul>', '<simul>', 'noteE4_2/3', '</simul>', '<simul>', 'noteC#4_2/3', '</simul>', '<simul>', 'noteC#4_2/3', '</simul>', '<simul>', 'noteC#4_2/3', '</simul>', '<simul>', 'noteC#4_2/3', '</simul>', '<simul>', '</simul>', '<simul>', 'noteC#4_2/3', '</simul>', '<simul>', 'noteC#4_2/3', '</simul>', '<simul>', 'noteC#4_2/3', '</simul>', '<simul>', 'noteC#4_2/3', 'noteC#5_2/3', '</simul>', '<simul>', 'noteC#4_2/3', '</simul>', '<simul>', '<simul>', '<simul>', 'noteC#4_2/3', '</simul>', '<simul>', 'rest_1', '</simul>', '<simul>', 'noteC#4_2/3', '</simul>', '<simul>', 'noteG#2_2/3', '</simul>', '<simul>', 'noteC#4_2/3', '</simul>', '<simul>', 'noteC#4_2/3', '</simul>', '<simul>', 'noteG#3_2/3', '<simul>', 'noteC#4_2/3', '</simul>', '<simul>', 'noteC#4_2/3', '</simul>', '<simul>', 'noteC#4_2/3', '</simul>', '<simul>', '<simul>', 'rest_1/2', '</simul>', '<simul>', 'noteC#6_1/2', '</simul>', '<simul>', 'noteC#6_1/2', '</simul>', '<simul>', 'rest_1/2', '</simul>', '<simul>', 'noteC#6_1/2', '</simul>', '<simul>', 'noteC#6_1/2', '</simul>', '<simul>', 'noteC#6_1/2', 'noteC#6_1/2', '</simul>', '<simul>', 'noteC#6_1/2', 'noteC#6_1/2', 'noteF6_1/2', 'noteC#6_1/2', 'noteC#6_1/2', 'noteC#6_1/2', 'noteC#6_1/2', 'noteC#6_1/2', 'noteC#6_1/2', 'noteC#6_1/2', 'noteC#6_1/2', 'noteC#6_1/2', 'noteC#6_1/2', '</simul>', '<simul>', 'noteC#6_1/2', 'noteC#6_1/2', 'noteC#6_1/2', 'noteC#6_1/2', 'noteC#6_1/2', 'noteC#6_1/2', 'noteC#6_1/2', 'noteC#6_1/2', 'noteC#6_1/2', 'noteC#6_1/2', 'noteC#6_1/2', 'noteC#6_1/2', 'noteC#6_1/2', 'noteC#6_1/2', 'noteC#6_1/2', 'noteC#6_1/2', 'noteC#6_1/2', 'noteC#6_1/2', 'noteC#6_1/2', 'noteC#6_1/2', 'noteC#6_1/2', 'noteC#6_1/2', 'noteC#6_1/2', 'noteC#6_1/2', 'noteC#6_1/2', 'noteC#6_1/2', 'noteC#6_1/2', 'noteC#6_1/2', 'noteC#6_1/2', 'noteC#6_1/2', 'noteC#6_1/2', 'noteC#6_1/2', 'noteC#6_1/2', 'noteC#6_1/2', 'noteC#6_1/2', 'noteC#6_1/2', 'noteC#6_1/2', 'noteC#6_1/2', 'noteC#6_1/2', 'noteC#6_1/2', 'noteC#6_1/2', 'noteC#6_1/2', 'noteC#6_1/2', 'noteC#6_1/2', 'noteC#6_1/2', 'noteC#6_1/2', 'noteC#6_1/2', 'noteC#6_1/2', 'noteC#6_1/2', 'noteC#6_1/2', 'noteC#6_1/2', 'noteC#6_1/2', 'noteC#6_1/2', 'noteC#6_1/2', 'noteC#6_1/2', 'noteC#6_1/2', 'noteC#6_1/2', 'noteC#6_1/2', 'noteC#6_1/2', 'noteC#6_1/2', 'noteC#6_1/2', 'noteC#6_1/2', 'noteC#6_1/2', 'noteC#6_1/2', 'noteC#6_1/2', 'noteC#6_1/2', 'noteC#6_1/2', 'noteC#6_1/2', 'noteC#6_1/2', 'noteC#6_1/2', 'noteC#6_1/2', 'noteC#6_1/2', 'noteC#6_1/2', 'noteC#6_1/2', 'noteC#6_1/2', 'noteC#6_1/2', 'noteC#6_1/2', 'noteC#6_1/2', 'noteC#6_1/2', 'noteC#6_1/2', 'noteC#6_1/2', 'noteC#6_1/2', 'noteC#6_1/2', 'noteC#6_1/2', 'noteC#6_1/2', 'noteC#6_1/2', 'noteC#6_1/2', 'noteC#6_1/2', 'noteC#6_1/2', 'noteC#6_1/2', 'noteC#6_1/2', 'noteC#6_1/2', 'noteC#6_1/2', 'noteC#6_1/2', 'noteC#6_1/2', 'noteC#6_1/2', 'noteC#6_1/2', 'noteC#6_1/2', 'noteC#6_1/2', 'noteC#6_1/2', 'noteC#6_1/2', 'noteC#6_1/2', 'noteC#6_1/2', 'noteC#6_1/2', 'noteC#6_1/2', 'noteC#6_1/2', 'noteC#6_1/2', 'noteC#6_1/2', 'noteC#6_1/2', 'noteC#6_1/2', 'noteC#6_1/2', '</simul>', 'noteC#6_1/2', 'noteC#6_1/2', 'noteC#6_1/2', 'noteD3_2/3', 'noteF#3_2/3', 'noteF#2_1/2', '</simul>', 'noteC#4_2/3', '</simul>', 'noteF#2_1', '</simul>', 'noteG#4_2/3', 'rest_1/2', 'rest_1/2', 'rest_1/2', 'rest_1/2', 'rest_1/2', 'rest_1/2', '</simul>', '<simul>', 'rest_1/2', 'rest_1/2', 'rest_1/2', 'rest_1/2', 'rest_1/2', 'rest_1/2', 'rest_1/2', 'rest_1/2', 'rest_1/2', '</simul>', 'rest_1/2', 'rest_1/2', 'rest_1/2', 'rest_1/2', 'rest_1/2', '</simul>', '<simul>', 'rest_1/2', 'rest_1/2', 'rest_1/2', 'rest_1/2', 'rest_1/2', 'rest_1/2', 'rest_1/2', 'rest_1/2', 'rest_1/2', 'rest_1/2', 'rest_1/2', 'rest_1/2', 'rest_1/2', 'rest_1/2', 'rest_1/2', 'rest_1/2', 'rest_1/2', 'rest_1/2', 'rest_1/2', 'rest_1/2', 'rest_1/2', 'rest_1/2', 'rest_1/2', 'rest_1/2', 'rest_1/2', 'rest_1/2', 'rest_1/2', 'rest_1/2', 'rest_1/2', 'rest_1/2', 'rest_1/2', 'rest_1/2', 'rest_1/2', 'rest_1/2', 'rest_1/2', 'rest_1/2', 'rest_1/2', 'rest_1/2', 'rest_1/2', 'rest_1/2', 'rest_1/2', 'rest_1/2', 'rest_1/2', 'rest_1/2', 'rest_1/2', 'rest_1/2', 'rest_1/2', 'rest_1/2', 'rest_1/2', 'rest_1/2', 'rest_1/2', 'rest_1/2', 'rest_1/2', 'rest_1/2', 'rest_1/2', 'rest_1/2', 'rest_1/2', 'rest_1/2', 'rest_1/2', 'rest_1/2', 'rest_1/2', 'rest_1/2', 'rest_1/2', 'rest_1/2', 'rest_1/2', 'rest_1/2', 'rest_1/2', 'rest_1/2', 'rest_1/2', 'rest_1/2', 'rest_1/2', 'rest_1/2', 'rest_1/2', 'rest_1/2', 'rest_1/2', 'rest_1/2', 'rest_1/2', 'rest_1/2', 'rest_1/2', 'rest_1/2', 'rest_1/2', 'rest_1/2', 'rest_1/2', 'rest_1/2', 'rest_1/2', 'rest_1/2', 'rest_1/2', 'rest_1/2', 'rest_1/2', 'rest_1/2', 'rest_1/2', 'rest_1/2', 'rest_1/2', 'rest_1/2', 'rest_1/2', 'rest_1/2', 'rest_1/2', 'rest_1/2', 'rest_1/2', 'rest_1/2', 'rest_1/2', 'rest_1/2', 'rest_1/2', 'rest_1/2', 'rest_1/2', 'rest_1/2', 'rest_1/2', 'rest_1/2', 'rest_1/2', 'rest_1/2', 'rest_1/2', 'rest_1/2', 'rest_1/2', 'rest_1/2', 'rest_1/2', 'rest_1/2', 'rest_1/2', 'rest_1/2', 'rest_1/2', 'rest_1/2', 'rest_1/2', 'rest_1/2', 'rest_1/2', 'rest_1/2', 'rest_1/2', 'rest_1/2', 'rest_1/2', 'rest_1/2', 'rest_1/2', 'rest_1/2', 'rest_1/2', 'rest_1/2', 'rest_1/2', 'rest_1/2', 'rest_1/2', 'rest_1/2', 'rest_1/2', 'rest_1/2', 'rest_1/2', 'rest_1/2', 'rest_1/2', 'rest_1/2', 'rest_1/2', 'rest_1/2', 'rest_1/2', 'rest_1/2', 'rest_1/2', 'rest_1/2', 'rest_1/2', 'rest_1/2', 'rest_1/2', 'rest_1/2', 'rest_1/2', 'rest_1/2', 'rest_1/2', 'rest_1/2', 'rest_1/2', 'rest_1/2', 'rest_1/2', 'rest_1/2', 'rest_1/2', 'rest_1/2', 'rest_1/2', 'rest_1/2', 'rest_1/2', 'rest_1/2', 'rest_1/2', 'rest_1/2', 'rest_1/2', 'rest_1/2', 'rest_1/2', 'rest_1/2', 'rest_1/2', 'rest_1/2', 'rest_1/2', 'rest_1/2', 'rest_1/2', 'rest_1/2', 'rest_1/2', 'rest_1/2', 'rest_1/2', 'rest_1/2', 'rest_1/2', 'rest_1/2', 'rest_1/2', 'rest_1/2', 'rest_1/2', 'rest_1/2', 'rest_1/2', 'rest_1/2', 'rest_1/2', 'rest_1/2', 'rest_1/2', 'rest_1/2', 'rest_1/2', 'rest_1/2', 'rest_1/2', 'rest_1/2', 'rest_1/2', 'rest_1/2', 'rest_1/2', 'rest_1/2', 'rest_1/2', 'rest_1/2', 'rest_1/2', 'rest_1/2', 'rest_1/2', 'rest_1/2', 'rest_1/2', 'rest_1/2', 'rest_1/2', 'rest_1/2', 'rest_1/2', 'rest_1/2', 'rest_1/2', 'rest_1/2', 'rest_1/2', 'rest_1/2', 'rest_1/2', 'rest_1/2', 'rest_1/2', 'rest_1/2', 'rest_1/2', 'rest_1/2', 'noteB-5_1', 'rest_1/2', 'rest_1/2', 'rest_1/2', 'rest_1/2', 'rest_1/2', 'rest_1/2', 'rest_1/2', 'rest_1/2', 'rest_1/2', 'rest_1/2', 'rest_1/2', 'rest_1/2', 'rest_1/2', 'rest_1/2', 'rest_1/2', 'rest_1/2', 'rest_1/2', 'rest_1/2', 'rest_1/2', 'rest_1/2', 'rest_1/2', 'rest_1/2', 'rest_1/2', 'rest_1/2', 'rest_1/2', 'rest_1/2', 'rest_1/2', 'rest_1/2', 'rest_1/2', 'rest_1/2', 'rest_1/2', 'rest_1/2', 'rest_1/2', 'rest_1/2', 'rest_1/2', 'rest_1/2', 'rest_1/2', 'rest_1/2', 'rest_1/2', 'rest_1/2', 'rest_1/2', 'rest_1/2', 'rest_1/2', '</simul>', 'noteB-3_1', 'rest_1/2', 'rest_1/2', 'rest_1/2', 'rest_1/2', 'rest_1/2', 'rest_1/2', 'rest_1/2', 'rest_1/2', 'rest_1/2', 'rest_1/2', 'rest_1/2', 'rest_1/2', 'rest_1/2', 'rest_1/2', 'rest_1/2', 'rest_1/2', 'rest_1/2', 'rest_1/2', '</simul>', 'noteF5_3/16', 'noteF3_2', 'rest_1/2', 'rest_1/2', 'rest_1/2', 'rest_1/2', 'rest_1/2', 'rest_1/2', 'rest_1/2', 'noteC6_2', 'rest_3/2', 'rest_1/2', 'rest_1/2', 'rest_1/2', 'rest_1/2', 'rest_1/2', 'rest_1/2', 'rest_1/2', 'rest_1/2', 'rest_1/2', '</simul>', 'noteB-5_1', 'rest_1/2', 'rest_1/2', 'rest_1/2', '</simul>', 'noteB-5_1', '</simul>', 'noteB-5_1/2', 'rest_1/2', 'rest_1/2', 'rest_1/2', 'rest_1/2', 'rest_1/2', 'rest_1/2', 'rest_1/2', 'rest_1/2', 'rest_1/2', 'rest_1/2', '</simul>', 'noteB-5_1', 'rest_1/2', '</simul>', 'noteB-5_1/2', '</simul>', 'noteB-5_1', 'noteB-5_1', 'noteB-5_1/2', 'noteB-5_1', 'rest_1/2', 'rest_1/2', '</simul>', 'noteF3_1/6', 'noteF3_2', '</simul>', 'noteF3_1/6', '</simul>', 'noteF5_3/16', '</simul>', 'noteC3_1/6', '</simul>', 'noteF3_1/6', '</simul>', 'noteB-3_1/6', '</simul>', 'noteF3_1/6', '</simul>', 'noteF3_1/6', 'noteC#3_2', '</simul>', '<simul>', 'noteC#3_1/3', '</simul>', 'noteF3_1/6', 'noteB-3_1/4', 'noteF3_1/6', 'noteF3_2', '</simul>', 'noteF3_1/6', 'noteF3_1/6', 'noteF3_1/6', '</simul>', 'noteF3_1/6', '</simul>', 'noteF3_1/6', 'noteF3_1/6', 'noteF3_1/6', '</simul>', 'noteF3_1/6', '</simul>', 'noteF3_1/6', '</simul>', 'noteF3_1/6', '</simul>', 'noteF3_1/6', 'rest_1/2', 'rest_1/2', 'rest_1/2', 'rest_1/2', 'rest_1/2', 'rest_1/2', 'rest_1/2', 'rest_1/2', 'rest_1/2', 'rest_1/2', 'rest_1/2', 'rest_1/2', 'rest_1/2', 'rest_1/2', 'rest_1/2', 'rest_1/2', 'rest_1/2', 'rest_1/2', 'rest_1/2', 'rest_1/2', 'rest_1/2', 'rest_1/2', 'rest_1/2', 'rest_1/2', 'rest_1/2', 'rest_1/2', 'rest_1/2', 'rest_1/2', 'rest_1/2', 'rest_1/2', 'rest_1/2', 'rest_1/2', 'rest_1/2', 'rest_1/2', 'rest_1/2', 'rest_1/2', 'rest_1/2', 'rest_1/2', 'rest_1/2', 'rest_1/2', 'rest_1/2', 'rest_1/2', 'rest_1/2', 'rest_1/2', 'rest_1/2', 'rest_1/2', 'rest_1/2', 'rest_1/2', 'rest_1/2', 'rest_1/2', 'rest_1/2', 'rest_1/2', 'rest_1/2', 'rest_1/2', 'rest_1/2', 'rest_1/2', 'rest_1/2', 'rest_1/2', 'rest_1/2', 'rest_1/2', 'rest_1/2', 'rest_1/2', 'rest_1/2', 'rest_1/2', 'rest_1/2', 'rest_1/2', 'rest_1/2', 'rest_1/2', 'rest_1/2', 'rest_1/2', 'rest_1/2', 'rest_1/2', 'rest_1/2', 'rest_1/2', 'rest_1/2', 'rest_1/2', 'rest_1/2', 'rest_1/2', 'rest_1/2', 'rest_1/2', 'rest_1/2', 'rest_1/2', 'rest_1/2', 'rest_1/2', 'rest_1/2', 'rest_1/2', 'rest_1/2', 'rest_1/2', 'rest_1/2', 'rest_1/2', 'rest_1/2', 'rest_1/2', 'rest_1/2', 'rest_1/2', 'rest_1/2', 'rest_1/2', 'rest_1/2', 'rest_1/2', 'rest_1/2', 'rest_1/2', 'rest_1/2', 'rest_1/2', 'rest_1/2', 'rest_1/2', 'rest_1/2', 'rest_1/2', 'rest_1/2', 'rest_1/2', 'rest_1/2', 'rest_1/2', 'rest_1/2', 'rest_1/2', 'rest_1/2', 'rest_1/2', 'rest_1/2', 'rest_1/2', 'rest_1/2', 'rest_1/2', 'rest_1/2', 'rest_1/2', 'rest_1/2', 'rest_1/2', 'rest_1/2', 'rest_1/2', 'rest_1/2', 'rest_1/2', 'rest_1/2', 'rest_1/2', 'rest_1/2', 'rest_1/2', 'rest_1/2', 'rest_1/2', 'rest_1/2', 'rest_1/2', 'rest_1/2', 'rest_1/2', 'rest_1/2', 'rest_1/2', 'rest_1/2', 'rest_1/2', 'rest_1/2', 'rest_1/2', 'rest_1/2', 'rest_1/2', 'rest_1/2', 'rest_1/2', 'rest_1/2', 'rest_1/2', 'rest_1/2', 'rest_1/2', 'rest_1/2', 'rest_1/2', 'rest_1/2', 'rest_1/2', 'rest_1/2', 'rest_1/2', 'rest_1/2', 'rest_1/2', 'rest_1/2', 'rest_1/2', 'rest_1/2', 'rest_1/2', 'rest_1/2', 'rest_1/2', 'rest_1/2', 'rest_1/2', 'rest_1/2', 'rest_1/2', 'rest_1/2', 'rest_1/2', 'rest_1/2', 'rest_1/2', 'rest_1/2', 'rest_1/2', 'rest_1/2', 'rest_1/2', 'rest_1/2', 'rest_1/2', 'rest_1/2', 'rest_1/2', 'rest_1/2', 'rest_1/2', 'rest_1/2', 'rest_1/2', 'rest_1/2', 'rest_1/2', 'rest_1/2', 'rest_1/2', 'rest_1/2', 'rest_1/2', 'rest_1/2', 'rest_1/2', 'rest_1/2', 'rest_1/2', 'rest_1/2', 'rest_1/2', 'rest_1/2', 'rest_1/2', 'rest_1/2', 'rest_1/2', 'rest_1/2', 'rest_1/2', 'rest_1/2', 'rest_1/2', 'rest_1/2', 'rest_1/2', 'rest_1/2', 'rest_1/2', 'rest_1/2', 'rest_1/2', 'rest_1/2', 'rest_1/2', 'rest_1/2', 'rest_1/2', 'rest_1/2', 'rest_1/2', 'rest_1/2', 'rest_1/2', 'rest_1/2', 'rest_1/2', 'rest_1/2', 'rest_1/2', 'rest_1/2', 'rest_1/2', 'rest_1/2', 'rest_1/2', 'rest_1/2', 'rest_1/2', 'rest_1/2', 'rest_1/2', 'rest_1/2', 'rest_1/2', 'rest_1/2', 'rest_1/2', 'rest_1/2', 'rest_1/2', 'rest_1/2', 'rest_1/2', 'rest_1/2', 'rest_1/2', 'rest_1/2', 'rest_1/2', 'rest_1/2', 'rest_1/2', 'rest_1/2', 'rest_1/2', 'rest_1/2', 'rest_1/2', 'noteB4_1/2', 'rest_1/2', 'rest_1/2', 'rest_1/2', 'noteE-3_1', '</simul>', 'rest_1/2', 'rest_1/2', 'rest_1/2', 'rest_1/2', 'rest_1/2', 'rest_1/2', 'rest_1/2']\n",
      "None\n"
     ]
    }
   ],
   "source": [
    "# this just grabs a random batch and performs on it\n",
    "for batch in validation_dataloader:\n",
    "    bleh = generate_music(model, batch[0][:4], temperature=1.0)\n",
    "    notes = [token_to_note[token] for token in bleh]\n",
    "    print(print(notes))\n",
    "    break"
   ]
  },
  {
   "cell_type": "code",
   "execution_count": 13,
   "metadata": {},
   "outputs": [],
   "source": [
    "torch.save(model.state_dict(), \"music_transformer_model.pth\")"
   ]
  }
 ],
 "metadata": {
  "kernelspec": {
   "display_name": "base",
   "language": "python",
   "name": "python3"
  },
  "language_info": {
   "codemirror_mode": {
    "name": "ipython",
    "version": 3
   },
   "file_extension": ".py",
   "mimetype": "text/x-python",
   "name": "python",
   "nbconvert_exporter": "python",
   "pygments_lexer": "ipython3",
   "version": "3.11.5"
  }
 },
 "nbformat": 4,
 "nbformat_minor": 2
}
